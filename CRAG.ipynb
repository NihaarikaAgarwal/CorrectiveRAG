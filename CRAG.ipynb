{
  "nbformat": 4,
  "nbformat_minor": 0,
  "metadata": {
    "colab": {
      "provenance": [],
      "authorship_tag": "ABX9TyMd83hWIgANR8gXgqWp3P3E",
      "include_colab_link": true
    },
    "kernelspec": {
      "name": "python3",
      "display_name": "Python 3"
    },
    "language_info": {
      "name": "python"
    },
    "widgets": {
      "application/vnd.jupyter.widget-state+json": {
        "fe62d743a4024d358d64efdcac8ce2ab": {
          "model_module": "@jupyter-widgets/controls",
          "model_name": "HBoxModel",
          "model_module_version": "1.5.0",
          "state": {
            "_dom_classes": [],
            "_model_module": "@jupyter-widgets/controls",
            "_model_module_version": "1.5.0",
            "_model_name": "HBoxModel",
            "_view_count": null,
            "_view_module": "@jupyter-widgets/controls",
            "_view_module_version": "1.5.0",
            "_view_name": "HBoxView",
            "box_style": "",
            "children": [
              "IPY_MODEL_37819507532a4ce695e6165d449bd53b",
              "IPY_MODEL_a51360fba6c34d92a579544292ede000",
              "IPY_MODEL_8adcc5fcd9864587b35b87d6dbff7332"
            ],
            "layout": "IPY_MODEL_6e151ff2701a464db3dcad5e0cafe1ec"
          }
        },
        "37819507532a4ce695e6165d449bd53b": {
          "model_module": "@jupyter-widgets/controls",
          "model_name": "HTMLModel",
          "model_module_version": "1.5.0",
          "state": {
            "_dom_classes": [],
            "_model_module": "@jupyter-widgets/controls",
            "_model_module_version": "1.5.0",
            "_model_name": "HTMLModel",
            "_view_count": null,
            "_view_module": "@jupyter-widgets/controls",
            "_view_module_version": "1.5.0",
            "_view_name": "HTMLView",
            "description": "",
            "description_tooltip": null,
            "layout": "IPY_MODEL_5c095561fe384a3f82ff04571ccfcbce",
            "placeholder": "​",
            "style": "IPY_MODEL_bb6cfc028f0a48a9ae366ab754598e4b",
            "value": "Fetching 1 files: 100%"
          }
        },
        "a51360fba6c34d92a579544292ede000": {
          "model_module": "@jupyter-widgets/controls",
          "model_name": "FloatProgressModel",
          "model_module_version": "1.5.0",
          "state": {
            "_dom_classes": [],
            "_model_module": "@jupyter-widgets/controls",
            "_model_module_version": "1.5.0",
            "_model_name": "FloatProgressModel",
            "_view_count": null,
            "_view_module": "@jupyter-widgets/controls",
            "_view_module_version": "1.5.0",
            "_view_name": "ProgressView",
            "bar_style": "success",
            "description": "",
            "description_tooltip": null,
            "layout": "IPY_MODEL_58dc5e29f0174a3ca721797ec57b1c51",
            "max": 1,
            "min": 0,
            "orientation": "horizontal",
            "style": "IPY_MODEL_3f32d54fc0c74c35af7aef28b8096638",
            "value": 1
          }
        },
        "8adcc5fcd9864587b35b87d6dbff7332": {
          "model_module": "@jupyter-widgets/controls",
          "model_name": "HTMLModel",
          "model_module_version": "1.5.0",
          "state": {
            "_dom_classes": [],
            "_model_module": "@jupyter-widgets/controls",
            "_model_module_version": "1.5.0",
            "_model_name": "HTMLModel",
            "_view_count": null,
            "_view_module": "@jupyter-widgets/controls",
            "_view_module_version": "1.5.0",
            "_view_name": "HTMLView",
            "description": "",
            "description_tooltip": null,
            "layout": "IPY_MODEL_824d97b7d00041e59e8a8b8599453a20",
            "placeholder": "​",
            "style": "IPY_MODEL_45b713e6b9f949fea9054f1672453674",
            "value": " 1/1 [00:00&lt;00:00, 43.93it/s]"
          }
        },
        "6e151ff2701a464db3dcad5e0cafe1ec": {
          "model_module": "@jupyter-widgets/base",
          "model_name": "LayoutModel",
          "model_module_version": "1.2.0",
          "state": {
            "_model_module": "@jupyter-widgets/base",
            "_model_module_version": "1.2.0",
            "_model_name": "LayoutModel",
            "_view_count": null,
            "_view_module": "@jupyter-widgets/base",
            "_view_module_version": "1.2.0",
            "_view_name": "LayoutView",
            "align_content": null,
            "align_items": null,
            "align_self": null,
            "border": null,
            "bottom": null,
            "display": null,
            "flex": null,
            "flex_flow": null,
            "grid_area": null,
            "grid_auto_columns": null,
            "grid_auto_flow": null,
            "grid_auto_rows": null,
            "grid_column": null,
            "grid_gap": null,
            "grid_row": null,
            "grid_template_areas": null,
            "grid_template_columns": null,
            "grid_template_rows": null,
            "height": null,
            "justify_content": null,
            "justify_items": null,
            "left": null,
            "margin": null,
            "max_height": null,
            "max_width": null,
            "min_height": null,
            "min_width": null,
            "object_fit": null,
            "object_position": null,
            "order": null,
            "overflow": null,
            "overflow_x": null,
            "overflow_y": null,
            "padding": null,
            "right": null,
            "top": null,
            "visibility": null,
            "width": null
          }
        },
        "5c095561fe384a3f82ff04571ccfcbce": {
          "model_module": "@jupyter-widgets/base",
          "model_name": "LayoutModel",
          "model_module_version": "1.2.0",
          "state": {
            "_model_module": "@jupyter-widgets/base",
            "_model_module_version": "1.2.0",
            "_model_name": "LayoutModel",
            "_view_count": null,
            "_view_module": "@jupyter-widgets/base",
            "_view_module_version": "1.2.0",
            "_view_name": "LayoutView",
            "align_content": null,
            "align_items": null,
            "align_self": null,
            "border": null,
            "bottom": null,
            "display": null,
            "flex": null,
            "flex_flow": null,
            "grid_area": null,
            "grid_auto_columns": null,
            "grid_auto_flow": null,
            "grid_auto_rows": null,
            "grid_column": null,
            "grid_gap": null,
            "grid_row": null,
            "grid_template_areas": null,
            "grid_template_columns": null,
            "grid_template_rows": null,
            "height": null,
            "justify_content": null,
            "justify_items": null,
            "left": null,
            "margin": null,
            "max_height": null,
            "max_width": null,
            "min_height": null,
            "min_width": null,
            "object_fit": null,
            "object_position": null,
            "order": null,
            "overflow": null,
            "overflow_x": null,
            "overflow_y": null,
            "padding": null,
            "right": null,
            "top": null,
            "visibility": null,
            "width": null
          }
        },
        "bb6cfc028f0a48a9ae366ab754598e4b": {
          "model_module": "@jupyter-widgets/controls",
          "model_name": "DescriptionStyleModel",
          "model_module_version": "1.5.0",
          "state": {
            "_model_module": "@jupyter-widgets/controls",
            "_model_module_version": "1.5.0",
            "_model_name": "DescriptionStyleModel",
            "_view_count": null,
            "_view_module": "@jupyter-widgets/base",
            "_view_module_version": "1.2.0",
            "_view_name": "StyleView",
            "description_width": ""
          }
        },
        "58dc5e29f0174a3ca721797ec57b1c51": {
          "model_module": "@jupyter-widgets/base",
          "model_name": "LayoutModel",
          "model_module_version": "1.2.0",
          "state": {
            "_model_module": "@jupyter-widgets/base",
            "_model_module_version": "1.2.0",
            "_model_name": "LayoutModel",
            "_view_count": null,
            "_view_module": "@jupyter-widgets/base",
            "_view_module_version": "1.2.0",
            "_view_name": "LayoutView",
            "align_content": null,
            "align_items": null,
            "align_self": null,
            "border": null,
            "bottom": null,
            "display": null,
            "flex": null,
            "flex_flow": null,
            "grid_area": null,
            "grid_auto_columns": null,
            "grid_auto_flow": null,
            "grid_auto_rows": null,
            "grid_column": null,
            "grid_gap": null,
            "grid_row": null,
            "grid_template_areas": null,
            "grid_template_columns": null,
            "grid_template_rows": null,
            "height": null,
            "justify_content": null,
            "justify_items": null,
            "left": null,
            "margin": null,
            "max_height": null,
            "max_width": null,
            "min_height": null,
            "min_width": null,
            "object_fit": null,
            "object_position": null,
            "order": null,
            "overflow": null,
            "overflow_x": null,
            "overflow_y": null,
            "padding": null,
            "right": null,
            "top": null,
            "visibility": null,
            "width": null
          }
        },
        "3f32d54fc0c74c35af7aef28b8096638": {
          "model_module": "@jupyter-widgets/controls",
          "model_name": "ProgressStyleModel",
          "model_module_version": "1.5.0",
          "state": {
            "_model_module": "@jupyter-widgets/controls",
            "_model_module_version": "1.5.0",
            "_model_name": "ProgressStyleModel",
            "_view_count": null,
            "_view_module": "@jupyter-widgets/base",
            "_view_module_version": "1.2.0",
            "_view_name": "StyleView",
            "bar_color": null,
            "description_width": ""
          }
        },
        "824d97b7d00041e59e8a8b8599453a20": {
          "model_module": "@jupyter-widgets/base",
          "model_name": "LayoutModel",
          "model_module_version": "1.2.0",
          "state": {
            "_model_module": "@jupyter-widgets/base",
            "_model_module_version": "1.2.0",
            "_model_name": "LayoutModel",
            "_view_count": null,
            "_view_module": "@jupyter-widgets/base",
            "_view_module_version": "1.2.0",
            "_view_name": "LayoutView",
            "align_content": null,
            "align_items": null,
            "align_self": null,
            "border": null,
            "bottom": null,
            "display": null,
            "flex": null,
            "flex_flow": null,
            "grid_area": null,
            "grid_auto_columns": null,
            "grid_auto_flow": null,
            "grid_auto_rows": null,
            "grid_column": null,
            "grid_gap": null,
            "grid_row": null,
            "grid_template_areas": null,
            "grid_template_columns": null,
            "grid_template_rows": null,
            "height": null,
            "justify_content": null,
            "justify_items": null,
            "left": null,
            "margin": null,
            "max_height": null,
            "max_width": null,
            "min_height": null,
            "min_width": null,
            "object_fit": null,
            "object_position": null,
            "order": null,
            "overflow": null,
            "overflow_x": null,
            "overflow_y": null,
            "padding": null,
            "right": null,
            "top": null,
            "visibility": null,
            "width": null
          }
        },
        "45b713e6b9f949fea9054f1672453674": {
          "model_module": "@jupyter-widgets/controls",
          "model_name": "DescriptionStyleModel",
          "model_module_version": "1.5.0",
          "state": {
            "_model_module": "@jupyter-widgets/controls",
            "_model_module_version": "1.5.0",
            "_model_name": "DescriptionStyleModel",
            "_view_count": null,
            "_view_module": "@jupyter-widgets/base",
            "_view_module_version": "1.2.0",
            "_view_name": "StyleView",
            "description_width": ""
          }
        },
        "0781df0ebcd34e9b9cf833c44a46693e": {
          "model_module": "@jupyter-widgets/controls",
          "model_name": "HBoxModel",
          "model_module_version": "1.5.0",
          "state": {
            "_dom_classes": [],
            "_model_module": "@jupyter-widgets/controls",
            "_model_module_version": "1.5.0",
            "_model_name": "HBoxModel",
            "_view_count": null,
            "_view_module": "@jupyter-widgets/controls",
            "_view_module_version": "1.5.0",
            "_view_name": "HBoxView",
            "box_style": "",
            "children": [
              "IPY_MODEL_cb016a4737ef420dbb19388736d9f460",
              "IPY_MODEL_cc99f76b32084c29a401cf2fe1c16a44",
              "IPY_MODEL_389c501b5ce34ce4a6552f9463a016d8"
            ],
            "layout": "IPY_MODEL_9be34ca6e61c44c7841a1ee8acc3d66d"
          }
        },
        "cb016a4737ef420dbb19388736d9f460": {
          "model_module": "@jupyter-widgets/controls",
          "model_name": "HTMLModel",
          "model_module_version": "1.5.0",
          "state": {
            "_dom_classes": [],
            "_model_module": "@jupyter-widgets/controls",
            "_model_module_version": "1.5.0",
            "_model_name": "HTMLModel",
            "_view_count": null,
            "_view_module": "@jupyter-widgets/controls",
            "_view_module_version": "1.5.0",
            "_view_name": "HTMLView",
            "description": "",
            "description_tooltip": null,
            "layout": "IPY_MODEL_18ad743e3a814abc944f416e233ff387",
            "placeholder": "​",
            "style": "IPY_MODEL_85dd1752ff5a4804825e5d2b35c2a6ef",
            "value": "Fetching 1 files: 100%"
          }
        },
        "cc99f76b32084c29a401cf2fe1c16a44": {
          "model_module": "@jupyter-widgets/controls",
          "model_name": "FloatProgressModel",
          "model_module_version": "1.5.0",
          "state": {
            "_dom_classes": [],
            "_model_module": "@jupyter-widgets/controls",
            "_model_module_version": "1.5.0",
            "_model_name": "FloatProgressModel",
            "_view_count": null,
            "_view_module": "@jupyter-widgets/controls",
            "_view_module_version": "1.5.0",
            "_view_name": "ProgressView",
            "bar_style": "success",
            "description": "",
            "description_tooltip": null,
            "layout": "IPY_MODEL_f598da449704422daba21c7bbe474862",
            "max": 1,
            "min": 0,
            "orientation": "horizontal",
            "style": "IPY_MODEL_4379aeb4dc41494fa8dcc10ca16fe844",
            "value": 1
          }
        },
        "389c501b5ce34ce4a6552f9463a016d8": {
          "model_module": "@jupyter-widgets/controls",
          "model_name": "HTMLModel",
          "model_module_version": "1.5.0",
          "state": {
            "_dom_classes": [],
            "_model_module": "@jupyter-widgets/controls",
            "_model_module_version": "1.5.0",
            "_model_name": "HTMLModel",
            "_view_count": null,
            "_view_module": "@jupyter-widgets/controls",
            "_view_module_version": "1.5.0",
            "_view_name": "HTMLView",
            "description": "",
            "description_tooltip": null,
            "layout": "IPY_MODEL_2d9984c634de48228c680f7ce16ea79c",
            "placeholder": "​",
            "style": "IPY_MODEL_41eacbe3016944ee9758786da24224f9",
            "value": " 1/1 [00:00&lt;00:00, 60.15it/s]"
          }
        },
        "9be34ca6e61c44c7841a1ee8acc3d66d": {
          "model_module": "@jupyter-widgets/base",
          "model_name": "LayoutModel",
          "model_module_version": "1.2.0",
          "state": {
            "_model_module": "@jupyter-widgets/base",
            "_model_module_version": "1.2.0",
            "_model_name": "LayoutModel",
            "_view_count": null,
            "_view_module": "@jupyter-widgets/base",
            "_view_module_version": "1.2.0",
            "_view_name": "LayoutView",
            "align_content": null,
            "align_items": null,
            "align_self": null,
            "border": null,
            "bottom": null,
            "display": null,
            "flex": null,
            "flex_flow": null,
            "grid_area": null,
            "grid_auto_columns": null,
            "grid_auto_flow": null,
            "grid_auto_rows": null,
            "grid_column": null,
            "grid_gap": null,
            "grid_row": null,
            "grid_template_areas": null,
            "grid_template_columns": null,
            "grid_template_rows": null,
            "height": null,
            "justify_content": null,
            "justify_items": null,
            "left": null,
            "margin": null,
            "max_height": null,
            "max_width": null,
            "min_height": null,
            "min_width": null,
            "object_fit": null,
            "object_position": null,
            "order": null,
            "overflow": null,
            "overflow_x": null,
            "overflow_y": null,
            "padding": null,
            "right": null,
            "top": null,
            "visibility": null,
            "width": null
          }
        },
        "18ad743e3a814abc944f416e233ff387": {
          "model_module": "@jupyter-widgets/base",
          "model_name": "LayoutModel",
          "model_module_version": "1.2.0",
          "state": {
            "_model_module": "@jupyter-widgets/base",
            "_model_module_version": "1.2.0",
            "_model_name": "LayoutModel",
            "_view_count": null,
            "_view_module": "@jupyter-widgets/base",
            "_view_module_version": "1.2.0",
            "_view_name": "LayoutView",
            "align_content": null,
            "align_items": null,
            "align_self": null,
            "border": null,
            "bottom": null,
            "display": null,
            "flex": null,
            "flex_flow": null,
            "grid_area": null,
            "grid_auto_columns": null,
            "grid_auto_flow": null,
            "grid_auto_rows": null,
            "grid_column": null,
            "grid_gap": null,
            "grid_row": null,
            "grid_template_areas": null,
            "grid_template_columns": null,
            "grid_template_rows": null,
            "height": null,
            "justify_content": null,
            "justify_items": null,
            "left": null,
            "margin": null,
            "max_height": null,
            "max_width": null,
            "min_height": null,
            "min_width": null,
            "object_fit": null,
            "object_position": null,
            "order": null,
            "overflow": null,
            "overflow_x": null,
            "overflow_y": null,
            "padding": null,
            "right": null,
            "top": null,
            "visibility": null,
            "width": null
          }
        },
        "85dd1752ff5a4804825e5d2b35c2a6ef": {
          "model_module": "@jupyter-widgets/controls",
          "model_name": "DescriptionStyleModel",
          "model_module_version": "1.5.0",
          "state": {
            "_model_module": "@jupyter-widgets/controls",
            "_model_module_version": "1.5.0",
            "_model_name": "DescriptionStyleModel",
            "_view_count": null,
            "_view_module": "@jupyter-widgets/base",
            "_view_module_version": "1.2.0",
            "_view_name": "StyleView",
            "description_width": ""
          }
        },
        "f598da449704422daba21c7bbe474862": {
          "model_module": "@jupyter-widgets/base",
          "model_name": "LayoutModel",
          "model_module_version": "1.2.0",
          "state": {
            "_model_module": "@jupyter-widgets/base",
            "_model_module_version": "1.2.0",
            "_model_name": "LayoutModel",
            "_view_count": null,
            "_view_module": "@jupyter-widgets/base",
            "_view_module_version": "1.2.0",
            "_view_name": "LayoutView",
            "align_content": null,
            "align_items": null,
            "align_self": null,
            "border": null,
            "bottom": null,
            "display": null,
            "flex": null,
            "flex_flow": null,
            "grid_area": null,
            "grid_auto_columns": null,
            "grid_auto_flow": null,
            "grid_auto_rows": null,
            "grid_column": null,
            "grid_gap": null,
            "grid_row": null,
            "grid_template_areas": null,
            "grid_template_columns": null,
            "grid_template_rows": null,
            "height": null,
            "justify_content": null,
            "justify_items": null,
            "left": null,
            "margin": null,
            "max_height": null,
            "max_width": null,
            "min_height": null,
            "min_width": null,
            "object_fit": null,
            "object_position": null,
            "order": null,
            "overflow": null,
            "overflow_x": null,
            "overflow_y": null,
            "padding": null,
            "right": null,
            "top": null,
            "visibility": null,
            "width": null
          }
        },
        "4379aeb4dc41494fa8dcc10ca16fe844": {
          "model_module": "@jupyter-widgets/controls",
          "model_name": "ProgressStyleModel",
          "model_module_version": "1.5.0",
          "state": {
            "_model_module": "@jupyter-widgets/controls",
            "_model_module_version": "1.5.0",
            "_model_name": "ProgressStyleModel",
            "_view_count": null,
            "_view_module": "@jupyter-widgets/base",
            "_view_module_version": "1.2.0",
            "_view_name": "StyleView",
            "bar_color": null,
            "description_width": ""
          }
        },
        "2d9984c634de48228c680f7ce16ea79c": {
          "model_module": "@jupyter-widgets/base",
          "model_name": "LayoutModel",
          "model_module_version": "1.2.0",
          "state": {
            "_model_module": "@jupyter-widgets/base",
            "_model_module_version": "1.2.0",
            "_model_name": "LayoutModel",
            "_view_count": null,
            "_view_module": "@jupyter-widgets/base",
            "_view_module_version": "1.2.0",
            "_view_name": "LayoutView",
            "align_content": null,
            "align_items": null,
            "align_self": null,
            "border": null,
            "bottom": null,
            "display": null,
            "flex": null,
            "flex_flow": null,
            "grid_area": null,
            "grid_auto_columns": null,
            "grid_auto_flow": null,
            "grid_auto_rows": null,
            "grid_column": null,
            "grid_gap": null,
            "grid_row": null,
            "grid_template_areas": null,
            "grid_template_columns": null,
            "grid_template_rows": null,
            "height": null,
            "justify_content": null,
            "justify_items": null,
            "left": null,
            "margin": null,
            "max_height": null,
            "max_width": null,
            "min_height": null,
            "min_width": null,
            "object_fit": null,
            "object_position": null,
            "order": null,
            "overflow": null,
            "overflow_x": null,
            "overflow_y": null,
            "padding": null,
            "right": null,
            "top": null,
            "visibility": null,
            "width": null
          }
        },
        "41eacbe3016944ee9758786da24224f9": {
          "model_module": "@jupyter-widgets/controls",
          "model_name": "DescriptionStyleModel",
          "model_module_version": "1.5.0",
          "state": {
            "_model_module": "@jupyter-widgets/controls",
            "_model_module_version": "1.5.0",
            "_model_name": "DescriptionStyleModel",
            "_view_count": null,
            "_view_module": "@jupyter-widgets/base",
            "_view_module_version": "1.2.0",
            "_view_name": "StyleView",
            "description_width": ""
          }
        },
        "2567ede698a5491eaaaa764e117cc25d": {
          "model_module": "@jupyter-widgets/controls",
          "model_name": "HBoxModel",
          "model_module_version": "1.5.0",
          "state": {
            "_dom_classes": [],
            "_model_module": "@jupyter-widgets/controls",
            "_model_module_version": "1.5.0",
            "_model_name": "HBoxModel",
            "_view_count": null,
            "_view_module": "@jupyter-widgets/controls",
            "_view_module_version": "1.5.0",
            "_view_name": "HBoxView",
            "box_style": "",
            "children": [
              "IPY_MODEL_c0f33e32201846039c8d75feb2bd7963",
              "IPY_MODEL_bc9ade5ec6254f75ab7d8768c2b6f76f",
              "IPY_MODEL_91463a3f0ebe4ccfb1cc6dd8b905dbf8"
            ],
            "layout": "IPY_MODEL_d01f489d0f004ed9b5a0483295dc3e5f"
          }
        },
        "c0f33e32201846039c8d75feb2bd7963": {
          "model_module": "@jupyter-widgets/controls",
          "model_name": "HTMLModel",
          "model_module_version": "1.5.0",
          "state": {
            "_dom_classes": [],
            "_model_module": "@jupyter-widgets/controls",
            "_model_module_version": "1.5.0",
            "_model_name": "HTMLModel",
            "_view_count": null,
            "_view_module": "@jupyter-widgets/controls",
            "_view_module_version": "1.5.0",
            "_view_name": "HTMLView",
            "description": "",
            "description_tooltip": null,
            "layout": "IPY_MODEL_6d3a019b2b4b4448a1363fd1eb4a062d",
            "placeholder": "​",
            "style": "IPY_MODEL_22644239a38649978d9517b4a3fddced",
            "value": "Fetching 1 files: 100%"
          }
        },
        "bc9ade5ec6254f75ab7d8768c2b6f76f": {
          "model_module": "@jupyter-widgets/controls",
          "model_name": "FloatProgressModel",
          "model_module_version": "1.5.0",
          "state": {
            "_dom_classes": [],
            "_model_module": "@jupyter-widgets/controls",
            "_model_module_version": "1.5.0",
            "_model_name": "FloatProgressModel",
            "_view_count": null,
            "_view_module": "@jupyter-widgets/controls",
            "_view_module_version": "1.5.0",
            "_view_name": "ProgressView",
            "bar_style": "success",
            "description": "",
            "description_tooltip": null,
            "layout": "IPY_MODEL_ed651bb4c85e451db4342e4ac9a824ca",
            "max": 1,
            "min": 0,
            "orientation": "horizontal",
            "style": "IPY_MODEL_06ec8e1499534c0183b430fe90193c9f",
            "value": 1
          }
        },
        "91463a3f0ebe4ccfb1cc6dd8b905dbf8": {
          "model_module": "@jupyter-widgets/controls",
          "model_name": "HTMLModel",
          "model_module_version": "1.5.0",
          "state": {
            "_dom_classes": [],
            "_model_module": "@jupyter-widgets/controls",
            "_model_module_version": "1.5.0",
            "_model_name": "HTMLModel",
            "_view_count": null,
            "_view_module": "@jupyter-widgets/controls",
            "_view_module_version": "1.5.0",
            "_view_name": "HTMLView",
            "description": "",
            "description_tooltip": null,
            "layout": "IPY_MODEL_54c1373449be446b8e7e254b0390d283",
            "placeholder": "​",
            "style": "IPY_MODEL_e95a7ff52a2342af95b152ec82ca367b",
            "value": " 1/1 [00:00&lt;00:00, 69.79it/s]"
          }
        },
        "d01f489d0f004ed9b5a0483295dc3e5f": {
          "model_module": "@jupyter-widgets/base",
          "model_name": "LayoutModel",
          "model_module_version": "1.2.0",
          "state": {
            "_model_module": "@jupyter-widgets/base",
            "_model_module_version": "1.2.0",
            "_model_name": "LayoutModel",
            "_view_count": null,
            "_view_module": "@jupyter-widgets/base",
            "_view_module_version": "1.2.0",
            "_view_name": "LayoutView",
            "align_content": null,
            "align_items": null,
            "align_self": null,
            "border": null,
            "bottom": null,
            "display": null,
            "flex": null,
            "flex_flow": null,
            "grid_area": null,
            "grid_auto_columns": null,
            "grid_auto_flow": null,
            "grid_auto_rows": null,
            "grid_column": null,
            "grid_gap": null,
            "grid_row": null,
            "grid_template_areas": null,
            "grid_template_columns": null,
            "grid_template_rows": null,
            "height": null,
            "justify_content": null,
            "justify_items": null,
            "left": null,
            "margin": null,
            "max_height": null,
            "max_width": null,
            "min_height": null,
            "min_width": null,
            "object_fit": null,
            "object_position": null,
            "order": null,
            "overflow": null,
            "overflow_x": null,
            "overflow_y": null,
            "padding": null,
            "right": null,
            "top": null,
            "visibility": null,
            "width": null
          }
        },
        "6d3a019b2b4b4448a1363fd1eb4a062d": {
          "model_module": "@jupyter-widgets/base",
          "model_name": "LayoutModel",
          "model_module_version": "1.2.0",
          "state": {
            "_model_module": "@jupyter-widgets/base",
            "_model_module_version": "1.2.0",
            "_model_name": "LayoutModel",
            "_view_count": null,
            "_view_module": "@jupyter-widgets/base",
            "_view_module_version": "1.2.0",
            "_view_name": "LayoutView",
            "align_content": null,
            "align_items": null,
            "align_self": null,
            "border": null,
            "bottom": null,
            "display": null,
            "flex": null,
            "flex_flow": null,
            "grid_area": null,
            "grid_auto_columns": null,
            "grid_auto_flow": null,
            "grid_auto_rows": null,
            "grid_column": null,
            "grid_gap": null,
            "grid_row": null,
            "grid_template_areas": null,
            "grid_template_columns": null,
            "grid_template_rows": null,
            "height": null,
            "justify_content": null,
            "justify_items": null,
            "left": null,
            "margin": null,
            "max_height": null,
            "max_width": null,
            "min_height": null,
            "min_width": null,
            "object_fit": null,
            "object_position": null,
            "order": null,
            "overflow": null,
            "overflow_x": null,
            "overflow_y": null,
            "padding": null,
            "right": null,
            "top": null,
            "visibility": null,
            "width": null
          }
        },
        "22644239a38649978d9517b4a3fddced": {
          "model_module": "@jupyter-widgets/controls",
          "model_name": "DescriptionStyleModel",
          "model_module_version": "1.5.0",
          "state": {
            "_model_module": "@jupyter-widgets/controls",
            "_model_module_version": "1.5.0",
            "_model_name": "DescriptionStyleModel",
            "_view_count": null,
            "_view_module": "@jupyter-widgets/base",
            "_view_module_version": "1.2.0",
            "_view_name": "StyleView",
            "description_width": ""
          }
        },
        "ed651bb4c85e451db4342e4ac9a824ca": {
          "model_module": "@jupyter-widgets/base",
          "model_name": "LayoutModel",
          "model_module_version": "1.2.0",
          "state": {
            "_model_module": "@jupyter-widgets/base",
            "_model_module_version": "1.2.0",
            "_model_name": "LayoutModel",
            "_view_count": null,
            "_view_module": "@jupyter-widgets/base",
            "_view_module_version": "1.2.0",
            "_view_name": "LayoutView",
            "align_content": null,
            "align_items": null,
            "align_self": null,
            "border": null,
            "bottom": null,
            "display": null,
            "flex": null,
            "flex_flow": null,
            "grid_area": null,
            "grid_auto_columns": null,
            "grid_auto_flow": null,
            "grid_auto_rows": null,
            "grid_column": null,
            "grid_gap": null,
            "grid_row": null,
            "grid_template_areas": null,
            "grid_template_columns": null,
            "grid_template_rows": null,
            "height": null,
            "justify_content": null,
            "justify_items": null,
            "left": null,
            "margin": null,
            "max_height": null,
            "max_width": null,
            "min_height": null,
            "min_width": null,
            "object_fit": null,
            "object_position": null,
            "order": null,
            "overflow": null,
            "overflow_x": null,
            "overflow_y": null,
            "padding": null,
            "right": null,
            "top": null,
            "visibility": null,
            "width": null
          }
        },
        "06ec8e1499534c0183b430fe90193c9f": {
          "model_module": "@jupyter-widgets/controls",
          "model_name": "ProgressStyleModel",
          "model_module_version": "1.5.0",
          "state": {
            "_model_module": "@jupyter-widgets/controls",
            "_model_module_version": "1.5.0",
            "_model_name": "ProgressStyleModel",
            "_view_count": null,
            "_view_module": "@jupyter-widgets/base",
            "_view_module_version": "1.2.0",
            "_view_name": "StyleView",
            "bar_color": null,
            "description_width": ""
          }
        },
        "54c1373449be446b8e7e254b0390d283": {
          "model_module": "@jupyter-widgets/base",
          "model_name": "LayoutModel",
          "model_module_version": "1.2.0",
          "state": {
            "_model_module": "@jupyter-widgets/base",
            "_model_module_version": "1.2.0",
            "_model_name": "LayoutModel",
            "_view_count": null,
            "_view_module": "@jupyter-widgets/base",
            "_view_module_version": "1.2.0",
            "_view_name": "LayoutView",
            "align_content": null,
            "align_items": null,
            "align_self": null,
            "border": null,
            "bottom": null,
            "display": null,
            "flex": null,
            "flex_flow": null,
            "grid_area": null,
            "grid_auto_columns": null,
            "grid_auto_flow": null,
            "grid_auto_rows": null,
            "grid_column": null,
            "grid_gap": null,
            "grid_row": null,
            "grid_template_areas": null,
            "grid_template_columns": null,
            "grid_template_rows": null,
            "height": null,
            "justify_content": null,
            "justify_items": null,
            "left": null,
            "margin": null,
            "max_height": null,
            "max_width": null,
            "min_height": null,
            "min_width": null,
            "object_fit": null,
            "object_position": null,
            "order": null,
            "overflow": null,
            "overflow_x": null,
            "overflow_y": null,
            "padding": null,
            "right": null,
            "top": null,
            "visibility": null,
            "width": null
          }
        },
        "e95a7ff52a2342af95b152ec82ca367b": {
          "model_module": "@jupyter-widgets/controls",
          "model_name": "DescriptionStyleModel",
          "model_module_version": "1.5.0",
          "state": {
            "_model_module": "@jupyter-widgets/controls",
            "_model_module_version": "1.5.0",
            "_model_name": "DescriptionStyleModel",
            "_view_count": null,
            "_view_module": "@jupyter-widgets/base",
            "_view_module_version": "1.2.0",
            "_view_name": "StyleView",
            "description_width": ""
          }
        },
        "64870ac096f9464b95980a054f3b2268": {
          "model_module": "@jupyter-widgets/controls",
          "model_name": "HBoxModel",
          "model_module_version": "1.5.0",
          "state": {
            "_dom_classes": [],
            "_model_module": "@jupyter-widgets/controls",
            "_model_module_version": "1.5.0",
            "_model_name": "HBoxModel",
            "_view_count": null,
            "_view_module": "@jupyter-widgets/controls",
            "_view_module_version": "1.5.0",
            "_view_name": "HBoxView",
            "box_style": "",
            "children": [
              "IPY_MODEL_b56bffff5c4a4cd6840e132c71e84a1c",
              "IPY_MODEL_861d224712e844cbb67bbc3ff49f4ac7",
              "IPY_MODEL_6cd7cb4325c148c49def5e0bad5cbb64"
            ],
            "layout": "IPY_MODEL_165eb522635d471780de9d08a6193c92"
          }
        },
        "b56bffff5c4a4cd6840e132c71e84a1c": {
          "model_module": "@jupyter-widgets/controls",
          "model_name": "HTMLModel",
          "model_module_version": "1.5.0",
          "state": {
            "_dom_classes": [],
            "_model_module": "@jupyter-widgets/controls",
            "_model_module_version": "1.5.0",
            "_model_name": "HTMLModel",
            "_view_count": null,
            "_view_module": "@jupyter-widgets/controls",
            "_view_module_version": "1.5.0",
            "_view_name": "HTMLView",
            "description": "",
            "description_tooltip": null,
            "layout": "IPY_MODEL_5b05f070c64a43fdbf63854fea615d49",
            "placeholder": "​",
            "style": "IPY_MODEL_ee8feacf53b54a3ab4a3d84a6eb82a7d",
            "value": "Fetching 1 files: 100%"
          }
        },
        "861d224712e844cbb67bbc3ff49f4ac7": {
          "model_module": "@jupyter-widgets/controls",
          "model_name": "FloatProgressModel",
          "model_module_version": "1.5.0",
          "state": {
            "_dom_classes": [],
            "_model_module": "@jupyter-widgets/controls",
            "_model_module_version": "1.5.0",
            "_model_name": "FloatProgressModel",
            "_view_count": null,
            "_view_module": "@jupyter-widgets/controls",
            "_view_module_version": "1.5.0",
            "_view_name": "ProgressView",
            "bar_style": "success",
            "description": "",
            "description_tooltip": null,
            "layout": "IPY_MODEL_5d9a23a8d54b474782a6c679b22dac4d",
            "max": 1,
            "min": 0,
            "orientation": "horizontal",
            "style": "IPY_MODEL_68c916f7cc284d4898879b414c7772fa",
            "value": 1
          }
        },
        "6cd7cb4325c148c49def5e0bad5cbb64": {
          "model_module": "@jupyter-widgets/controls",
          "model_name": "HTMLModel",
          "model_module_version": "1.5.0",
          "state": {
            "_dom_classes": [],
            "_model_module": "@jupyter-widgets/controls",
            "_model_module_version": "1.5.0",
            "_model_name": "HTMLModel",
            "_view_count": null,
            "_view_module": "@jupyter-widgets/controls",
            "_view_module_version": "1.5.0",
            "_view_name": "HTMLView",
            "description": "",
            "description_tooltip": null,
            "layout": "IPY_MODEL_2d76f3b7c1ae45d1a34cdc4f4c569caa",
            "placeholder": "​",
            "style": "IPY_MODEL_9641f6071d0f4cd9b8b162d4d6ca6a8a",
            "value": " 1/1 [00:00&lt;00:00, 67.93it/s]"
          }
        },
        "165eb522635d471780de9d08a6193c92": {
          "model_module": "@jupyter-widgets/base",
          "model_name": "LayoutModel",
          "model_module_version": "1.2.0",
          "state": {
            "_model_module": "@jupyter-widgets/base",
            "_model_module_version": "1.2.0",
            "_model_name": "LayoutModel",
            "_view_count": null,
            "_view_module": "@jupyter-widgets/base",
            "_view_module_version": "1.2.0",
            "_view_name": "LayoutView",
            "align_content": null,
            "align_items": null,
            "align_self": null,
            "border": null,
            "bottom": null,
            "display": null,
            "flex": null,
            "flex_flow": null,
            "grid_area": null,
            "grid_auto_columns": null,
            "grid_auto_flow": null,
            "grid_auto_rows": null,
            "grid_column": null,
            "grid_gap": null,
            "grid_row": null,
            "grid_template_areas": null,
            "grid_template_columns": null,
            "grid_template_rows": null,
            "height": null,
            "justify_content": null,
            "justify_items": null,
            "left": null,
            "margin": null,
            "max_height": null,
            "max_width": null,
            "min_height": null,
            "min_width": null,
            "object_fit": null,
            "object_position": null,
            "order": null,
            "overflow": null,
            "overflow_x": null,
            "overflow_y": null,
            "padding": null,
            "right": null,
            "top": null,
            "visibility": null,
            "width": null
          }
        },
        "5b05f070c64a43fdbf63854fea615d49": {
          "model_module": "@jupyter-widgets/base",
          "model_name": "LayoutModel",
          "model_module_version": "1.2.0",
          "state": {
            "_model_module": "@jupyter-widgets/base",
            "_model_module_version": "1.2.0",
            "_model_name": "LayoutModel",
            "_view_count": null,
            "_view_module": "@jupyter-widgets/base",
            "_view_module_version": "1.2.0",
            "_view_name": "LayoutView",
            "align_content": null,
            "align_items": null,
            "align_self": null,
            "border": null,
            "bottom": null,
            "display": null,
            "flex": null,
            "flex_flow": null,
            "grid_area": null,
            "grid_auto_columns": null,
            "grid_auto_flow": null,
            "grid_auto_rows": null,
            "grid_column": null,
            "grid_gap": null,
            "grid_row": null,
            "grid_template_areas": null,
            "grid_template_columns": null,
            "grid_template_rows": null,
            "height": null,
            "justify_content": null,
            "justify_items": null,
            "left": null,
            "margin": null,
            "max_height": null,
            "max_width": null,
            "min_height": null,
            "min_width": null,
            "object_fit": null,
            "object_position": null,
            "order": null,
            "overflow": null,
            "overflow_x": null,
            "overflow_y": null,
            "padding": null,
            "right": null,
            "top": null,
            "visibility": null,
            "width": null
          }
        },
        "ee8feacf53b54a3ab4a3d84a6eb82a7d": {
          "model_module": "@jupyter-widgets/controls",
          "model_name": "DescriptionStyleModel",
          "model_module_version": "1.5.0",
          "state": {
            "_model_module": "@jupyter-widgets/controls",
            "_model_module_version": "1.5.0",
            "_model_name": "DescriptionStyleModel",
            "_view_count": null,
            "_view_module": "@jupyter-widgets/base",
            "_view_module_version": "1.2.0",
            "_view_name": "StyleView",
            "description_width": ""
          }
        },
        "5d9a23a8d54b474782a6c679b22dac4d": {
          "model_module": "@jupyter-widgets/base",
          "model_name": "LayoutModel",
          "model_module_version": "1.2.0",
          "state": {
            "_model_module": "@jupyter-widgets/base",
            "_model_module_version": "1.2.0",
            "_model_name": "LayoutModel",
            "_view_count": null,
            "_view_module": "@jupyter-widgets/base",
            "_view_module_version": "1.2.0",
            "_view_name": "LayoutView",
            "align_content": null,
            "align_items": null,
            "align_self": null,
            "border": null,
            "bottom": null,
            "display": null,
            "flex": null,
            "flex_flow": null,
            "grid_area": null,
            "grid_auto_columns": null,
            "grid_auto_flow": null,
            "grid_auto_rows": null,
            "grid_column": null,
            "grid_gap": null,
            "grid_row": null,
            "grid_template_areas": null,
            "grid_template_columns": null,
            "grid_template_rows": null,
            "height": null,
            "justify_content": null,
            "justify_items": null,
            "left": null,
            "margin": null,
            "max_height": null,
            "max_width": null,
            "min_height": null,
            "min_width": null,
            "object_fit": null,
            "object_position": null,
            "order": null,
            "overflow": null,
            "overflow_x": null,
            "overflow_y": null,
            "padding": null,
            "right": null,
            "top": null,
            "visibility": null,
            "width": null
          }
        },
        "68c916f7cc284d4898879b414c7772fa": {
          "model_module": "@jupyter-widgets/controls",
          "model_name": "ProgressStyleModel",
          "model_module_version": "1.5.0",
          "state": {
            "_model_module": "@jupyter-widgets/controls",
            "_model_module_version": "1.5.0",
            "_model_name": "ProgressStyleModel",
            "_view_count": null,
            "_view_module": "@jupyter-widgets/base",
            "_view_module_version": "1.2.0",
            "_view_name": "StyleView",
            "bar_color": null,
            "description_width": ""
          }
        },
        "2d76f3b7c1ae45d1a34cdc4f4c569caa": {
          "model_module": "@jupyter-widgets/base",
          "model_name": "LayoutModel",
          "model_module_version": "1.2.0",
          "state": {
            "_model_module": "@jupyter-widgets/base",
            "_model_module_version": "1.2.0",
            "_model_name": "LayoutModel",
            "_view_count": null,
            "_view_module": "@jupyter-widgets/base",
            "_view_module_version": "1.2.0",
            "_view_name": "LayoutView",
            "align_content": null,
            "align_items": null,
            "align_self": null,
            "border": null,
            "bottom": null,
            "display": null,
            "flex": null,
            "flex_flow": null,
            "grid_area": null,
            "grid_auto_columns": null,
            "grid_auto_flow": null,
            "grid_auto_rows": null,
            "grid_column": null,
            "grid_gap": null,
            "grid_row": null,
            "grid_template_areas": null,
            "grid_template_columns": null,
            "grid_template_rows": null,
            "height": null,
            "justify_content": null,
            "justify_items": null,
            "left": null,
            "margin": null,
            "max_height": null,
            "max_width": null,
            "min_height": null,
            "min_width": null,
            "object_fit": null,
            "object_position": null,
            "order": null,
            "overflow": null,
            "overflow_x": null,
            "overflow_y": null,
            "padding": null,
            "right": null,
            "top": null,
            "visibility": null,
            "width": null
          }
        },
        "9641f6071d0f4cd9b8b162d4d6ca6a8a": {
          "model_module": "@jupyter-widgets/controls",
          "model_name": "DescriptionStyleModel",
          "model_module_version": "1.5.0",
          "state": {
            "_model_module": "@jupyter-widgets/controls",
            "_model_module_version": "1.5.0",
            "_model_name": "DescriptionStyleModel",
            "_view_count": null,
            "_view_module": "@jupyter-widgets/base",
            "_view_module_version": "1.2.0",
            "_view_name": "StyleView",
            "description_width": ""
          }
        }
      }
    }
  },
  "cells": [
    {
      "cell_type": "markdown",
      "metadata": {
        "id": "view-in-github",
        "colab_type": "text"
      },
      "source": [
        "<a href=\"https://colab.research.google.com/github/NihaarikaAgarwal/CorrectiveRAG/blob/main/CRAG.ipynb\" target=\"_parent\"><img src=\"https://colab.research.google.com/assets/colab-badge.svg\" alt=\"Open In Colab\"/></a>"
      ]
    },
    {
      "cell_type": "code",
      "execution_count": 74,
      "metadata": {
        "id": "CpG7w2B4_hEy",
        "colab": {
          "base_uri": "https://localhost:8080/",
          "height": 1000
        },
        "outputId": "7859392c-f328-4485-efa1-a1103cb85200"
      },
      "outputs": [
        {
          "output_type": "stream",
          "name": "stdout",
          "text": [
            "Requirement already satisfied: langchain==0.2.0 in /usr/local/lib/python3.11/dist-packages (0.2.0)\n",
            "Requirement already satisfied: PyYAML>=5.3 in /usr/local/lib/python3.11/dist-packages (from langchain==0.2.0) (6.0.2)\n",
            "Requirement already satisfied: SQLAlchemy<3,>=1.4 in /usr/local/lib/python3.11/dist-packages (from langchain==0.2.0) (2.0.40)\n",
            "Requirement already satisfied: aiohttp<4.0.0,>=3.8.3 in /usr/local/lib/python3.11/dist-packages (from langchain==0.2.0) (3.11.15)\n",
            "Requirement already satisfied: dataclasses-json<0.7,>=0.5.7 in /usr/local/lib/python3.11/dist-packages (from langchain==0.2.0) (0.6.7)\n",
            "Requirement already satisfied: langchain-core<0.3.0,>=0.2.0 in /usr/local/lib/python3.11/dist-packages (from langchain==0.2.0) (0.2.43)\n",
            "Requirement already satisfied: langchain-text-splitters<0.3.0,>=0.2.0 in /usr/local/lib/python3.11/dist-packages (from langchain==0.2.0) (0.2.4)\n",
            "Requirement already satisfied: langsmith<0.2.0,>=0.1.17 in /usr/local/lib/python3.11/dist-packages (from langchain==0.2.0) (0.1.147)\n",
            "Requirement already satisfied: numpy<2,>=1 in /usr/local/lib/python3.11/dist-packages (from langchain==0.2.0) (1.26.4)\n",
            "Requirement already satisfied: pydantic<3,>=1 in /usr/local/lib/python3.11/dist-packages (from langchain==0.2.0) (2.11.5)\n",
            "Requirement already satisfied: requests<3,>=2 in /usr/local/lib/python3.11/dist-packages (from langchain==0.2.0) (2.32.3)\n",
            "Collecting tenacity<9.0.0,>=8.1.0 (from langchain==0.2.0)\n",
            "  Using cached tenacity-8.5.0-py3-none-any.whl.metadata (1.2 kB)\n",
            "Requirement already satisfied: aiohappyeyeballs>=2.3.0 in /usr/local/lib/python3.11/dist-packages (from aiohttp<4.0.0,>=3.8.3->langchain==0.2.0) (2.6.1)\n",
            "Requirement already satisfied: aiosignal>=1.1.2 in /usr/local/lib/python3.11/dist-packages (from aiohttp<4.0.0,>=3.8.3->langchain==0.2.0) (1.3.2)\n",
            "Requirement already satisfied: attrs>=17.3.0 in /usr/local/lib/python3.11/dist-packages (from aiohttp<4.0.0,>=3.8.3->langchain==0.2.0) (25.3.0)\n",
            "Requirement already satisfied: frozenlist>=1.1.1 in /usr/local/lib/python3.11/dist-packages (from aiohttp<4.0.0,>=3.8.3->langchain==0.2.0) (1.6.0)\n",
            "Requirement already satisfied: multidict<7.0,>=4.5 in /usr/local/lib/python3.11/dist-packages (from aiohttp<4.0.0,>=3.8.3->langchain==0.2.0) (6.4.3)\n",
            "Requirement already satisfied: propcache>=0.2.0 in /usr/local/lib/python3.11/dist-packages (from aiohttp<4.0.0,>=3.8.3->langchain==0.2.0) (0.3.1)\n",
            "Requirement already satisfied: yarl<2.0,>=1.17.0 in /usr/local/lib/python3.11/dist-packages (from aiohttp<4.0.0,>=3.8.3->langchain==0.2.0) (1.20.0)\n",
            "Requirement already satisfied: marshmallow<4.0.0,>=3.18.0 in /usr/local/lib/python3.11/dist-packages (from dataclasses-json<0.7,>=0.5.7->langchain==0.2.0) (3.26.1)\n",
            "Requirement already satisfied: typing-inspect<1,>=0.4.0 in /usr/local/lib/python3.11/dist-packages (from dataclasses-json<0.7,>=0.5.7->langchain==0.2.0) (0.9.0)\n",
            "Requirement already satisfied: jsonpatch<2.0,>=1.33 in /usr/local/lib/python3.11/dist-packages (from langchain-core<0.3.0,>=0.2.0->langchain==0.2.0) (1.33)\n",
            "Collecting packaging<25,>=23.2 (from langchain-core<0.3.0,>=0.2.0->langchain==0.2.0)\n",
            "  Using cached packaging-24.2-py3-none-any.whl.metadata (3.2 kB)\n",
            "Requirement already satisfied: typing-extensions>=4.7 in /usr/local/lib/python3.11/dist-packages (from langchain-core<0.3.0,>=0.2.0->langchain==0.2.0) (4.13.2)\n",
            "Requirement already satisfied: httpx<1,>=0.23.0 in /usr/local/lib/python3.11/dist-packages (from langsmith<0.2.0,>=0.1.17->langchain==0.2.0) (0.28.1)\n",
            "Requirement already satisfied: orjson<4.0.0,>=3.9.14 in /usr/local/lib/python3.11/dist-packages (from langsmith<0.2.0,>=0.1.17->langchain==0.2.0) (3.10.18)\n",
            "Requirement already satisfied: requests-toolbelt<2.0.0,>=1.0.0 in /usr/local/lib/python3.11/dist-packages (from langsmith<0.2.0,>=0.1.17->langchain==0.2.0) (1.0.0)\n",
            "Requirement already satisfied: annotated-types>=0.6.0 in /usr/local/lib/python3.11/dist-packages (from pydantic<3,>=1->langchain==0.2.0) (0.7.0)\n",
            "Requirement already satisfied: pydantic-core==2.33.2 in /usr/local/lib/python3.11/dist-packages (from pydantic<3,>=1->langchain==0.2.0) (2.33.2)\n",
            "Requirement already satisfied: typing-inspection>=0.4.0 in /usr/local/lib/python3.11/dist-packages (from pydantic<3,>=1->langchain==0.2.0) (0.4.1)\n",
            "Requirement already satisfied: charset-normalizer<4,>=2 in /usr/local/lib/python3.11/dist-packages (from requests<3,>=2->langchain==0.2.0) (3.4.2)\n",
            "Requirement already satisfied: idna<4,>=2.5 in /usr/local/lib/python3.11/dist-packages (from requests<3,>=2->langchain==0.2.0) (3.10)\n",
            "Requirement already satisfied: urllib3<3,>=1.21.1 in /usr/local/lib/python3.11/dist-packages (from requests<3,>=2->langchain==0.2.0) (2.4.0)\n",
            "Requirement already satisfied: certifi>=2017.4.17 in /usr/local/lib/python3.11/dist-packages (from requests<3,>=2->langchain==0.2.0) (2025.4.26)\n",
            "Requirement already satisfied: greenlet>=1 in /usr/local/lib/python3.11/dist-packages (from SQLAlchemy<3,>=1.4->langchain==0.2.0) (3.2.2)\n",
            "Requirement already satisfied: anyio in /usr/local/lib/python3.11/dist-packages (from httpx<1,>=0.23.0->langsmith<0.2.0,>=0.1.17->langchain==0.2.0) (4.9.0)\n",
            "Requirement already satisfied: httpcore==1.* in /usr/local/lib/python3.11/dist-packages (from httpx<1,>=0.23.0->langsmith<0.2.0,>=0.1.17->langchain==0.2.0) (1.0.9)\n",
            "Requirement already satisfied: h11>=0.16 in /usr/local/lib/python3.11/dist-packages (from httpcore==1.*->httpx<1,>=0.23.0->langsmith<0.2.0,>=0.1.17->langchain==0.2.0) (0.16.0)\n",
            "Requirement already satisfied: jsonpointer>=1.9 in /usr/local/lib/python3.11/dist-packages (from jsonpatch<2.0,>=1.33->langchain-core<0.3.0,>=0.2.0->langchain==0.2.0) (3.0.0)\n",
            "Requirement already satisfied: mypy-extensions>=0.3.0 in /usr/local/lib/python3.11/dist-packages (from typing-inspect<1,>=0.4.0->dataclasses-json<0.7,>=0.5.7->langchain==0.2.0) (1.1.0)\n",
            "Requirement already satisfied: sniffio>=1.1 in /usr/local/lib/python3.11/dist-packages (from anyio->httpx<1,>=0.23.0->langsmith<0.2.0,>=0.1.17->langchain==0.2.0) (1.3.1)\n",
            "Using cached tenacity-8.5.0-py3-none-any.whl (28 kB)\n",
            "Using cached packaging-24.2-py3-none-any.whl (65 kB)\n",
            "Installing collected packages: tenacity, packaging\n",
            "  Attempting uninstall: tenacity\n",
            "    Found existing installation: tenacity 9.1.2\n",
            "    Uninstalling tenacity-9.1.2:\n",
            "      Successfully uninstalled tenacity-9.1.2\n",
            "  Attempting uninstall: packaging\n",
            "    Found existing installation: packaging 25.0\n",
            "    Uninstalling packaging-25.0:\n",
            "      Successfully uninstalled packaging-25.0\n",
            "\u001b[31mERROR: pip's dependency resolver does not currently take into account all the packages that are installed. This behaviour is the source of the following dependency conflicts.\n",
            "bigframes 2.4.0 requires rich<14,>=12.4.4, but you have rich 14.0.0 which is incompatible.\n",
            "scikit-image 0.25.2 requires scipy>=1.11.4, but you have scipy 1.10.1 which is incompatible.\n",
            "thinc 8.3.6 requires numpy<3.0.0,>=2.0.0, but you have numpy 1.26.4 which is incompatible.\n",
            "tsfresh 0.21.0 requires scipy>=1.14.0; python_version >= \"3.10\", but you have scipy 1.10.1 which is incompatible.\u001b[0m\u001b[31m\n",
            "\u001b[0mSuccessfully installed packaging-24.2 tenacity-8.5.0\n"
          ]
        },
        {
          "output_type": "display_data",
          "data": {
            "application/vnd.colab-display-data+json": {
              "pip_warning": {
                "packages": [
                  "tenacity"
                ]
              },
              "id": "fb0b03f02e9f4abd877b23813bd4c678"
            }
          },
          "metadata": {}
        },
        {
          "output_type": "stream",
          "name": "stdout",
          "text": [
            "Requirement already satisfied: langchain-community==0.2.0 in /usr/local/lib/python3.11/dist-packages (0.2.0)\n",
            "Requirement already satisfied: PyYAML>=5.3 in /usr/local/lib/python3.11/dist-packages (from langchain-community==0.2.0) (6.0.2)\n",
            "Requirement already satisfied: SQLAlchemy<3,>=1.4 in /usr/local/lib/python3.11/dist-packages (from langchain-community==0.2.0) (2.0.40)\n",
            "Requirement already satisfied: aiohttp<4.0.0,>=3.8.3 in /usr/local/lib/python3.11/dist-packages (from langchain-community==0.2.0) (3.11.15)\n",
            "Requirement already satisfied: dataclasses-json<0.7,>=0.5.7 in /usr/local/lib/python3.11/dist-packages (from langchain-community==0.2.0) (0.6.7)\n",
            "Requirement already satisfied: langchain<0.3.0,>=0.2.0 in /usr/local/lib/python3.11/dist-packages (from langchain-community==0.2.0) (0.2.0)\n",
            "Requirement already satisfied: langchain-core<0.3.0,>=0.2.0 in /usr/local/lib/python3.11/dist-packages (from langchain-community==0.2.0) (0.2.43)\n",
            "Requirement already satisfied: langsmith<0.2.0,>=0.1.0 in /usr/local/lib/python3.11/dist-packages (from langchain-community==0.2.0) (0.1.147)\n",
            "Requirement already satisfied: numpy<2,>=1 in /usr/local/lib/python3.11/dist-packages (from langchain-community==0.2.0) (1.26.4)\n",
            "Requirement already satisfied: requests<3,>=2 in /usr/local/lib/python3.11/dist-packages (from langchain-community==0.2.0) (2.32.3)\n",
            "Requirement already satisfied: tenacity<9.0.0,>=8.1.0 in /usr/local/lib/python3.11/dist-packages (from langchain-community==0.2.0) (8.5.0)\n",
            "Requirement already satisfied: aiohappyeyeballs>=2.3.0 in /usr/local/lib/python3.11/dist-packages (from aiohttp<4.0.0,>=3.8.3->langchain-community==0.2.0) (2.6.1)\n",
            "Requirement already satisfied: aiosignal>=1.1.2 in /usr/local/lib/python3.11/dist-packages (from aiohttp<4.0.0,>=3.8.3->langchain-community==0.2.0) (1.3.2)\n",
            "Requirement already satisfied: attrs>=17.3.0 in /usr/local/lib/python3.11/dist-packages (from aiohttp<4.0.0,>=3.8.3->langchain-community==0.2.0) (25.3.0)\n",
            "Requirement already satisfied: frozenlist>=1.1.1 in /usr/local/lib/python3.11/dist-packages (from aiohttp<4.0.0,>=3.8.3->langchain-community==0.2.0) (1.6.0)\n",
            "Requirement already satisfied: multidict<7.0,>=4.5 in /usr/local/lib/python3.11/dist-packages (from aiohttp<4.0.0,>=3.8.3->langchain-community==0.2.0) (6.4.3)\n",
            "Requirement already satisfied: propcache>=0.2.0 in /usr/local/lib/python3.11/dist-packages (from aiohttp<4.0.0,>=3.8.3->langchain-community==0.2.0) (0.3.1)\n",
            "Requirement already satisfied: yarl<2.0,>=1.17.0 in /usr/local/lib/python3.11/dist-packages (from aiohttp<4.0.0,>=3.8.3->langchain-community==0.2.0) (1.20.0)\n",
            "Requirement already satisfied: marshmallow<4.0.0,>=3.18.0 in /usr/local/lib/python3.11/dist-packages (from dataclasses-json<0.7,>=0.5.7->langchain-community==0.2.0) (3.26.1)\n",
            "Requirement already satisfied: typing-inspect<1,>=0.4.0 in /usr/local/lib/python3.11/dist-packages (from dataclasses-json<0.7,>=0.5.7->langchain-community==0.2.0) (0.9.0)\n",
            "Requirement already satisfied: langchain-text-splitters<0.3.0,>=0.2.0 in /usr/local/lib/python3.11/dist-packages (from langchain<0.3.0,>=0.2.0->langchain-community==0.2.0) (0.2.4)\n",
            "Requirement already satisfied: pydantic<3,>=1 in /usr/local/lib/python3.11/dist-packages (from langchain<0.3.0,>=0.2.0->langchain-community==0.2.0) (2.11.5)\n",
            "Requirement already satisfied: jsonpatch<2.0,>=1.33 in /usr/local/lib/python3.11/dist-packages (from langchain-core<0.3.0,>=0.2.0->langchain-community==0.2.0) (1.33)\n",
            "Requirement already satisfied: packaging<25,>=23.2 in /usr/local/lib/python3.11/dist-packages (from langchain-core<0.3.0,>=0.2.0->langchain-community==0.2.0) (24.2)\n",
            "Requirement already satisfied: typing-extensions>=4.7 in /usr/local/lib/python3.11/dist-packages (from langchain-core<0.3.0,>=0.2.0->langchain-community==0.2.0) (4.13.2)\n",
            "Requirement already satisfied: httpx<1,>=0.23.0 in /usr/local/lib/python3.11/dist-packages (from langsmith<0.2.0,>=0.1.0->langchain-community==0.2.0) (0.28.1)\n",
            "Requirement already satisfied: orjson<4.0.0,>=3.9.14 in /usr/local/lib/python3.11/dist-packages (from langsmith<0.2.0,>=0.1.0->langchain-community==0.2.0) (3.10.18)\n",
            "Requirement already satisfied: requests-toolbelt<2.0.0,>=1.0.0 in /usr/local/lib/python3.11/dist-packages (from langsmith<0.2.0,>=0.1.0->langchain-community==0.2.0) (1.0.0)\n",
            "Requirement already satisfied: charset-normalizer<4,>=2 in /usr/local/lib/python3.11/dist-packages (from requests<3,>=2->langchain-community==0.2.0) (3.4.2)\n",
            "Requirement already satisfied: idna<4,>=2.5 in /usr/local/lib/python3.11/dist-packages (from requests<3,>=2->langchain-community==0.2.0) (3.10)\n",
            "Requirement already satisfied: urllib3<3,>=1.21.1 in /usr/local/lib/python3.11/dist-packages (from requests<3,>=2->langchain-community==0.2.0) (2.4.0)\n",
            "Requirement already satisfied: certifi>=2017.4.17 in /usr/local/lib/python3.11/dist-packages (from requests<3,>=2->langchain-community==0.2.0) (2025.4.26)\n",
            "Requirement already satisfied: greenlet>=1 in /usr/local/lib/python3.11/dist-packages (from SQLAlchemy<3,>=1.4->langchain-community==0.2.0) (3.2.2)\n",
            "Requirement already satisfied: anyio in /usr/local/lib/python3.11/dist-packages (from httpx<1,>=0.23.0->langsmith<0.2.0,>=0.1.0->langchain-community==0.2.0) (4.9.0)\n",
            "Requirement already satisfied: httpcore==1.* in /usr/local/lib/python3.11/dist-packages (from httpx<1,>=0.23.0->langsmith<0.2.0,>=0.1.0->langchain-community==0.2.0) (1.0.9)\n",
            "Requirement already satisfied: h11>=0.16 in /usr/local/lib/python3.11/dist-packages (from httpcore==1.*->httpx<1,>=0.23.0->langsmith<0.2.0,>=0.1.0->langchain-community==0.2.0) (0.16.0)\n",
            "Requirement already satisfied: jsonpointer>=1.9 in /usr/local/lib/python3.11/dist-packages (from jsonpatch<2.0,>=1.33->langchain-core<0.3.0,>=0.2.0->langchain-community==0.2.0) (3.0.0)\n",
            "Requirement already satisfied: annotated-types>=0.6.0 in /usr/local/lib/python3.11/dist-packages (from pydantic<3,>=1->langchain<0.3.0,>=0.2.0->langchain-community==0.2.0) (0.7.0)\n",
            "Requirement already satisfied: pydantic-core==2.33.2 in /usr/local/lib/python3.11/dist-packages (from pydantic<3,>=1->langchain<0.3.0,>=0.2.0->langchain-community==0.2.0) (2.33.2)\n",
            "Requirement already satisfied: typing-inspection>=0.4.0 in /usr/local/lib/python3.11/dist-packages (from pydantic<3,>=1->langchain<0.3.0,>=0.2.0->langchain-community==0.2.0) (0.4.1)\n",
            "Requirement already satisfied: mypy-extensions>=0.3.0 in /usr/local/lib/python3.11/dist-packages (from typing-inspect<1,>=0.4.0->dataclasses-json<0.7,>=0.5.7->langchain-community==0.2.0) (1.1.0)\n",
            "Requirement already satisfied: sniffio>=1.1 in /usr/local/lib/python3.11/dist-packages (from anyio->httpx<1,>=0.23.0->langsmith<0.2.0,>=0.1.0->langchain-community==0.2.0) (1.3.1)\n",
            "Requirement already satisfied: langgraph==0.1.1 in /usr/local/lib/python3.11/dist-packages (0.1.1)\n",
            "Requirement already satisfied: langchain-core<0.3,>=0.2 in /usr/local/lib/python3.11/dist-packages (from langgraph==0.1.1) (0.2.43)\n",
            "Requirement already satisfied: PyYAML>=5.3 in /usr/local/lib/python3.11/dist-packages (from langchain-core<0.3,>=0.2->langgraph==0.1.1) (6.0.2)\n",
            "Requirement already satisfied: jsonpatch<2.0,>=1.33 in /usr/local/lib/python3.11/dist-packages (from langchain-core<0.3,>=0.2->langgraph==0.1.1) (1.33)\n",
            "Requirement already satisfied: langsmith<0.2.0,>=0.1.112 in /usr/local/lib/python3.11/dist-packages (from langchain-core<0.3,>=0.2->langgraph==0.1.1) (0.1.147)\n",
            "Requirement already satisfied: packaging<25,>=23.2 in /usr/local/lib/python3.11/dist-packages (from langchain-core<0.3,>=0.2->langgraph==0.1.1) (24.2)\n",
            "Requirement already satisfied: pydantic<3,>=1 in /usr/local/lib/python3.11/dist-packages (from langchain-core<0.3,>=0.2->langgraph==0.1.1) (2.11.5)\n",
            "Requirement already satisfied: tenacity!=8.4.0,<9.0.0,>=8.1.0 in /usr/local/lib/python3.11/dist-packages (from langchain-core<0.3,>=0.2->langgraph==0.1.1) (8.5.0)\n",
            "Requirement already satisfied: typing-extensions>=4.7 in /usr/local/lib/python3.11/dist-packages (from langchain-core<0.3,>=0.2->langgraph==0.1.1) (4.13.2)\n",
            "Requirement already satisfied: jsonpointer>=1.9 in /usr/local/lib/python3.11/dist-packages (from jsonpatch<2.0,>=1.33->langchain-core<0.3,>=0.2->langgraph==0.1.1) (3.0.0)\n",
            "Requirement already satisfied: httpx<1,>=0.23.0 in /usr/local/lib/python3.11/dist-packages (from langsmith<0.2.0,>=0.1.112->langchain-core<0.3,>=0.2->langgraph==0.1.1) (0.28.1)\n",
            "Requirement already satisfied: orjson<4.0.0,>=3.9.14 in /usr/local/lib/python3.11/dist-packages (from langsmith<0.2.0,>=0.1.112->langchain-core<0.3,>=0.2->langgraph==0.1.1) (3.10.18)\n",
            "Requirement already satisfied: requests<3,>=2 in /usr/local/lib/python3.11/dist-packages (from langsmith<0.2.0,>=0.1.112->langchain-core<0.3,>=0.2->langgraph==0.1.1) (2.32.3)\n",
            "Requirement already satisfied: requests-toolbelt<2.0.0,>=1.0.0 in /usr/local/lib/python3.11/dist-packages (from langsmith<0.2.0,>=0.1.112->langchain-core<0.3,>=0.2->langgraph==0.1.1) (1.0.0)\n",
            "Requirement already satisfied: annotated-types>=0.6.0 in /usr/local/lib/python3.11/dist-packages (from pydantic<3,>=1->langchain-core<0.3,>=0.2->langgraph==0.1.1) (0.7.0)\n",
            "Requirement already satisfied: pydantic-core==2.33.2 in /usr/local/lib/python3.11/dist-packages (from pydantic<3,>=1->langchain-core<0.3,>=0.2->langgraph==0.1.1) (2.33.2)\n",
            "Requirement already satisfied: typing-inspection>=0.4.0 in /usr/local/lib/python3.11/dist-packages (from pydantic<3,>=1->langchain-core<0.3,>=0.2->langgraph==0.1.1) (0.4.1)\n",
            "Requirement already satisfied: anyio in /usr/local/lib/python3.11/dist-packages (from httpx<1,>=0.23.0->langsmith<0.2.0,>=0.1.112->langchain-core<0.3,>=0.2->langgraph==0.1.1) (4.9.0)\n",
            "Requirement already satisfied: certifi in /usr/local/lib/python3.11/dist-packages (from httpx<1,>=0.23.0->langsmith<0.2.0,>=0.1.112->langchain-core<0.3,>=0.2->langgraph==0.1.1) (2025.4.26)\n",
            "Requirement already satisfied: httpcore==1.* in /usr/local/lib/python3.11/dist-packages (from httpx<1,>=0.23.0->langsmith<0.2.0,>=0.1.112->langchain-core<0.3,>=0.2->langgraph==0.1.1) (1.0.9)\n",
            "Requirement already satisfied: idna in /usr/local/lib/python3.11/dist-packages (from httpx<1,>=0.23.0->langsmith<0.2.0,>=0.1.112->langchain-core<0.3,>=0.2->langgraph==0.1.1) (3.10)\n",
            "Requirement already satisfied: h11>=0.16 in /usr/local/lib/python3.11/dist-packages (from httpcore==1.*->httpx<1,>=0.23.0->langsmith<0.2.0,>=0.1.112->langchain-core<0.3,>=0.2->langgraph==0.1.1) (0.16.0)\n",
            "Requirement already satisfied: charset-normalizer<4,>=2 in /usr/local/lib/python3.11/dist-packages (from requests<3,>=2->langsmith<0.2.0,>=0.1.112->langchain-core<0.3,>=0.2->langgraph==0.1.1) (3.4.2)\n",
            "Requirement already satisfied: urllib3<3,>=1.21.1 in /usr/local/lib/python3.11/dist-packages (from requests<3,>=2->langsmith<0.2.0,>=0.1.112->langchain-core<0.3,>=0.2->langgraph==0.1.1) (2.4.0)\n",
            "Requirement already satisfied: sniffio>=1.1 in /usr/local/lib/python3.11/dist-packages (from anyio->httpx<1,>=0.23.0->langsmith<0.2.0,>=0.1.112->langchain-core<0.3,>=0.2->langgraph==0.1.1) (1.3.1)\n",
            "Requirement already satisfied: langchain-chroma==0.1.1 in /usr/local/lib/python3.11/dist-packages (0.1.1)\n",
            "Requirement already satisfied: chromadb<0.6.0,>=0.4.0 in /usr/local/lib/python3.11/dist-packages (from langchain-chroma==0.1.1) (0.4.24)\n",
            "Requirement already satisfied: fastapi<1,>=0.95.2 in /usr/local/lib/python3.11/dist-packages (from langchain-chroma==0.1.1) (0.115.12)\n",
            "Requirement already satisfied: langchain-core<0.3,>=0.1.40 in /usr/local/lib/python3.11/dist-packages (from langchain-chroma==0.1.1) (0.2.43)\n",
            "Requirement already satisfied: numpy<2,>=1 in /usr/local/lib/python3.11/dist-packages (from langchain-chroma==0.1.1) (1.26.4)\n",
            "Requirement already satisfied: build>=1.0.3 in /usr/local/lib/python3.11/dist-packages (from chromadb<0.6.0,>=0.4.0->langchain-chroma==0.1.1) (1.2.2.post1)\n",
            "Requirement already satisfied: requests>=2.28 in /usr/local/lib/python3.11/dist-packages (from chromadb<0.6.0,>=0.4.0->langchain-chroma==0.1.1) (2.32.3)\n",
            "Requirement already satisfied: pydantic>=1.9 in /usr/local/lib/python3.11/dist-packages (from chromadb<0.6.0,>=0.4.0->langchain-chroma==0.1.1) (2.11.5)\n",
            "Requirement already satisfied: chroma-hnswlib==0.7.3 in /usr/local/lib/python3.11/dist-packages (from chromadb<0.6.0,>=0.4.0->langchain-chroma==0.1.1) (0.7.3)\n",
            "Requirement already satisfied: uvicorn>=0.18.3 in /usr/local/lib/python3.11/dist-packages (from uvicorn[standard]>=0.18.3->chromadb<0.6.0,>=0.4.0->langchain-chroma==0.1.1) (0.34.2)\n",
            "Requirement already satisfied: posthog>=2.4.0 in /usr/local/lib/python3.11/dist-packages (from chromadb<0.6.0,>=0.4.0->langchain-chroma==0.1.1) (4.1.0)\n",
            "Requirement already satisfied: typing-extensions>=4.5.0 in /usr/local/lib/python3.11/dist-packages (from chromadb<0.6.0,>=0.4.0->langchain-chroma==0.1.1) (4.13.2)\n",
            "Requirement already satisfied: pulsar-client>=3.1.0 in /usr/local/lib/python3.11/dist-packages (from chromadb<0.6.0,>=0.4.0->langchain-chroma==0.1.1) (3.7.0)\n",
            "Requirement already satisfied: onnxruntime>=1.14.1 in /usr/local/lib/python3.11/dist-packages (from chromadb<0.6.0,>=0.4.0->langchain-chroma==0.1.1) (1.22.0)\n",
            "Requirement already satisfied: opentelemetry-api>=1.2.0 in /usr/local/lib/python3.11/dist-packages (from chromadb<0.6.0,>=0.4.0->langchain-chroma==0.1.1) (1.33.1)\n",
            "Requirement already satisfied: opentelemetry-exporter-otlp-proto-grpc>=1.2.0 in /usr/local/lib/python3.11/dist-packages (from chromadb<0.6.0,>=0.4.0->langchain-chroma==0.1.1) (1.33.1)\n",
            "Requirement already satisfied: opentelemetry-instrumentation-fastapi>=0.41b0 in /usr/local/lib/python3.11/dist-packages (from chromadb<0.6.0,>=0.4.0->langchain-chroma==0.1.1) (0.54b1)\n",
            "Requirement already satisfied: opentelemetry-sdk>=1.2.0 in /usr/local/lib/python3.11/dist-packages (from chromadb<0.6.0,>=0.4.0->langchain-chroma==0.1.1) (1.33.1)\n",
            "Requirement already satisfied: tokenizers>=0.13.2 in /usr/local/lib/python3.11/dist-packages (from chromadb<0.6.0,>=0.4.0->langchain-chroma==0.1.1) (0.21.1)\n",
            "Requirement already satisfied: pypika>=0.48.9 in /usr/local/lib/python3.11/dist-packages (from chromadb<0.6.0,>=0.4.0->langchain-chroma==0.1.1) (0.48.9)\n",
            "Requirement already satisfied: tqdm>=4.65.0 in /usr/local/lib/python3.11/dist-packages (from chromadb<0.6.0,>=0.4.0->langchain-chroma==0.1.1) (4.67.1)\n",
            "Requirement already satisfied: overrides>=7.3.1 in /usr/local/lib/python3.11/dist-packages (from chromadb<0.6.0,>=0.4.0->langchain-chroma==0.1.1) (7.7.0)\n",
            "Requirement already satisfied: importlib-resources in /usr/local/lib/python3.11/dist-packages (from chromadb<0.6.0,>=0.4.0->langchain-chroma==0.1.1) (6.5.2)\n",
            "Requirement already satisfied: grpcio>=1.58.0 in /usr/local/lib/python3.11/dist-packages (from chromadb<0.6.0,>=0.4.0->langchain-chroma==0.1.1) (1.71.0)\n",
            "Requirement already satisfied: bcrypt>=4.0.1 in /usr/local/lib/python3.11/dist-packages (from chromadb<0.6.0,>=0.4.0->langchain-chroma==0.1.1) (4.3.0)\n",
            "Requirement already satisfied: typer>=0.9.0 in /usr/local/lib/python3.11/dist-packages (from chromadb<0.6.0,>=0.4.0->langchain-chroma==0.1.1) (0.15.4)\n",
            "Requirement already satisfied: kubernetes>=28.1.0 in /usr/local/lib/python3.11/dist-packages (from chromadb<0.6.0,>=0.4.0->langchain-chroma==0.1.1) (32.0.1)\n",
            "Requirement already satisfied: tenacity>=8.2.3 in /usr/local/lib/python3.11/dist-packages (from chromadb<0.6.0,>=0.4.0->langchain-chroma==0.1.1) (8.5.0)\n",
            "Requirement already satisfied: PyYAML>=6.0.0 in /usr/local/lib/python3.11/dist-packages (from chromadb<0.6.0,>=0.4.0->langchain-chroma==0.1.1) (6.0.2)\n",
            "Requirement already satisfied: mmh3>=4.0.1 in /usr/local/lib/python3.11/dist-packages (from chromadb<0.6.0,>=0.4.0->langchain-chroma==0.1.1) (5.1.0)\n",
            "Requirement already satisfied: orjson>=3.9.12 in /usr/local/lib/python3.11/dist-packages (from chromadb<0.6.0,>=0.4.0->langchain-chroma==0.1.1) (3.10.18)\n",
            "Requirement already satisfied: starlette<0.47.0,>=0.40.0 in /usr/local/lib/python3.11/dist-packages (from fastapi<1,>=0.95.2->langchain-chroma==0.1.1) (0.46.2)\n",
            "Requirement already satisfied: jsonpatch<2.0,>=1.33 in /usr/local/lib/python3.11/dist-packages (from langchain-core<0.3,>=0.1.40->langchain-chroma==0.1.1) (1.33)\n",
            "Requirement already satisfied: langsmith<0.2.0,>=0.1.112 in /usr/local/lib/python3.11/dist-packages (from langchain-core<0.3,>=0.1.40->langchain-chroma==0.1.1) (0.1.147)\n",
            "Requirement already satisfied: packaging<25,>=23.2 in /usr/local/lib/python3.11/dist-packages (from langchain-core<0.3,>=0.1.40->langchain-chroma==0.1.1) (24.2)\n",
            "Requirement already satisfied: pyproject_hooks in /usr/local/lib/python3.11/dist-packages (from build>=1.0.3->chromadb<0.6.0,>=0.4.0->langchain-chroma==0.1.1) (1.2.0)\n",
            "Requirement already satisfied: jsonpointer>=1.9 in /usr/local/lib/python3.11/dist-packages (from jsonpatch<2.0,>=1.33->langchain-core<0.3,>=0.1.40->langchain-chroma==0.1.1) (3.0.0)\n",
            "Requirement already satisfied: certifi>=14.05.14 in /usr/local/lib/python3.11/dist-packages (from kubernetes>=28.1.0->chromadb<0.6.0,>=0.4.0->langchain-chroma==0.1.1) (2025.4.26)\n",
            "Requirement already satisfied: six>=1.9.0 in /usr/local/lib/python3.11/dist-packages (from kubernetes>=28.1.0->chromadb<0.6.0,>=0.4.0->langchain-chroma==0.1.1) (1.17.0)\n",
            "Requirement already satisfied: python-dateutil>=2.5.3 in /usr/local/lib/python3.11/dist-packages (from kubernetes>=28.1.0->chromadb<0.6.0,>=0.4.0->langchain-chroma==0.1.1) (2.9.0.post0)\n",
            "Requirement already satisfied: google-auth>=1.0.1 in /usr/local/lib/python3.11/dist-packages (from kubernetes>=28.1.0->chromadb<0.6.0,>=0.4.0->langchain-chroma==0.1.1) (2.40.2)\n",
            "Requirement already satisfied: websocket-client!=0.40.0,!=0.41.*,!=0.42.*,>=0.32.0 in /usr/local/lib/python3.11/dist-packages (from kubernetes>=28.1.0->chromadb<0.6.0,>=0.4.0->langchain-chroma==0.1.1) (1.8.0)\n",
            "Requirement already satisfied: requests-oauthlib in /usr/local/lib/python3.11/dist-packages (from kubernetes>=28.1.0->chromadb<0.6.0,>=0.4.0->langchain-chroma==0.1.1) (2.0.0)\n",
            "Requirement already satisfied: oauthlib>=3.2.2 in /usr/local/lib/python3.11/dist-packages (from kubernetes>=28.1.0->chromadb<0.6.0,>=0.4.0->langchain-chroma==0.1.1) (3.2.2)\n",
            "Requirement already satisfied: urllib3>=1.24.2 in /usr/local/lib/python3.11/dist-packages (from kubernetes>=28.1.0->chromadb<0.6.0,>=0.4.0->langchain-chroma==0.1.1) (2.4.0)\n",
            "Requirement already satisfied: durationpy>=0.7 in /usr/local/lib/python3.11/dist-packages (from kubernetes>=28.1.0->chromadb<0.6.0,>=0.4.0->langchain-chroma==0.1.1) (0.10)\n",
            "Requirement already satisfied: httpx<1,>=0.23.0 in /usr/local/lib/python3.11/dist-packages (from langsmith<0.2.0,>=0.1.112->langchain-core<0.3,>=0.1.40->langchain-chroma==0.1.1) (0.28.1)\n",
            "Requirement already satisfied: requests-toolbelt<2.0.0,>=1.0.0 in /usr/local/lib/python3.11/dist-packages (from langsmith<0.2.0,>=0.1.112->langchain-core<0.3,>=0.1.40->langchain-chroma==0.1.1) (1.0.0)\n",
            "Requirement already satisfied: coloredlogs in /usr/local/lib/python3.11/dist-packages (from onnxruntime>=1.14.1->chromadb<0.6.0,>=0.4.0->langchain-chroma==0.1.1) (15.0.1)\n",
            "Requirement already satisfied: flatbuffers in /usr/local/lib/python3.11/dist-packages (from onnxruntime>=1.14.1->chromadb<0.6.0,>=0.4.0->langchain-chroma==0.1.1) (25.2.10)\n",
            "Requirement already satisfied: protobuf in /usr/local/lib/python3.11/dist-packages (from onnxruntime>=1.14.1->chromadb<0.6.0,>=0.4.0->langchain-chroma==0.1.1) (5.29.4)\n",
            "Requirement already satisfied: sympy in /usr/local/lib/python3.11/dist-packages (from onnxruntime>=1.14.1->chromadb<0.6.0,>=0.4.0->langchain-chroma==0.1.1) (1.13.1)\n",
            "Requirement already satisfied: deprecated>=1.2.6 in /usr/local/lib/python3.11/dist-packages (from opentelemetry-api>=1.2.0->chromadb<0.6.0,>=0.4.0->langchain-chroma==0.1.1) (1.2.18)\n",
            "Requirement already satisfied: importlib-metadata<8.7.0,>=6.0 in /usr/local/lib/python3.11/dist-packages (from opentelemetry-api>=1.2.0->chromadb<0.6.0,>=0.4.0->langchain-chroma==0.1.1) (8.6.1)\n",
            "Requirement already satisfied: googleapis-common-protos~=1.52 in /usr/local/lib/python3.11/dist-packages (from opentelemetry-exporter-otlp-proto-grpc>=1.2.0->chromadb<0.6.0,>=0.4.0->langchain-chroma==0.1.1) (1.70.0)\n",
            "Requirement already satisfied: opentelemetry-exporter-otlp-proto-common==1.33.1 in /usr/local/lib/python3.11/dist-packages (from opentelemetry-exporter-otlp-proto-grpc>=1.2.0->chromadb<0.6.0,>=0.4.0->langchain-chroma==0.1.1) (1.33.1)\n",
            "Requirement already satisfied: opentelemetry-proto==1.33.1 in /usr/local/lib/python3.11/dist-packages (from opentelemetry-exporter-otlp-proto-grpc>=1.2.0->chromadb<0.6.0,>=0.4.0->langchain-chroma==0.1.1) (1.33.1)\n",
            "Requirement already satisfied: opentelemetry-instrumentation-asgi==0.54b1 in /usr/local/lib/python3.11/dist-packages (from opentelemetry-instrumentation-fastapi>=0.41b0->chromadb<0.6.0,>=0.4.0->langchain-chroma==0.1.1) (0.54b1)\n",
            "Requirement already satisfied: opentelemetry-instrumentation==0.54b1 in /usr/local/lib/python3.11/dist-packages (from opentelemetry-instrumentation-fastapi>=0.41b0->chromadb<0.6.0,>=0.4.0->langchain-chroma==0.1.1) (0.54b1)\n",
            "Requirement already satisfied: opentelemetry-semantic-conventions==0.54b1 in /usr/local/lib/python3.11/dist-packages (from opentelemetry-instrumentation-fastapi>=0.41b0->chromadb<0.6.0,>=0.4.0->langchain-chroma==0.1.1) (0.54b1)\n",
            "Requirement already satisfied: opentelemetry-util-http==0.54b1 in /usr/local/lib/python3.11/dist-packages (from opentelemetry-instrumentation-fastapi>=0.41b0->chromadb<0.6.0,>=0.4.0->langchain-chroma==0.1.1) (0.54b1)\n",
            "Requirement already satisfied: wrapt<2.0.0,>=1.0.0 in /usr/local/lib/python3.11/dist-packages (from opentelemetry-instrumentation==0.54b1->opentelemetry-instrumentation-fastapi>=0.41b0->chromadb<0.6.0,>=0.4.0->langchain-chroma==0.1.1) (1.17.2)\n",
            "Requirement already satisfied: asgiref~=3.0 in /usr/local/lib/python3.11/dist-packages (from opentelemetry-instrumentation-asgi==0.54b1->opentelemetry-instrumentation-fastapi>=0.41b0->chromadb<0.6.0,>=0.4.0->langchain-chroma==0.1.1) (3.8.1)\n",
            "Requirement already satisfied: backoff>=1.10.0 in /usr/local/lib/python3.11/dist-packages (from posthog>=2.4.0->chromadb<0.6.0,>=0.4.0->langchain-chroma==0.1.1) (2.2.1)\n",
            "Requirement already satisfied: distro>=1.5.0 in /usr/local/lib/python3.11/dist-packages (from posthog>=2.4.0->chromadb<0.6.0,>=0.4.0->langchain-chroma==0.1.1) (1.9.0)\n",
            "Requirement already satisfied: annotated-types>=0.6.0 in /usr/local/lib/python3.11/dist-packages (from pydantic>=1.9->chromadb<0.6.0,>=0.4.0->langchain-chroma==0.1.1) (0.7.0)\n",
            "Requirement already satisfied: pydantic-core==2.33.2 in /usr/local/lib/python3.11/dist-packages (from pydantic>=1.9->chromadb<0.6.0,>=0.4.0->langchain-chroma==0.1.1) (2.33.2)\n",
            "Requirement already satisfied: typing-inspection>=0.4.0 in /usr/local/lib/python3.11/dist-packages (from pydantic>=1.9->chromadb<0.6.0,>=0.4.0->langchain-chroma==0.1.1) (0.4.1)\n",
            "Requirement already satisfied: charset-normalizer<4,>=2 in /usr/local/lib/python3.11/dist-packages (from requests>=2.28->chromadb<0.6.0,>=0.4.0->langchain-chroma==0.1.1) (3.4.2)\n",
            "Requirement already satisfied: idna<4,>=2.5 in /usr/local/lib/python3.11/dist-packages (from requests>=2.28->chromadb<0.6.0,>=0.4.0->langchain-chroma==0.1.1) (3.10)\n",
            "Requirement already satisfied: anyio<5,>=3.6.2 in /usr/local/lib/python3.11/dist-packages (from starlette<0.47.0,>=0.40.0->fastapi<1,>=0.95.2->langchain-chroma==0.1.1) (4.9.0)\n",
            "Requirement already satisfied: huggingface-hub<1.0,>=0.16.4 in /usr/local/lib/python3.11/dist-packages (from tokenizers>=0.13.2->chromadb<0.6.0,>=0.4.0->langchain-chroma==0.1.1) (0.32.0)\n",
            "Requirement already satisfied: click<8.2,>=8.0.0 in /usr/local/lib/python3.11/dist-packages (from typer>=0.9.0->chromadb<0.6.0,>=0.4.0->langchain-chroma==0.1.1) (8.1.8)\n",
            "Requirement already satisfied: shellingham>=1.3.0 in /usr/local/lib/python3.11/dist-packages (from typer>=0.9.0->chromadb<0.6.0,>=0.4.0->langchain-chroma==0.1.1) (1.5.4)\n",
            "Requirement already satisfied: rich>=10.11.0 in /usr/local/lib/python3.11/dist-packages (from typer>=0.9.0->chromadb<0.6.0,>=0.4.0->langchain-chroma==0.1.1) (14.0.0)\n",
            "Requirement already satisfied: h11>=0.8 in /usr/local/lib/python3.11/dist-packages (from uvicorn>=0.18.3->uvicorn[standard]>=0.18.3->chromadb<0.6.0,>=0.4.0->langchain-chroma==0.1.1) (0.16.0)\n",
            "Requirement already satisfied: httptools>=0.6.3 in /usr/local/lib/python3.11/dist-packages (from uvicorn[standard]>=0.18.3->chromadb<0.6.0,>=0.4.0->langchain-chroma==0.1.1) (0.6.4)\n",
            "Requirement already satisfied: python-dotenv>=0.13 in /usr/local/lib/python3.11/dist-packages (from uvicorn[standard]>=0.18.3->chromadb<0.6.0,>=0.4.0->langchain-chroma==0.1.1) (1.1.0)\n",
            "Requirement already satisfied: uvloop!=0.15.0,!=0.15.1,>=0.14.0 in /usr/local/lib/python3.11/dist-packages (from uvicorn[standard]>=0.18.3->chromadb<0.6.0,>=0.4.0->langchain-chroma==0.1.1) (0.21.0)\n",
            "Requirement already satisfied: watchfiles>=0.13 in /usr/local/lib/python3.11/dist-packages (from uvicorn[standard]>=0.18.3->chromadb<0.6.0,>=0.4.0->langchain-chroma==0.1.1) (1.0.5)\n",
            "Requirement already satisfied: websockets>=10.4 in /usr/local/lib/python3.11/dist-packages (from uvicorn[standard]>=0.18.3->chromadb<0.6.0,>=0.4.0->langchain-chroma==0.1.1) (15.0.1)\n",
            "Requirement already satisfied: sniffio>=1.1 in /usr/local/lib/python3.11/dist-packages (from anyio<5,>=3.6.2->starlette<0.47.0,>=0.40.0->fastapi<1,>=0.95.2->langchain-chroma==0.1.1) (1.3.1)\n",
            "Requirement already satisfied: cachetools<6.0,>=2.0.0 in /usr/local/lib/python3.11/dist-packages (from google-auth>=1.0.1->kubernetes>=28.1.0->chromadb<0.6.0,>=0.4.0->langchain-chroma==0.1.1) (5.5.2)\n",
            "Requirement already satisfied: pyasn1-modules>=0.2.1 in /usr/local/lib/python3.11/dist-packages (from google-auth>=1.0.1->kubernetes>=28.1.0->chromadb<0.6.0,>=0.4.0->langchain-chroma==0.1.1) (0.4.2)\n",
            "Requirement already satisfied: rsa<5,>=3.1.4 in /usr/local/lib/python3.11/dist-packages (from google-auth>=1.0.1->kubernetes>=28.1.0->chromadb<0.6.0,>=0.4.0->langchain-chroma==0.1.1) (4.9.1)\n",
            "Requirement already satisfied: httpcore==1.* in /usr/local/lib/python3.11/dist-packages (from httpx<1,>=0.23.0->langsmith<0.2.0,>=0.1.112->langchain-core<0.3,>=0.1.40->langchain-chroma==0.1.1) (1.0.9)\n",
            "Requirement already satisfied: filelock in /usr/local/lib/python3.11/dist-packages (from huggingface-hub<1.0,>=0.16.4->tokenizers>=0.13.2->chromadb<0.6.0,>=0.4.0->langchain-chroma==0.1.1) (3.18.0)\n",
            "Requirement already satisfied: fsspec>=2023.5.0 in /usr/local/lib/python3.11/dist-packages (from huggingface-hub<1.0,>=0.16.4->tokenizers>=0.13.2->chromadb<0.6.0,>=0.4.0->langchain-chroma==0.1.1) (2025.5.0)\n",
            "Requirement already satisfied: hf-xet<2.0.0,>=1.1.2 in /usr/local/lib/python3.11/dist-packages (from huggingface-hub<1.0,>=0.16.4->tokenizers>=0.13.2->chromadb<0.6.0,>=0.4.0->langchain-chroma==0.1.1) (1.1.2)\n",
            "Requirement already satisfied: zipp>=3.20 in /usr/local/lib/python3.11/dist-packages (from importlib-metadata<8.7.0,>=6.0->opentelemetry-api>=1.2.0->chromadb<0.6.0,>=0.4.0->langchain-chroma==0.1.1) (3.21.0)\n",
            "Requirement already satisfied: markdown-it-py>=2.2.0 in /usr/local/lib/python3.11/dist-packages (from rich>=10.11.0->typer>=0.9.0->chromadb<0.6.0,>=0.4.0->langchain-chroma==0.1.1) (3.0.0)\n",
            "Requirement already satisfied: pygments<3.0.0,>=2.13.0 in /usr/local/lib/python3.11/dist-packages (from rich>=10.11.0->typer>=0.9.0->chromadb<0.6.0,>=0.4.0->langchain-chroma==0.1.1) (2.19.1)\n",
            "Requirement already satisfied: humanfriendly>=9.1 in /usr/local/lib/python3.11/dist-packages (from coloredlogs->onnxruntime>=1.14.1->chromadb<0.6.0,>=0.4.0->langchain-chroma==0.1.1) (10.0)\n",
            "Requirement already satisfied: mpmath<1.4,>=1.1.0 in /usr/local/lib/python3.11/dist-packages (from sympy->onnxruntime>=1.14.1->chromadb<0.6.0,>=0.4.0->langchain-chroma==0.1.1) (1.3.0)\n",
            "Requirement already satisfied: mdurl~=0.1 in /usr/local/lib/python3.11/dist-packages (from markdown-it-py>=2.2.0->rich>=10.11.0->typer>=0.9.0->chromadb<0.6.0,>=0.4.0->langchain-chroma==0.1.1) (0.1.2)\n",
            "Requirement already satisfied: pyasn1<0.7.0,>=0.6.1 in /usr/local/lib/python3.11/dist-packages (from pyasn1-modules>=0.2.1->google-auth>=1.0.1->kubernetes>=28.1.0->chromadb<0.6.0,>=0.4.0->langchain-chroma==0.1.1) (0.6.1)\n",
            "Requirement already satisfied: huggingface_hub in /usr/local/lib/python3.11/dist-packages (0.32.0)\n",
            "Requirement already satisfied: filelock in /usr/local/lib/python3.11/dist-packages (from huggingface_hub) (3.18.0)\n",
            "Requirement already satisfied: fsspec>=2023.5.0 in /usr/local/lib/python3.11/dist-packages (from huggingface_hub) (2025.5.0)\n",
            "Requirement already satisfied: packaging>=20.9 in /usr/local/lib/python3.11/dist-packages (from huggingface_hub) (24.2)\n",
            "Requirement already satisfied: pyyaml>=5.1 in /usr/local/lib/python3.11/dist-packages (from huggingface_hub) (6.0.2)\n",
            "Requirement already satisfied: requests in /usr/local/lib/python3.11/dist-packages (from huggingface_hub) (2.32.3)\n",
            "Requirement already satisfied: tqdm>=4.42.1 in /usr/local/lib/python3.11/dist-packages (from huggingface_hub) (4.67.1)\n",
            "Requirement already satisfied: typing-extensions>=3.7.4.3 in /usr/local/lib/python3.11/dist-packages (from huggingface_hub) (4.13.2)\n",
            "Requirement already satisfied: hf-xet<2.0.0,>=1.1.2 in /usr/local/lib/python3.11/dist-packages (from huggingface_hub) (1.1.2)\n",
            "Requirement already satisfied: charset-normalizer<4,>=2 in /usr/local/lib/python3.11/dist-packages (from requests->huggingface_hub) (3.4.2)\n",
            "Requirement already satisfied: idna<4,>=2.5 in /usr/local/lib/python3.11/dist-packages (from requests->huggingface_hub) (3.10)\n",
            "Requirement already satisfied: urllib3<3,>=1.21.1 in /usr/local/lib/python3.11/dist-packages (from requests->huggingface_hub) (2.4.0)\n",
            "Requirement already satisfied: certifi>=2017.4.17 in /usr/local/lib/python3.11/dist-packages (from requests->huggingface_hub) (2025.4.26)\n",
            "Collecting chromadb==0.5.23\n",
            "  Using cached chromadb-0.5.23-py3-none-any.whl.metadata (6.8 kB)\n",
            "Collecting tokenizers==0.20.3\n",
            "  Using cached tokenizers-0.20.3-cp311-cp311-manylinux_2_17_x86_64.manylinux2014_x86_64.whl.metadata (6.7 kB)\n",
            "Collecting transformers==4.29.2\n",
            "  Using cached transformers-4.29.2-py3-none-any.whl.metadata (112 kB)\n",
            "Collecting build>=1.0.3 (from chromadb==0.5.23)\n",
            "  Using cached build-1.2.2.post1-py3-none-any.whl.metadata (6.5 kB)\n",
            "Collecting pydantic>=1.9 (from chromadb==0.5.23)\n",
            "  Using cached pydantic-2.11.5-py3-none-any.whl.metadata (67 kB)\n",
            "Collecting chroma-hnswlib==0.7.6 (from chromadb==0.5.23)\n",
            "  Using cached chroma_hnswlib-0.7.6-cp311-cp311-manylinux_2_17_x86_64.manylinux2014_x86_64.whl.metadata (252 bytes)\n",
            "Collecting fastapi>=0.95.2 (from chromadb==0.5.23)\n",
            "  Using cached fastapi-0.115.12-py3-none-any.whl.metadata (27 kB)\n",
            "Collecting uvicorn>=0.18.3 (from uvicorn[standard]>=0.18.3->chromadb==0.5.23)\n",
            "  Using cached uvicorn-0.34.2-py3-none-any.whl.metadata (6.5 kB)\n",
            "Collecting numpy>=1.22.5 (from chromadb==0.5.23)\n",
            "  Using cached numpy-2.2.6-cp311-cp311-manylinux_2_17_x86_64.manylinux2014_x86_64.whl.metadata (62 kB)\n",
            "Collecting posthog>=2.4.0 (from chromadb==0.5.23)\n",
            "  Downloading posthog-4.2.0-py2.py3-none-any.whl.metadata (3.0 kB)\n",
            "Collecting typing_extensions>=4.5.0 (from chromadb==0.5.23)\n",
            "  Using cached typing_extensions-4.13.2-py3-none-any.whl.metadata (3.0 kB)\n",
            "Collecting onnxruntime>=1.14.1 (from chromadb==0.5.23)\n",
            "  Using cached onnxruntime-1.22.0-cp311-cp311-manylinux_2_27_x86_64.manylinux_2_28_x86_64.whl.metadata (4.5 kB)\n",
            "Collecting opentelemetry-api>=1.2.0 (from chromadb==0.5.23)\n",
            "  Using cached opentelemetry_api-1.33.1-py3-none-any.whl.metadata (1.6 kB)\n",
            "Collecting opentelemetry-exporter-otlp-proto-grpc>=1.2.0 (from chromadb==0.5.23)\n",
            "  Using cached opentelemetry_exporter_otlp_proto_grpc-1.33.1-py3-none-any.whl.metadata (2.5 kB)\n",
            "Collecting opentelemetry-instrumentation-fastapi>=0.41b0 (from chromadb==0.5.23)\n",
            "  Using cached opentelemetry_instrumentation_fastapi-0.54b1-py3-none-any.whl.metadata (2.2 kB)\n",
            "Collecting opentelemetry-sdk>=1.2.0 (from chromadb==0.5.23)\n",
            "  Using cached opentelemetry_sdk-1.33.1-py3-none-any.whl.metadata (1.6 kB)\n",
            "Collecting pypika>=0.48.9 (from chromadb==0.5.23)\n",
            "  Using cached pypika-0.48.9-py2.py3-none-any.whl\n",
            "Collecting tqdm>=4.65.0 (from chromadb==0.5.23)\n",
            "  Using cached tqdm-4.67.1-py3-none-any.whl.metadata (57 kB)\n",
            "Collecting overrides>=7.3.1 (from chromadb==0.5.23)\n",
            "  Using cached overrides-7.7.0-py3-none-any.whl.metadata (5.8 kB)\n",
            "Collecting importlib-resources (from chromadb==0.5.23)\n",
            "  Using cached importlib_resources-6.5.2-py3-none-any.whl.metadata (3.9 kB)\n",
            "Collecting grpcio>=1.58.0 (from chromadb==0.5.23)\n",
            "  Using cached grpcio-1.71.0-cp311-cp311-manylinux_2_17_x86_64.manylinux2014_x86_64.whl.metadata (3.8 kB)\n",
            "Collecting bcrypt>=4.0.1 (from chromadb==0.5.23)\n",
            "  Using cached bcrypt-4.3.0-cp39-abi3-manylinux_2_34_x86_64.whl.metadata (10 kB)\n",
            "Collecting typer>=0.9.0 (from chromadb==0.5.23)\n",
            "  Using cached typer-0.15.4-py3-none-any.whl.metadata (15 kB)\n",
            "Collecting kubernetes>=28.1.0 (from chromadb==0.5.23)\n",
            "  Using cached kubernetes-32.0.1-py2.py3-none-any.whl.metadata (1.7 kB)\n",
            "Collecting tenacity>=8.2.3 (from chromadb==0.5.23)\n",
            "  Using cached tenacity-9.1.2-py3-none-any.whl.metadata (1.2 kB)\n",
            "Collecting PyYAML>=6.0.0 (from chromadb==0.5.23)\n",
            "  Using cached PyYAML-6.0.2-cp311-cp311-manylinux_2_17_x86_64.manylinux2014_x86_64.whl.metadata (2.1 kB)\n",
            "Collecting mmh3>=4.0.1 (from chromadb==0.5.23)\n",
            "  Using cached mmh3-5.1.0-cp311-cp311-manylinux_2_5_x86_64.manylinux1_x86_64.manylinux_2_17_x86_64.manylinux2014_x86_64.whl.metadata (16 kB)\n",
            "Collecting orjson>=3.9.12 (from chromadb==0.5.23)\n",
            "  Using cached orjson-3.10.18-cp311-cp311-manylinux_2_17_x86_64.manylinux2014_x86_64.whl.metadata (41 kB)\n",
            "Collecting httpx>=0.27.0 (from chromadb==0.5.23)\n",
            "  Using cached httpx-0.28.1-py3-none-any.whl.metadata (7.1 kB)\n",
            "Collecting rich>=10.11.0 (from chromadb==0.5.23)\n",
            "  Using cached rich-14.0.0-py3-none-any.whl.metadata (18 kB)\n",
            "Collecting huggingface-hub<1.0,>=0.16.4 (from tokenizers==0.20.3)\n",
            "  Using cached huggingface_hub-0.32.0-py3-none-any.whl.metadata (14 kB)\n",
            "Collecting filelock (from transformers==4.29.2)\n",
            "  Using cached filelock-3.18.0-py3-none-any.whl.metadata (2.9 kB)\n",
            "Collecting packaging>=20.0 (from transformers==4.29.2)\n",
            "  Using cached packaging-25.0-py3-none-any.whl.metadata (3.3 kB)\n",
            "Collecting regex!=2019.12.17 (from transformers==4.29.2)\n",
            "  Using cached regex-2024.11.6-cp311-cp311-manylinux_2_17_x86_64.manylinux2014_x86_64.whl.metadata (40 kB)\n",
            "Collecting requests (from transformers==4.29.2)\n",
            "  Using cached requests-2.32.3-py3-none-any.whl.metadata (4.6 kB)\n",
            "INFO: pip is looking at multiple versions of transformers to determine which version is compatible with other requirements. This could take a while.\n",
            "\u001b[31mERROR: Cannot install chromadb==0.5.23, tokenizers==0.20.3 and transformers==4.29.2 because these package versions have conflicting dependencies.\u001b[0m\u001b[31m\n",
            "\u001b[0m\n",
            "The conflict is caused by:\n",
            "    The user requested tokenizers==0.20.3\n",
            "    chromadb 0.5.23 depends on tokenizers<=0.20.3 and >=0.13.2\n",
            "    transformers 4.29.2 depends on tokenizers!=0.11.3, <0.14 and >=0.11.1\n",
            "\n",
            "To fix this you could try to:\n",
            "1. loosen the range of package versions you've specified\n",
            "2. remove package versions to allow pip to attempt to solve the dependency conflict\n",
            "\n",
            "\u001b[31mERROR: ResolutionImpossible: for help visit https://pip.pypa.io/en/latest/topics/dependency-resolution/#dealing-with-dependency-conflicts\u001b[0m\u001b[31m\n",
            "\u001b[0m"
          ]
        }
      ],
      "source": [
        "!pip install langchain==0.2.0\n",
        "#!pip install langchain-openai==0.1.7\n",
        "!pip install langchain-community==0.2.0\n",
        "!pip install langgraph==0.1.1\n",
        "!pip install langchain-chroma==0.1.1\n",
        "!pip install huggingface_hub\n",
        "!pip install --force-reinstall chromadb==0.5.23 tokenizers==0.20.3 transformers==4.29.2"
      ]
    },
    {
      "cell_type": "code",
      "source": [
        " !pip install -q --force-reinstall chromadb==0.4.24 transformers==4.28.1 tokenizers==0.13.3\n"
      ],
      "metadata": {
        "colab": {
          "base_uri": "https://localhost:8080/"
        },
        "id": "FYqQ1UagCs-u",
        "outputId": "41cf132c-687b-4e10-f635-84e9b88ff432"
      },
      "execution_count": 75,
      "outputs": [
        {
          "output_type": "stream",
          "name": "stdout",
          "text": [
            "\u001b[?25l   \u001b[90m━━━━━━━━━━━━━━━━━━━━━━━━━━━━━━━━━━━━━━━━\u001b[0m \u001b[32m0.0/96.7 kB\u001b[0m \u001b[31m?\u001b[0m eta \u001b[36m-:--:--\u001b[0m\r\u001b[2K   \u001b[91m━━━━━━━━━━━━━━━━━━━━━━━━━━━━━━━━━━━━━━\u001b[0m\u001b[90m╺\u001b[0m\u001b[90m━\u001b[0m \u001b[32m92.2/96.7 kB\u001b[0m \u001b[31m3.0 MB/s\u001b[0m eta \u001b[36m0:00:01\u001b[0m\r\u001b[2K   \u001b[90m━━━━━━━━━━━━━━━━━━━━━━━━━━━━━━━━━━━━━━━━\u001b[0m \u001b[32m96.7/96.7 kB\u001b[0m \u001b[31m2.2 MB/s\u001b[0m eta \u001b[36m0:00:00\u001b[0m\n",
            "\u001b[?25h\u001b[31mERROR: pip's dependency resolver does not currently take into account all the packages that are installed. This behaviour is the source of the following dependency conflicts.\n",
            "ipython 7.34.0 requires jedi>=0.16, which is not installed.\n",
            "langchain-core 0.2.43 requires packaging<25,>=23.2, but you have packaging 25.0 which is incompatible.\n",
            "langchain-core 0.2.43 requires tenacity!=8.4.0,<9.0.0,>=8.1.0, but you have tenacity 9.1.2 which is incompatible.\n",
            "scipy 1.10.1 requires numpy<1.27.0,>=1.19.5, but you have numpy 2.2.6 which is incompatible.\n",
            "langchain-chroma 0.1.1 requires numpy<2,>=1, but you have numpy 2.2.6 which is incompatible.\n",
            "langchain 0.2.0 requires numpy<2,>=1, but you have numpy 2.2.6 which is incompatible.\n",
            "langchain 0.2.0 requires tenacity<9.0.0,>=8.1.0, but you have tenacity 9.1.2 which is incompatible.\n",
            "langchain-community 0.2.0 requires numpy<2,>=1, but you have numpy 2.2.6 which is incompatible.\n",
            "langchain-community 0.2.0 requires tenacity<9.0.0,>=8.1.0, but you have tenacity 9.1.2 which is incompatible.\n",
            "google-colab 1.0.0 requires google-auth==2.38.0, but you have google-auth 2.40.2 which is incompatible.\n",
            "cvxpy 1.6.5 requires scipy>=1.11.0, but you have scipy 1.10.1 which is incompatible.\n",
            "jaxlib 0.5.1 requires scipy>=1.11.1, but you have scipy 1.10.1 which is incompatible.\n",
            "jax 0.5.2 requires scipy>=1.11.1, but you have scipy 1.10.1 which is incompatible.\n",
            "tensorflow 2.18.0 requires numpy<2.1.0,>=1.26.0, but you have numpy 2.2.6 which is incompatible.\n",
            "bigframes 2.4.0 requires rich<14,>=12.4.4, but you have rich 14.0.0 which is incompatible.\n",
            "sentence-transformers 4.1.0 requires transformers<5.0.0,>=4.41.0, but you have transformers 4.28.1 which is incompatible.\n",
            "torch 2.6.0+cu124 requires sympy==1.13.1; python_version >= \"3.9\", but you have sympy 1.14.0 which is incompatible.\n",
            "gcsfs 2025.3.2 requires fsspec==2025.3.2, but you have fsspec 2025.5.0 which is incompatible.\n",
            "scikit-image 0.25.2 requires scipy>=1.11.4, but you have scipy 1.10.1 which is incompatible.\n",
            "numba 0.60.0 requires numpy<2.1,>=1.22, but you have numpy 2.2.6 which is incompatible.\n",
            "tsfresh 0.21.0 requires scipy>=1.14.0; python_version >= \"3.10\", but you have scipy 1.10.1 which is incompatible.\u001b[0m\u001b[31m\n",
            "\u001b[0m"
          ]
        }
      ]
    },
    {
      "cell_type": "code",
      "source": [
        "from getpass import getpass\n",
        "from huggingface_hub import InferenceClient\n",
        "huggingface_key = getpass('Enter your hugging face API Key:')"
      ],
      "metadata": {
        "id": "UtebIdtgDWJd",
        "colab": {
          "base_uri": "https://localhost:8080/"
        },
        "outputId": "50b2c3c5-ecb6-4173-87c6-5c7acbb3daa8"
      },
      "execution_count": 14,
      "outputs": [
        {
          "name": "stdout",
          "output_type": "stream",
          "text": [
            "Enter your hugging face API Key:··········\n"
          ]
        }
      ]
    },
    {
      "cell_type": "code",
      "source": [
        "TAVILY_API_KEY = getpass('Enter your Tavily API Key:')"
      ],
      "metadata": {
        "id": "y0A06faFkW37",
        "colab": {
          "base_uri": "https://localhost:8080/"
        },
        "outputId": "90b1d800-1900-4120-8fb8-6c5b9882b832"
      },
      "execution_count": 15,
      "outputs": [
        {
          "name": "stdout",
          "output_type": "stream",
          "text": [
            "Enter your Tavily API Key:··········\n"
          ]
        }
      ]
    },
    {
      "cell_type": "code",
      "source": [
        "# from getpass import getpass\n",
        "# openai_key = getpass('Enter your OpenAI API Key:')"
      ],
      "metadata": {
        "colab": {
          "base_uri": "https://localhost:8080/"
        },
        "id": "h3axaNrIFq1x",
        "outputId": "3af4f413-2d69-4b06-be10-131add9404e6"
      },
      "execution_count": null,
      "outputs": [
        {
          "name": "stdout",
          "output_type": "stream",
          "text": [
            "Enter your OpenAI API Key:··········\n"
          ]
        }
      ]
    },
    {
      "cell_type": "code",
      "source": [
        "import os\n",
        "os.environ['HUGGINGFACEHUB_API_TOKEN'] = huggingface_key\n",
        "#os.environ['OPENAI_API_KEY'] = openai_key\n",
        "os.environ['TAVILY_API_KEY'] = TAVILY_API_KEY"
      ],
      "metadata": {
        "id": "Zos8LKx4kSfZ"
      },
      "execution_count": 16,
      "outputs": []
    },
    {
      "cell_type": "markdown",
      "source": [
        "Build search index for wikipedia data"
      ],
      "metadata": {
        "id": "j2j-S3DFlB3N"
      }
    },
    {
      "cell_type": "code",
      "source": [
        "# from langchain_openai import OpenAIEmbeddings\n",
        "# openai_embedding = OpenAIEmbeddings(model = 'text-embedding-3-small')"
      ],
      "metadata": {
        "id": "AH68psh_kScz"
      },
      "execution_count": null,
      "outputs": []
    },
    {
      "cell_type": "code",
      "source": [
        "!pip install sentence-transformers"
      ],
      "metadata": {
        "colab": {
          "base_uri": "https://localhost:8080/",
          "height": 1000
        },
        "id": "Tmb769IQHWqa",
        "outputId": "000f7c73-302c-4cf6-8a19-17d616804d86"
      },
      "execution_count": 79,
      "outputs": [
        {
          "output_type": "stream",
          "name": "stdout",
          "text": [
            "Requirement already satisfied: sentence-transformers in /usr/local/lib/python3.11/dist-packages (4.1.0)\n",
            "Collecting transformers<5.0.0,>=4.41.0 (from sentence-transformers)\n",
            "  Using cached transformers-4.52.3-py3-none-any.whl.metadata (40 kB)\n",
            "Requirement already satisfied: tqdm in /usr/local/lib/python3.11/dist-packages (from sentence-transformers) (4.67.1)\n",
            "Requirement already satisfied: torch>=1.11.0 in /usr/local/lib/python3.11/dist-packages (from sentence-transformers) (2.6.0+cu124)\n",
            "Requirement already satisfied: scikit-learn in /usr/local/lib/python3.11/dist-packages (from sentence-transformers) (1.6.1)\n",
            "Requirement already satisfied: scipy in /usr/local/lib/python3.11/dist-packages (from sentence-transformers) (1.10.1)\n",
            "Requirement already satisfied: huggingface-hub>=0.20.0 in /usr/local/lib/python3.11/dist-packages (from sentence-transformers) (0.32.0)\n",
            "Requirement already satisfied: Pillow in /usr/local/lib/python3.11/dist-packages (from sentence-transformers) (11.2.1)\n",
            "Requirement already satisfied: typing_extensions>=4.5.0 in /usr/local/lib/python3.11/dist-packages (from sentence-transformers) (4.13.2)\n",
            "Requirement already satisfied: filelock in /usr/local/lib/python3.11/dist-packages (from huggingface-hub>=0.20.0->sentence-transformers) (3.18.0)\n",
            "Requirement already satisfied: fsspec>=2023.5.0 in /usr/local/lib/python3.11/dist-packages (from huggingface-hub>=0.20.0->sentence-transformers) (2025.5.0)\n",
            "Requirement already satisfied: packaging>=20.9 in /usr/local/lib/python3.11/dist-packages (from huggingface-hub>=0.20.0->sentence-transformers) (25.0)\n",
            "Requirement already satisfied: pyyaml>=5.1 in /usr/local/lib/python3.11/dist-packages (from huggingface-hub>=0.20.0->sentence-transformers) (6.0.2)\n",
            "Requirement already satisfied: requests in /usr/local/lib/python3.11/dist-packages (from huggingface-hub>=0.20.0->sentence-transformers) (2.32.3)\n",
            "Requirement already satisfied: hf-xet<2.0.0,>=1.1.2 in /usr/local/lib/python3.11/dist-packages (from huggingface-hub>=0.20.0->sentence-transformers) (1.1.2)\n",
            "Requirement already satisfied: networkx in /usr/local/lib/python3.11/dist-packages (from torch>=1.11.0->sentence-transformers) (3.4.2)\n",
            "Requirement already satisfied: jinja2 in /usr/local/lib/python3.11/dist-packages (from torch>=1.11.0->sentence-transformers) (3.1.6)\n",
            "Requirement already satisfied: nvidia-cuda-nvrtc-cu12==12.4.127 in /usr/local/lib/python3.11/dist-packages (from torch>=1.11.0->sentence-transformers) (12.4.127)\n",
            "Requirement already satisfied: nvidia-cuda-runtime-cu12==12.4.127 in /usr/local/lib/python3.11/dist-packages (from torch>=1.11.0->sentence-transformers) (12.4.127)\n",
            "Requirement already satisfied: nvidia-cuda-cupti-cu12==12.4.127 in /usr/local/lib/python3.11/dist-packages (from torch>=1.11.0->sentence-transformers) (12.4.127)\n",
            "Requirement already satisfied: nvidia-cudnn-cu12==9.1.0.70 in /usr/local/lib/python3.11/dist-packages (from torch>=1.11.0->sentence-transformers) (9.1.0.70)\n",
            "Requirement already satisfied: nvidia-cublas-cu12==12.4.5.8 in /usr/local/lib/python3.11/dist-packages (from torch>=1.11.0->sentence-transformers) (12.4.5.8)\n",
            "Requirement already satisfied: nvidia-cufft-cu12==11.2.1.3 in /usr/local/lib/python3.11/dist-packages (from torch>=1.11.0->sentence-transformers) (11.2.1.3)\n",
            "Requirement already satisfied: nvidia-curand-cu12==10.3.5.147 in /usr/local/lib/python3.11/dist-packages (from torch>=1.11.0->sentence-transformers) (10.3.5.147)\n",
            "Requirement already satisfied: nvidia-cusolver-cu12==11.6.1.9 in /usr/local/lib/python3.11/dist-packages (from torch>=1.11.0->sentence-transformers) (11.6.1.9)\n",
            "Requirement already satisfied: nvidia-cusparse-cu12==12.3.1.170 in /usr/local/lib/python3.11/dist-packages (from torch>=1.11.0->sentence-transformers) (12.3.1.170)\n",
            "Requirement already satisfied: nvidia-cusparselt-cu12==0.6.2 in /usr/local/lib/python3.11/dist-packages (from torch>=1.11.0->sentence-transformers) (0.6.2)\n",
            "Requirement already satisfied: nvidia-nccl-cu12==2.21.5 in /usr/local/lib/python3.11/dist-packages (from torch>=1.11.0->sentence-transformers) (2.21.5)\n",
            "Requirement already satisfied: nvidia-nvtx-cu12==12.4.127 in /usr/local/lib/python3.11/dist-packages (from torch>=1.11.0->sentence-transformers) (12.4.127)\n",
            "Requirement already satisfied: nvidia-nvjitlink-cu12==12.4.127 in /usr/local/lib/python3.11/dist-packages (from torch>=1.11.0->sentence-transformers) (12.4.127)\n",
            "Requirement already satisfied: triton==3.2.0 in /usr/local/lib/python3.11/dist-packages (from torch>=1.11.0->sentence-transformers) (3.2.0)\n",
            "Collecting sympy==1.13.1 (from torch>=1.11.0->sentence-transformers)\n",
            "  Using cached sympy-1.13.1-py3-none-any.whl.metadata (12 kB)\n",
            "Requirement already satisfied: mpmath<1.4,>=1.1.0 in /usr/local/lib/python3.11/dist-packages (from sympy==1.13.1->torch>=1.11.0->sentence-transformers) (1.3.0)\n",
            "Requirement already satisfied: numpy>=1.17 in /usr/local/lib/python3.11/dist-packages (from transformers<5.0.0,>=4.41.0->sentence-transformers) (2.2.6)\n",
            "Requirement already satisfied: regex!=2019.12.17 in /usr/local/lib/python3.11/dist-packages (from transformers<5.0.0,>=4.41.0->sentence-transformers) (2024.11.6)\n",
            "Collecting tokenizers<0.22,>=0.21 (from transformers<5.0.0,>=4.41.0->sentence-transformers)\n",
            "  Using cached tokenizers-0.21.1-cp39-abi3-manylinux_2_17_x86_64.manylinux2014_x86_64.whl.metadata (6.8 kB)\n",
            "Requirement already satisfied: safetensors>=0.4.3 in /usr/local/lib/python3.11/dist-packages (from transformers<5.0.0,>=4.41.0->sentence-transformers) (0.5.3)\n",
            "Requirement already satisfied: joblib>=1.2.0 in /usr/local/lib/python3.11/dist-packages (from scikit-learn->sentence-transformers) (1.5.0)\n",
            "Requirement already satisfied: threadpoolctl>=3.1.0 in /usr/local/lib/python3.11/dist-packages (from scikit-learn->sentence-transformers) (3.6.0)\n",
            "Collecting numpy>=1.17 (from transformers<5.0.0,>=4.41.0->sentence-transformers)\n",
            "  Using cached numpy-1.26.4-cp311-cp311-manylinux_2_17_x86_64.manylinux2014_x86_64.whl.metadata (61 kB)\n",
            "Requirement already satisfied: MarkupSafe>=2.0 in /usr/local/lib/python3.11/dist-packages (from jinja2->torch>=1.11.0->sentence-transformers) (3.0.2)\n",
            "Requirement already satisfied: charset-normalizer<4,>=2 in /usr/local/lib/python3.11/dist-packages (from requests->huggingface-hub>=0.20.0->sentence-transformers) (3.4.2)\n",
            "Requirement already satisfied: idna<4,>=2.5 in /usr/local/lib/python3.11/dist-packages (from requests->huggingface-hub>=0.20.0->sentence-transformers) (3.10)\n",
            "Requirement already satisfied: urllib3<3,>=1.21.1 in /usr/local/lib/python3.11/dist-packages (from requests->huggingface-hub>=0.20.0->sentence-transformers) (2.4.0)\n",
            "Requirement already satisfied: certifi>=2017.4.17 in /usr/local/lib/python3.11/dist-packages (from requests->huggingface-hub>=0.20.0->sentence-transformers) (2025.4.26)\n",
            "Using cached sympy-1.13.1-py3-none-any.whl (6.2 MB)\n",
            "Using cached transformers-4.52.3-py3-none-any.whl (10.5 MB)\n",
            "Using cached numpy-1.26.4-cp311-cp311-manylinux_2_17_x86_64.manylinux2014_x86_64.whl (18.3 MB)\n",
            "Using cached tokenizers-0.21.1-cp39-abi3-manylinux_2_17_x86_64.manylinux2014_x86_64.whl (3.0 MB)\n",
            "Installing collected packages: sympy, numpy, tokenizers, transformers\n",
            "  Attempting uninstall: sympy\n",
            "    Found existing installation: sympy 1.14.0\n",
            "    Uninstalling sympy-1.14.0:\n",
            "      Successfully uninstalled sympy-1.14.0\n",
            "  Attempting uninstall: numpy\n",
            "    Found existing installation: numpy 2.2.6\n",
            "    Uninstalling numpy-2.2.6:\n",
            "      Successfully uninstalled numpy-2.2.6\n",
            "  Attempting uninstall: tokenizers\n",
            "    Found existing installation: tokenizers 0.13.3\n",
            "    Uninstalling tokenizers-0.13.3:\n",
            "      Successfully uninstalled tokenizers-0.13.3\n",
            "  Attempting uninstall: transformers\n",
            "    Found existing installation: transformers 4.28.1\n",
            "    Uninstalling transformers-4.28.1:\n",
            "      Successfully uninstalled transformers-4.28.1\n",
            "\u001b[31mERROR: pip's dependency resolver does not currently take into account all the packages that are installed. This behaviour is the source of the following dependency conflicts.\n",
            "langchain 0.2.0 requires tenacity<9.0.0,>=8.1.0, but you have tenacity 9.1.2 which is incompatible.\n",
            "langchain-community 0.2.0 requires tenacity<9.0.0,>=8.1.0, but you have tenacity 9.1.2 which is incompatible.\n",
            "cvxpy 1.6.5 requires scipy>=1.11.0, but you have scipy 1.10.1 which is incompatible.\n",
            "jaxlib 0.5.1 requires scipy>=1.11.1, but you have scipy 1.10.1 which is incompatible.\n",
            "jax 0.5.2 requires scipy>=1.11.1, but you have scipy 1.10.1 which is incompatible.\n",
            "bigframes 2.4.0 requires rich<14,>=12.4.4, but you have rich 14.0.0 which is incompatible.\n",
            "scikit-image 0.25.2 requires scipy>=1.11.4, but you have scipy 1.10.1 which is incompatible.\n",
            "thinc 8.3.6 requires numpy<3.0.0,>=2.0.0, but you have numpy 1.26.4 which is incompatible.\n",
            "tsfresh 0.21.0 requires scipy>=1.14.0; python_version >= \"3.10\", but you have scipy 1.10.1 which is incompatible.\u001b[0m\u001b[31m\n",
            "\u001b[0mSuccessfully installed numpy-1.26.4 sympy-1.13.1 tokenizers-0.21.1 transformers-4.52.3\n"
          ]
        },
        {
          "output_type": "display_data",
          "data": {
            "application/vnd.colab-display-data+json": {
              "pip_warning": {
                "packages": [
                  "sympy",
                  "transformers"
                ]
              },
              "id": "60f02340978e4b0d9ef09da0a451bc8c"
            }
          },
          "metadata": {}
        }
      ]
    },
    {
      "cell_type": "code",
      "source": [
        "!pip install scipy==1.10.1 --force-reinstall"
      ],
      "metadata": {
        "colab": {
          "base_uri": "https://localhost:8080/"
        },
        "id": "VxdWEmottTXL",
        "outputId": "315d2d6d-6bef-450e-f385-07e07a7fbdf9"
      },
      "execution_count": 4,
      "outputs": [
        {
          "output_type": "stream",
          "name": "stdout",
          "text": [
            "Collecting scipy==1.10.1\n",
            "  Using cached scipy-1.10.1-cp311-cp311-manylinux_2_17_x86_64.manylinux2014_x86_64.whl.metadata (58 kB)\n",
            "Collecting numpy<1.27.0,>=1.19.5 (from scipy==1.10.1)\n",
            "  Using cached numpy-1.26.4-cp311-cp311-manylinux_2_17_x86_64.manylinux2014_x86_64.whl.metadata (61 kB)\n",
            "Using cached scipy-1.10.1-cp311-cp311-manylinux_2_17_x86_64.manylinux2014_x86_64.whl (34.1 MB)\n",
            "Using cached numpy-1.26.4-cp311-cp311-manylinux_2_17_x86_64.manylinux2014_x86_64.whl (18.3 MB)\n",
            "Installing collected packages: numpy, scipy\n",
            "  Attempting uninstall: numpy\n",
            "    Found existing installation: numpy 1.26.4\n",
            "    Uninstalling numpy-1.26.4:\n",
            "      Successfully uninstalled numpy-1.26.4\n",
            "  Attempting uninstall: scipy\n",
            "    Found existing installation: scipy 1.10.1\n",
            "    Uninstalling scipy-1.10.1:\n",
            "      Successfully uninstalled scipy-1.10.1\n",
            "\u001b[31mERROR: pip's dependency resolver does not currently take into account all the packages that are installed. This behaviour is the source of the following dependency conflicts.\n",
            "langchain 0.2.0 requires tenacity<9.0.0,>=8.1.0, but you have tenacity 9.1.2 which is incompatible.\n",
            "langchain-community 0.2.0 requires tenacity<9.0.0,>=8.1.0, but you have tenacity 9.1.2 which is incompatible.\n",
            "cvxpy 1.6.5 requires scipy>=1.11.0, but you have scipy 1.10.1 which is incompatible.\n",
            "jaxlib 0.5.1 requires scipy>=1.11.1, but you have scipy 1.10.1 which is incompatible.\n",
            "jax 0.5.2 requires scipy>=1.11.1, but you have scipy 1.10.1 which is incompatible.\n",
            "bigframes 2.4.0 requires rich<14,>=12.4.4, but you have rich 14.0.0 which is incompatible.\n",
            "scikit-image 0.25.2 requires scipy>=1.11.4, but you have scipy 1.10.1 which is incompatible.\n",
            "thinc 8.3.6 requires numpy<3.0.0,>=2.0.0, but you have numpy 1.26.4 which is incompatible.\n",
            "tsfresh 0.21.0 requires scipy>=1.14.0; python_version >= \"3.10\", but you have scipy 1.10.1 which is incompatible.\u001b[0m\u001b[31m\n",
            "\u001b[0mSuccessfully installed numpy-1.26.4 scipy-1.10.1\n"
          ]
        }
      ]
    },
    {
      "cell_type": "code",
      "source": [
        "!pip install sentence-transformers"
      ],
      "metadata": {
        "colab": {
          "base_uri": "https://localhost:8080/"
        },
        "id": "UR6GvUEStfF6",
        "outputId": "ab5a904b-0857-482b-e492-6aad88f67c7c"
      },
      "execution_count": null,
      "outputs": [
        {
          "output_type": "stream",
          "name": "stdout",
          "text": [
            "Requirement already satisfied: sentence-transformers in /usr/local/lib/python3.11/dist-packages (4.1.0)\n",
            "Requirement already satisfied: transformers<5.0.0,>=4.41.0 in /usr/local/lib/python3.11/dist-packages (from sentence-transformers) (4.52.3)\n",
            "Requirement already satisfied: tqdm in /usr/local/lib/python3.11/dist-packages (from sentence-transformers) (4.67.1)\n",
            "Requirement already satisfied: torch>=1.11.0 in /usr/local/lib/python3.11/dist-packages (from sentence-transformers) (2.6.0+cu124)\n",
            "Requirement already satisfied: scikit-learn in /usr/local/lib/python3.11/dist-packages (from sentence-transformers) (1.6.1)\n",
            "Requirement already satisfied: scipy in /usr/local/lib/python3.11/dist-packages (from sentence-transformers) (1.10.1)\n",
            "Requirement already satisfied: huggingface-hub>=0.20.0 in /usr/local/lib/python3.11/dist-packages (from sentence-transformers) (0.32.0)\n",
            "Requirement already satisfied: Pillow in /usr/local/lib/python3.11/dist-packages (from sentence-transformers) (11.2.1)\n",
            "Requirement already satisfied: typing_extensions>=4.5.0 in /usr/local/lib/python3.11/dist-packages (from sentence-transformers) (4.13.2)\n",
            "Requirement already satisfied: filelock in /usr/local/lib/python3.11/dist-packages (from huggingface-hub>=0.20.0->sentence-transformers) (3.18.0)\n",
            "Requirement already satisfied: fsspec>=2023.5.0 in /usr/local/lib/python3.11/dist-packages (from huggingface-hub>=0.20.0->sentence-transformers) (2025.5.0)\n",
            "Requirement already satisfied: packaging>=20.9 in /usr/local/lib/python3.11/dist-packages (from huggingface-hub>=0.20.0->sentence-transformers) (25.0)\n",
            "Requirement already satisfied: pyyaml>=5.1 in /usr/local/lib/python3.11/dist-packages (from huggingface-hub>=0.20.0->sentence-transformers) (6.0.2)\n",
            "Requirement already satisfied: requests in /usr/local/lib/python3.11/dist-packages (from huggingface-hub>=0.20.0->sentence-transformers) (2.32.3)\n",
            "Requirement already satisfied: hf-xet<2.0.0,>=1.1.2 in /usr/local/lib/python3.11/dist-packages (from huggingface-hub>=0.20.0->sentence-transformers) (1.1.2)\n",
            "Requirement already satisfied: networkx in /usr/local/lib/python3.11/dist-packages (from torch>=1.11.0->sentence-transformers) (3.4.2)\n",
            "Requirement already satisfied: jinja2 in /usr/local/lib/python3.11/dist-packages (from torch>=1.11.0->sentence-transformers) (3.1.6)\n",
            "Requirement already satisfied: nvidia-cuda-nvrtc-cu12==12.4.127 in /usr/local/lib/python3.11/dist-packages (from torch>=1.11.0->sentence-transformers) (12.4.127)\n",
            "Requirement already satisfied: nvidia-cuda-runtime-cu12==12.4.127 in /usr/local/lib/python3.11/dist-packages (from torch>=1.11.0->sentence-transformers) (12.4.127)\n",
            "Requirement already satisfied: nvidia-cuda-cupti-cu12==12.4.127 in /usr/local/lib/python3.11/dist-packages (from torch>=1.11.0->sentence-transformers) (12.4.127)\n",
            "Requirement already satisfied: nvidia-cudnn-cu12==9.1.0.70 in /usr/local/lib/python3.11/dist-packages (from torch>=1.11.0->sentence-transformers) (9.1.0.70)\n",
            "Requirement already satisfied: nvidia-cublas-cu12==12.4.5.8 in /usr/local/lib/python3.11/dist-packages (from torch>=1.11.0->sentence-transformers) (12.4.5.8)\n",
            "Requirement already satisfied: nvidia-cufft-cu12==11.2.1.3 in /usr/local/lib/python3.11/dist-packages (from torch>=1.11.0->sentence-transformers) (11.2.1.3)\n",
            "Requirement already satisfied: nvidia-curand-cu12==10.3.5.147 in /usr/local/lib/python3.11/dist-packages (from torch>=1.11.0->sentence-transformers) (10.3.5.147)\n",
            "Requirement already satisfied: nvidia-cusolver-cu12==11.6.1.9 in /usr/local/lib/python3.11/dist-packages (from torch>=1.11.0->sentence-transformers) (11.6.1.9)\n",
            "Requirement already satisfied: nvidia-cusparse-cu12==12.3.1.170 in /usr/local/lib/python3.11/dist-packages (from torch>=1.11.0->sentence-transformers) (12.3.1.170)\n",
            "Requirement already satisfied: nvidia-cusparselt-cu12==0.6.2 in /usr/local/lib/python3.11/dist-packages (from torch>=1.11.0->sentence-transformers) (0.6.2)\n",
            "Requirement already satisfied: nvidia-nccl-cu12==2.21.5 in /usr/local/lib/python3.11/dist-packages (from torch>=1.11.0->sentence-transformers) (2.21.5)\n",
            "Requirement already satisfied: nvidia-nvtx-cu12==12.4.127 in /usr/local/lib/python3.11/dist-packages (from torch>=1.11.0->sentence-transformers) (12.4.127)\n",
            "Requirement already satisfied: nvidia-nvjitlink-cu12==12.4.127 in /usr/local/lib/python3.11/dist-packages (from torch>=1.11.0->sentence-transformers) (12.4.127)\n",
            "Requirement already satisfied: triton==3.2.0 in /usr/local/lib/python3.11/dist-packages (from torch>=1.11.0->sentence-transformers) (3.2.0)\n",
            "Requirement already satisfied: sympy==1.13.1 in /usr/local/lib/python3.11/dist-packages (from torch>=1.11.0->sentence-transformers) (1.13.1)\n",
            "Requirement already satisfied: mpmath<1.4,>=1.1.0 in /usr/local/lib/python3.11/dist-packages (from sympy==1.13.1->torch>=1.11.0->sentence-transformers) (1.3.0)\n",
            "Requirement already satisfied: numpy>=1.17 in /usr/local/lib/python3.11/dist-packages (from transformers<5.0.0,>=4.41.0->sentence-transformers) (1.26.4)\n",
            "Requirement already satisfied: regex!=2019.12.17 in /usr/local/lib/python3.11/dist-packages (from transformers<5.0.0,>=4.41.0->sentence-transformers) (2024.11.6)\n",
            "Requirement already satisfied: tokenizers<0.22,>=0.21 in /usr/local/lib/python3.11/dist-packages (from transformers<5.0.0,>=4.41.0->sentence-transformers) (0.21.1)\n",
            "Requirement already satisfied: safetensors>=0.4.3 in /usr/local/lib/python3.11/dist-packages (from transformers<5.0.0,>=4.41.0->sentence-transformers) (0.5.3)\n",
            "Requirement already satisfied: joblib>=1.2.0 in /usr/local/lib/python3.11/dist-packages (from scikit-learn->sentence-transformers) (1.5.0)\n",
            "Requirement already satisfied: threadpoolctl>=3.1.0 in /usr/local/lib/python3.11/dist-packages (from scikit-learn->sentence-transformers) (3.6.0)\n",
            "Requirement already satisfied: MarkupSafe>=2.0 in /usr/local/lib/python3.11/dist-packages (from jinja2->torch>=1.11.0->sentence-transformers) (3.0.2)\n",
            "Requirement already satisfied: charset-normalizer<4,>=2 in /usr/local/lib/python3.11/dist-packages (from requests->huggingface-hub>=0.20.0->sentence-transformers) (3.4.2)\n",
            "Requirement already satisfied: idna<4,>=2.5 in /usr/local/lib/python3.11/dist-packages (from requests->huggingface-hub>=0.20.0->sentence-transformers) (3.10)\n",
            "Requirement already satisfied: urllib3<3,>=1.21.1 in /usr/local/lib/python3.11/dist-packages (from requests->huggingface-hub>=0.20.0->sentence-transformers) (2.4.0)\n",
            "Requirement already satisfied: certifi>=2017.4.17 in /usr/local/lib/python3.11/dist-packages (from requests->huggingface-hub>=0.20.0->sentence-transformers) (2025.4.26)\n"
          ]
        }
      ]
    },
    {
      "cell_type": "code",
      "source": [
        "from langchain.embeddings import HuggingFaceEmbeddings\n",
        "embedding_model = HuggingFaceEmbeddings(model_name=\"BAAI/bge-small-en\")"
      ],
      "metadata": {
        "colab": {
          "base_uri": "https://localhost:8080/"
        },
        "id": "5v8iGbhzHOj7",
        "outputId": "0f33bbff-87d3-45ce-ef94-b172f97324bf"
      },
      "execution_count": 17,
      "outputs": [
        {
          "output_type": "stream",
          "name": "stderr",
          "text": [
            "/usr/local/lib/python3.11/dist-packages/huggingface_hub/utils/_auth.py:94: UserWarning: \n",
            "The secret `HF_TOKEN` does not exist in your Colab secrets.\n",
            "To authenticate with the Hugging Face Hub, create a token in your settings tab (https://huggingface.co/settings/tokens), set it as secret in your Google Colab and restart your session.\n",
            "You will be able to reuse this secret in all of your notebooks.\n",
            "Please note that authentication is recommended but still optional to access public models or datasets.\n",
            "  warnings.warn(\n"
          ]
        }
      ]
    },
    {
      "cell_type": "code",
      "source": [
        "import json\n",
        "from langchain.docstore.document import Document\n",
        "from langchain.text_splitter import RecursiveCharacterTextSplitter\n",
        "\n",
        "wikipedia_filepath = '/content/sample_data/simplewiki-2020-11-01.jsonl'\n",
        "docs = []\n",
        "\n",
        "with open(wikipedia_filepath, 'r', encoding='utf-8') as fIn:\n",
        "    for line in fIn:\n",
        "        data = json.loads(line.strip())\n",
        "        # only first 3 paras\n",
        "        text = ''.join(data.get('paragraphs', [])[:3])\n",
        "        metadata = {\n",
        "            \"title\": data.get('title'),\n",
        "            \"article_id\": data.get('id')\n",
        "        }\n",
        "        docs.append({'metadata': metadata, 'data': text})\n",
        "\n",
        "# taking subset to keep small in size\n",
        "docs = [doc for doc in docs if 'india' in doc['data'].lower()]\n",
        "\n",
        "# create docs\n",
        "langchain_docs = [\n",
        "    Document(page_content=doc['data'], metadata=doc['metadata']) for doc in docs\n",
        "]\n",
        "\n",
        "# chunk docs\n",
        "splitter = RecursiveCharacterTextSplitter(chunk_size=2000, chunk_overlap=300)\n",
        "chunked_docs = splitter.split_documents(langchain_docs)\n",
        "\n",
        "for i, chunk in enumerate(chunked_docs[:3]):\n",
        "    print(f\"Chunk {i+1}:\\n\", chunk.page_content[:500], \"\\n\")\n"
      ],
      "metadata": {
        "colab": {
          "base_uri": "https://localhost:8080/"
        },
        "id": "MIS-DCaJEy8L",
        "outputId": "72a4190c-0585-4b54-8cc0-a6d1bfc31def"
      },
      "execution_count": 18,
      "outputs": [
        {
          "output_type": "stream",
          "name": "stdout",
          "text": [
            "Chunk 1:\n",
            " The term Far East means countries of East Asia. It became used in the English language during the period of the British Empire for lands to the east of British India.Before World War I, the \"Near East\" meant relatively nearby lands of the Ottoman Empire, \"Middle East\" northwestern South Asia and Central Asia, and \"Far East\" countries along the western Pacific Ocean and countries along the eastern Indian Ocean. Many European languages have analogous terms, such as the French ', Spanish ', Portugu \n",
            "\n",
            "Chunk 2:\n",
            " A hair iron or hair tong is something people use to change the shape of the hair by heating it. There are three types of hair iron:In 1872, Marcel Grateau (a Parisian) used heated rods to curl or style hair.In 1893, Ada Harris, a school teacher from Indianapolis, applied for a patent for the hair straightener. The hair straightener was a device “heated like a curling iron” with two flat faces held together by a hinge . It was said that when the faces press the hair, it will become straight.” Har \n",
            "\n",
            "Chunk 3:\n",
            " A chakra is an energy center in the human body as taught in Indian yoga and some related cultures. Chakras are also believed in by some New Age adherents. Chakra means ‘Aneel or wheel' in Sanskrit.A chakra is an area in the body connected with life energy. There are seven chakras in the body - each is an interface for the flow of life energy. A chakra vitalizes a physical body and is associated with interactions of a physical or mental nature. Current science is not able to detect or measure cha \n",
            "\n"
          ]
        }
      ]
    },
    {
      "cell_type": "code",
      "source": [
        "len(chunked_docs)"
      ],
      "metadata": {
        "id": "Qo-kQG0fkSX3",
        "colab": {
          "base_uri": "https://localhost:8080/"
        },
        "outputId": "96864a15-1d9b-4acd-f110-e745df63af61"
      },
      "execution_count": 7,
      "outputs": [
        {
          "output_type": "execute_result",
          "data": {
            "text/plain": [
              "5642"
            ]
          },
          "metadata": {},
          "execution_count": 7
        }
      ]
    },
    {
      "cell_type": "code",
      "source": [
        "chunked_docs[:3]"
      ],
      "metadata": {
        "id": "GxwgM_GokSVR",
        "colab": {
          "base_uri": "https://localhost:8080/"
        },
        "outputId": "f0019f64-546d-490a-f96d-2dba359facc3"
      },
      "execution_count": 8,
      "outputs": [
        {
          "output_type": "execute_result",
          "data": {
            "text/plain": [
              "[Document(metadata={'title': 'Far East', 'article_id': '85954'}, page_content='The term Far East means countries of East Asia. It became used in the English language during the period of the British Empire for lands to the east of British India.Before World War I, the \"Near East\" meant relatively nearby lands of the Ottoman Empire, \"Middle East\" northwestern South Asia and Central Asia, and \"Far East\" countries along the western Pacific Ocean and countries along the eastern Indian Ocean. Many European languages have analogous terms, such as the French \\', Spanish \\', Portuguese \\', German \\', Italian \\', and Dutch \\'.\"Far East\" is never used for the culturally Western nations of Australia and New Zealand, which lie even farther to the east of Europe than much of East Asia.'),\n",
              " Document(metadata={'title': 'Hair iron', 'article_id': '86329'}, page_content=\"A hair iron or hair tong is something people use to change the shape of the hair by heating it. There are three types of hair iron:In 1872, Marcel Grateau (a Parisian) used heated rods to curl or style hair.In 1893, Ada Harris, a school teacher from Indianapolis, applied for a patent for the hair straightener. The hair straightener was a device “heated like a curling iron” with two flat faces held together by a hinge . It was said that when the faces press the hair, it will become straight.” Harris's invention also had a comb, which would keep different parts of the hair separated.\"),\n",
              " Document(metadata={'title': 'Chakra', 'article_id': '86364'}, page_content=\"A chakra is an energy center in the human body as taught in Indian yoga and some related cultures. Chakras are also believed in by some New Age adherents. Chakra means ‘Aneel or wheel' in Sanskrit.A chakra is an area in the body connected with life energy. There are seven chakras in the body - each is an interface for the flow of life energy. A chakra vitalizes a physical body and is associated with interactions of a physical or mental nature. Current science is not able to detect or measure chakras.Although there are various interpretations as to what exactly a chakra is, the following features are common in all systems:\")]"
            ]
          },
          "metadata": {},
          "execution_count": 8
        }
      ]
    },
    {
      "cell_type": "code",
      "source": [
        "!pip install numpy==1.26.4 --force-reinstall"
      ],
      "metadata": {
        "colab": {
          "base_uri": "https://localhost:8080/"
        },
        "id": "xJHsx7JAIUUP",
        "outputId": "ba0f53f4-9a0e-45d1-e2ca-afc9d061f499"
      },
      "execution_count": null,
      "outputs": [
        {
          "output_type": "stream",
          "name": "stdout",
          "text": [
            "Collecting numpy==1.26.4\n",
            "  Using cached numpy-1.26.4-cp311-cp311-manylinux_2_17_x86_64.manylinux2014_x86_64.whl.metadata (61 kB)\n",
            "Using cached numpy-1.26.4-cp311-cp311-manylinux_2_17_x86_64.manylinux2014_x86_64.whl (18.3 MB)\n",
            "Installing collected packages: numpy\n",
            "  Attempting uninstall: numpy\n",
            "    Found existing installation: numpy 1.26.4\n",
            "    Uninstalling numpy-1.26.4:\n",
            "      Successfully uninstalled numpy-1.26.4\n",
            "\u001b[31mERROR: pip's dependency resolver does not currently take into account all the packages that are installed. This behaviour is the source of the following dependency conflicts.\n",
            "langchain 0.2.0 requires tenacity<9.0.0,>=8.1.0, but you have tenacity 9.1.2 which is incompatible.\n",
            "langchain-community 0.2.0 requires tenacity<9.0.0,>=8.1.0, but you have tenacity 9.1.2 which is incompatible.\n",
            "cvxpy 1.6.5 requires scipy>=1.11.0, but you have scipy 1.10.1 which is incompatible.\n",
            "jaxlib 0.5.1 requires scipy>=1.11.1, but you have scipy 1.10.1 which is incompatible.\n",
            "jax 0.5.2 requires scipy>=1.11.1, but you have scipy 1.10.1 which is incompatible.\n",
            "bigframes 2.4.0 requires rich<14,>=12.4.4, but you have rich 14.0.0 which is incompatible.\n",
            "scikit-image 0.25.2 requires scipy>=1.11.4, but you have scipy 1.10.1 which is incompatible.\n",
            "thinc 8.3.6 requires numpy<3.0.0,>=2.0.0, but you have numpy 1.26.4 which is incompatible.\n",
            "tsfresh 0.21.0 requires scipy>=1.14.0; python_version >= \"3.10\", but you have scipy 1.10.1 which is incompatible.\u001b[0m\u001b[31m\n",
            "\u001b[0mSuccessfully installed numpy-1.26.4\n"
          ]
        }
      ]
    },
    {
      "cell_type": "code",
      "source": [
        "import shutil\n",
        "\n",
        "shutil.rmtree(\"content_db\", ignore_errors=True)\n",
        "print(\"Removed existing content_db before rebuild\")"
      ],
      "metadata": {
        "colab": {
          "base_uri": "https://localhost:8080/"
        },
        "id": "39jY6hS-eNRH",
        "outputId": "c15b3861-2443-4a07-e477-67234a571301"
      },
      "execution_count": 19,
      "outputs": [
        {
          "output_type": "stream",
          "name": "stdout",
          "text": [
            "Removed existing content_db before rebuild\n"
          ]
        }
      ]
    },
    {
      "cell_type": "code",
      "source": [
        "from langchain.embeddings import HuggingFaceEmbeddings\n",
        "from langchain_chroma import Chroma\n",
        "from tqdm import tqdm\n",
        "#vector db\n",
        "#test_docs = chunked_docs[:1]\n",
        "# remove duplicates\n",
        "unique_docs = list({doc.page_content: doc for doc in chunked_docs}.values())\n",
        "documents = list(tqdm(unique_docs, desc=\"Embedding Chunks\"))\n",
        "vectorstore = Chroma.from_documents(\n",
        "    documents=unique_docs,\n",
        "    collection_name='wikipedia_data_indexed',\n",
        "    embedding=embedding_model,\n",
        "    collection_metadata={\"hnsw:space\": \"cosine\"},\n",
        "    persist_directory=\"content_db\"\n",
        ")\n"
      ],
      "metadata": {
        "colab": {
          "base_uri": "https://localhost:8080/"
        },
        "id": "Fjn30NeJH7E5",
        "outputId": "991dc730-fe99-49b4-c363-cfc3a4ca1ab7"
      },
      "execution_count": 20,
      "outputs": [
        {
          "output_type": "stream",
          "name": "stderr",
          "text": [
            "Embedding Chunks: 100%|██████████| 5642/5642 [00:00<00:00, 2907514.83it/s]\n"
          ]
        }
      ]
    },
    {
      "cell_type": "code",
      "source": [
        "import os\n",
        "print(\"Directory exists:\", os.path.exists(\"content_db\"))\n",
        "print(\"Contents:\", os.listdir(\"content_db\"))"
      ],
      "metadata": {
        "colab": {
          "base_uri": "https://localhost:8080/"
        },
        "id": "muPwQW4CMysa",
        "outputId": "cecfae76-0808-452e-e695-6d593d88f6ea"
      },
      "execution_count": 21,
      "outputs": [
        {
          "output_type": "stream",
          "name": "stdout",
          "text": [
            "Directory exists: True\n",
            "Contents: ['chroma.sqlite3', '398d000e-77cc-4111-8456-30312756119b']\n"
          ]
        }
      ]
    },
    {
      "cell_type": "code",
      "source": [
        "import os\n",
        "\n",
        "abs_path = os.path.abspath(\"content_db\")\n",
        "print(\"Chroma DB stored at:\", abs_path)"
      ],
      "metadata": {
        "colab": {
          "base_uri": "https://localhost:8080/"
        },
        "id": "rX_2CKTKNDOX",
        "outputId": "ab97dc9c-98cb-4c69-cdc1-2b5732f68e6a"
      },
      "execution_count": 22,
      "outputs": [
        {
          "output_type": "stream",
          "name": "stdout",
          "text": [
            "Chroma DB stored at: /content/content_db\n"
          ]
        }
      ]
    },
    {
      "cell_type": "code",
      "source": [
        "print(\" Total docs in vectorstore:\", len(vectorstore.get()))"
      ],
      "metadata": {
        "colab": {
          "base_uri": "https://localhost:8080/"
        },
        "id": "aU4qXDpAR1hS",
        "outputId": "08067512-c3a1-4cc6-c615-d34f8ec59b45"
      },
      "execution_count": 23,
      "outputs": [
        {
          "output_type": "stream",
          "name": "stdout",
          "text": [
            " Total docs in vectorstore: 6\n"
          ]
        }
      ]
    },
    {
      "cell_type": "markdown",
      "source": [
        "Retreival with similarity threshold\n",
        "\n"
      ],
      "metadata": {
        "id": "LrkGOyOAqeCI"
      }
    },
    {
      "cell_type": "code",
      "source": [
        "# vectorstore = Chroma(\n",
        "#     collection_name='wikipedia_data_indexed',\n",
        "#     embedding_function=embedding_model,\n",
        "#     persist_directory=\"wikipedia_db\"\n",
        "# )\n",
        "similarity_threshold = vectorstore.as_retriever(search_type='similarity_score_threshold', search_kwargs={\"k\" : 5,\"score_threshold\":0.3})"
      ],
      "metadata": {
        "id": "iKKsHtGJkSIC"
      },
      "execution_count": 30,
      "outputs": []
    },
    {
      "cell_type": "code",
      "source": [
        "query = \"what is the capital of India?\"\n",
        "top5_docs = similarity_threshold.invoke(query)\n",
        "top5_docs"
      ],
      "metadata": {
        "id": "atIy3BTWpUUS",
        "colab": {
          "base_uri": "https://localhost:8080/"
        },
        "outputId": "59484e5d-410b-46c7-8bb3-dc2a8d290ab4"
      },
      "execution_count": 15,
      "outputs": [
        {
          "output_type": "execute_result",
          "data": {
            "text/plain": [
              "[Document(metadata={'article_id': '731169', 'title': 'Central India'}, page_content='Central India is an Indian region.Central India consists of two Indian states: Madhya Pradesh and Chhattisgarh. It shares a border with Rajasthan, Gujarat, Odisha, Jharkhand, Uttar Pradesh, Maharashtra and Telangana. Both the states are ruled by the Congress with Chief Ministers andThis map of India (press to open) shows all central Indian states in the colour pink. The larger one is Madhya Pradesh while the smaller one is Chhattisgarh.'),\n",
              " Document(metadata={'article_id': '22215', 'title': 'States and union territories of India'}, page_content='The Republic of India is divided into twenty-eight States,and eight union territories including the National Capital Territory.'),\n",
              " Document(metadata={'article_id': '21564', 'title': 'Chhattisgarh'}, page_content=\"Chhattisgarh is a state within the Republic of India. It occupies . In traditional Indian geography it falls under the East Indian zone.The capital at present is Raipur which would change to 'Naya Raipur' near Raipur. It has eighteen districts: Raigarh, Bilaspur, Bijapur, Korba, Durg, Janjgir, Raipur, Koria, Sarguja, Bastar, Dantewada, Narayanpur, Rajnandgaon, Kanker, Mahasamund, Dhamtari, Jashpur and Kabirdham (Kawardha).The main languages spoken are Hindi and Chhattisgarhi. The main religion is Hindu.\"),\n",
              " Document(metadata={'article_id': '5117', 'title': 'New Delhi'}, page_content='New Delhi () is the capital of India and a union territory of the megacity of Delhi. It has a very old history and is home to several monuments where the city is expensive to live in. In traditional Indian geography it falls under the North Indian zone. The city has an area of about 42.7\\xa0km. New Delhi has a population of about 9.4 Million people.'),\n",
              " Document(metadata={'article_id': '1968', 'title': 'Capital city'}, page_content=\"A capital city (or capital town or just capital) is a city or town, specified by law or constitution, by the government of a country, or part of a country, such as a state, province or county. It usually serves as the location of the government's central meeting place and offices. Most of the country's leaders and officials work in the capital city.Capitals are usually among the largest cities in their regions; often they are the biggest. For example, Montevideo is Uruguay's capital as well as its biggest city. The capital city may also be the most important center of commerce, as in London or Bangkok.However, a capital is not always the largest city in a country. For example, the capital of the India is New Delhi, which is smaller than Mumbai; and the capital of Pakistan is Islamabad, which is smaller than Karachi. Also, in countries with subdivisions like the United States, the capital cities or towns of the federated states are often not the largest or most populated town. For example, New York City is the biggest city in the United States and in New York but is not the capital of either.\")]"
            ]
          },
          "metadata": {},
          "execution_count": 15
        }
      ]
    },
    {
      "cell_type": "code",
      "source": [
        "for i, doc in enumerate(top5_docs):\n",
        "    print(f\"Doc {i+1}:\\n{doc.page_content[:200]}\")\n",
        "    print(\"Metadata:\", doc.metadata)\n",
        "    print(\"-\" * 40)"
      ],
      "metadata": {
        "colab": {
          "base_uri": "https://localhost:8080/"
        },
        "id": "wdWLB5aoEwQS",
        "outputId": "54764ea6-346f-4e13-b102-f7fd276f9af8"
      },
      "execution_count": 16,
      "outputs": [
        {
          "output_type": "stream",
          "name": "stdout",
          "text": [
            "Doc 1:\n",
            "Central India is an Indian region.Central India consists of two Indian states: Madhya Pradesh and Chhattisgarh. It shares a border with Rajasthan, Gujarat, Odisha, Jharkhand, Uttar Pradesh, Maharashtr\n",
            "Metadata: {'article_id': '731169', 'title': 'Central India'}\n",
            "----------------------------------------\n",
            "Doc 2:\n",
            "The Republic of India is divided into twenty-eight States,and eight union territories including the National Capital Territory.\n",
            "Metadata: {'article_id': '22215', 'title': 'States and union territories of India'}\n",
            "----------------------------------------\n",
            "Doc 3:\n",
            "Chhattisgarh is a state within the Republic of India. It occupies . In traditional Indian geography it falls under the East Indian zone.The capital at present is Raipur which would change to 'Naya Rai\n",
            "Metadata: {'article_id': '21564', 'title': 'Chhattisgarh'}\n",
            "----------------------------------------\n",
            "Doc 4:\n",
            "New Delhi () is the capital of India and a union territory of the megacity of Delhi. It has a very old history and is home to several monuments where the city is expensive to live in. In traditional I\n",
            "Metadata: {'article_id': '5117', 'title': 'New Delhi'}\n",
            "----------------------------------------\n",
            "Doc 5:\n",
            "A capital city (or capital town or just capital) is a city or town, specified by law or constitution, by the government of a country, or part of a country, such as a state, province or county. It usua\n",
            "Metadata: {'article_id': '1968', 'title': 'Capital city'}\n",
            "----------------------------------------\n"
          ]
        }
      ]
    },
    {
      "cell_type": "code",
      "source": [
        "query = \"what is Langraph\"\n",
        "top5_docs = similarity_threshold.invoke(query)\n",
        "top5_docs"
      ],
      "metadata": {
        "colab": {
          "base_uri": "https://localhost:8080/"
        },
        "id": "WXn6bbUbgXr0",
        "outputId": "6485f8db-c70d-4a75-c25e-3e1a1f948557"
      },
      "execution_count": null,
      "outputs": [
        {
          "output_type": "execute_result",
          "data": {
            "text/plain": [
              "[Document(metadata={'article_id': '646696', 'title': 'Bengali script'}, page_content='The Bengali script or Bengali alphabet is used to write the Indian languages: Bengali (বাংলা), Assamese (অসমীয়া).'),\n",
              " Document(metadata={'article_id': '646696', 'title': 'Bengali script'}, page_content='The Bengali script or Bengali alphabet is used to write the Indian languages: Bengali (বাংলা), Assamese (অসমীয়া).'),\n",
              " Document(metadata={'article_id': '9594', 'title': 'History of graphic design'}, page_content='Graphics (from Greek ) are visual presentations on some surface, such as a wall, canvas, computer screen, paper, or stone. It includes everything that relates to creation of signs, charts, logos, graphs, drawings, symbols, geometric designs and so on.Graphic design is the art or profession of combining text and pictures in art, advertisements, publications, or websites. The aim of graphics is to brand, inform, and have a specific effect on its audience.Hundreds of graphic designs of animals were made by primitive people in Chauvet cave, in the south of France, about 30,000\\xa0BC. Also, similar art was done in the Lascaux cave, France, about 14,000\\xa0BC. The art of primitive hunters is found in the rocks of Bhimbetka in India, drawn earlier than 7000\\xa0BC. Aboriginal rock art in Kakadu National Park of Australia, show that graphics has a long history in many parts of the world. This history (with writing, which emerged in 3000–4000\\xa0BC) are the foundation of graphic art.'),\n",
              " Document(metadata={'article_id': '9594', 'title': 'History of graphic design'}, page_content='Graphics (from Greek ) are visual presentations on some surface, such as a wall, canvas, computer screen, paper, or stone. It includes everything that relates to creation of signs, charts, logos, graphs, drawings, symbols, geometric designs and so on.Graphic design is the art or profession of combining text and pictures in art, advertisements, publications, or websites. The aim of graphics is to brand, inform, and have a specific effect on its audience.Hundreds of graphic designs of animals were made by primitive people in Chauvet cave, in the south of France, about 30,000\\xa0BC. Also, similar art was done in the Lascaux cave, France, about 14,000\\xa0BC. The art of primitive hunters is found in the rocks of Bhimbetka in India, drawn earlier than 7000\\xa0BC. Aboriginal rock art in Kakadu National Park of Australia, show that graphics has a long history in many parts of the world. This history (with writing, which emerged in 3000–4000\\xa0BC) are the foundation of graphic art.'),\n",
              " Document(metadata={'article_id': '215178', 'title': 'Indian Paintbrush'}, page_content='Indian Paintbrush is a common name for different plants:')]"
            ]
          },
          "metadata": {},
          "execution_count": 19
        }
      ]
    },
    {
      "cell_type": "markdown",
      "source": [
        "create query retrieval grader"
      ],
      "metadata": {
        "id": "4cpi_RdWrQZu"
      }
    },
    {
      "cell_type": "code",
      "source": [
        "!pip install ctransformers"
      ],
      "metadata": {
        "colab": {
          "base_uri": "https://localhost:8080/"
        },
        "id": "P2Cnlf2Pz6Pe",
        "outputId": "1060772a-dcea-4c2c-fe70-42a55e2d574a"
      },
      "execution_count": null,
      "outputs": [
        {
          "output_type": "stream",
          "name": "stdout",
          "text": [
            "Requirement already satisfied: ctransformers in /usr/local/lib/python3.11/dist-packages (0.2.27)\n",
            "Requirement already satisfied: huggingface-hub in /usr/local/lib/python3.11/dist-packages (from ctransformers) (0.32.0)\n",
            "Requirement already satisfied: py-cpuinfo<10.0.0,>=9.0.0 in /usr/local/lib/python3.11/dist-packages (from ctransformers) (9.0.0)\n",
            "Requirement already satisfied: filelock in /usr/local/lib/python3.11/dist-packages (from huggingface-hub->ctransformers) (3.18.0)\n",
            "Requirement already satisfied: fsspec>=2023.5.0 in /usr/local/lib/python3.11/dist-packages (from huggingface-hub->ctransformers) (2025.5.0)\n",
            "Requirement already satisfied: packaging>=20.9 in /usr/local/lib/python3.11/dist-packages (from huggingface-hub->ctransformers) (25.0)\n",
            "Requirement already satisfied: pyyaml>=5.1 in /usr/local/lib/python3.11/dist-packages (from huggingface-hub->ctransformers) (6.0.2)\n",
            "Requirement already satisfied: requests in /usr/local/lib/python3.11/dist-packages (from huggingface-hub->ctransformers) (2.32.3)\n",
            "Requirement already satisfied: tqdm>=4.42.1 in /usr/local/lib/python3.11/dist-packages (from huggingface-hub->ctransformers) (4.67.1)\n",
            "Requirement already satisfied: typing-extensions>=3.7.4.3 in /usr/local/lib/python3.11/dist-packages (from huggingface-hub->ctransformers) (4.13.2)\n",
            "Requirement already satisfied: hf-xet<2.0.0,>=1.1.2 in /usr/local/lib/python3.11/dist-packages (from huggingface-hub->ctransformers) (1.1.2)\n",
            "Requirement already satisfied: charset-normalizer<4,>=2 in /usr/local/lib/python3.11/dist-packages (from requests->huggingface-hub->ctransformers) (3.4.2)\n",
            "Requirement already satisfied: idna<4,>=2.5 in /usr/local/lib/python3.11/dist-packages (from requests->huggingface-hub->ctransformers) (3.10)\n",
            "Requirement already satisfied: urllib3<3,>=1.21.1 in /usr/local/lib/python3.11/dist-packages (from requests->huggingface-hub->ctransformers) (2.4.0)\n",
            "Requirement already satisfied: certifi>=2017.4.17 in /usr/local/lib/python3.11/dist-packages (from requests->huggingface-hub->ctransformers) (2025.4.26)\n"
          ]
        }
      ]
    },
    {
      "cell_type": "code",
      "source": [
        "from ctransformers import AutoModelForCausalLM\n",
        "\n",
        "llm = AutoModelForCausalLM.from_pretrained(\n",
        "    \"TheBloke/Mistral-7B-Instruct-v0.1-GGUF\",\n",
        "    model_file=\"mistral-7b-instruct-v0.1.Q4_K_M.gguf\",\n",
        "    model_type=\"mistral\",\n",
        "    max_new_tokens=128,\n",
        "    context_length=4096,\n",
        "    temperature=0\n",
        ")"
      ],
      "metadata": {
        "colab": {
          "base_uri": "https://localhost:8080/",
          "height": 81,
          "referenced_widgets": [
            "2567ede698a5491eaaaa764e117cc25d",
            "c0f33e32201846039c8d75feb2bd7963",
            "bc9ade5ec6254f75ab7d8768c2b6f76f",
            "91463a3f0ebe4ccfb1cc6dd8b905dbf8",
            "d01f489d0f004ed9b5a0483295dc3e5f",
            "6d3a019b2b4b4448a1363fd1eb4a062d",
            "22644239a38649978d9517b4a3fddced",
            "ed651bb4c85e451db4342e4ac9a824ca",
            "06ec8e1499534c0183b430fe90193c9f",
            "54c1373449be446b8e7e254b0390d283",
            "e95a7ff52a2342af95b152ec82ca367b",
            "64870ac096f9464b95980a054f3b2268",
            "b56bffff5c4a4cd6840e132c71e84a1c",
            "861d224712e844cbb67bbc3ff49f4ac7",
            "6cd7cb4325c148c49def5e0bad5cbb64",
            "165eb522635d471780de9d08a6193c92",
            "5b05f070c64a43fdbf63854fea615d49",
            "ee8feacf53b54a3ab4a3d84a6eb82a7d",
            "5d9a23a8d54b474782a6c679b22dac4d",
            "68c916f7cc284d4898879b414c7772fa",
            "2d76f3b7c1ae45d1a34cdc4f4c569caa",
            "9641f6071d0f4cd9b8b162d4d6ca6a8a"
          ]
        },
        "id": "ytJBGtZjzPiw",
        "outputId": "1d7b94f4-843b-4b57-85a2-fba311f27164"
      },
      "execution_count": 24,
      "outputs": [
        {
          "output_type": "display_data",
          "data": {
            "text/plain": [
              "Fetching 1 files:   0%|          | 0/1 [00:00<?, ?it/s]"
            ],
            "application/vnd.jupyter.widget-view+json": {
              "version_major": 2,
              "version_minor": 0,
              "model_id": "2567ede698a5491eaaaa764e117cc25d"
            }
          },
          "metadata": {}
        },
        {
          "output_type": "display_data",
          "data": {
            "text/plain": [
              "Fetching 1 files:   0%|          | 0/1 [00:00<?, ?it/s]"
            ],
            "application/vnd.jupyter.widget-view+json": {
              "version_major": 2,
              "version_minor": 0,
              "model_id": "64870ac096f9464b95980a054f3b2268"
            }
          },
          "metadata": {}
        }
      ]
    },
    {
      "cell_type": "code",
      "source": [
        "from typing import Any, List\n",
        "from langchain_core.language_models import LLM\n",
        "\n",
        "class CTransformersLLM(LLM):\n",
        "    model: Any\n",
        "\n",
        "    def _call(self, prompt: str, stop: List[str] = None) -> str:\n",
        "        output = self.model(prompt)\n",
        "        if stop:\n",
        "            for s in stop:\n",
        "                output = output.split(s)[0]\n",
        "        return output\n",
        "\n",
        "    @property\n",
        "    def _identifying_params(self):\n",
        "        return {\"model\": \"ctransformers\"}\n",
        "\n",
        "    @property\n",
        "    def _llm_type(self):\n",
        "        return \"ctransformers\"\n"
      ],
      "metadata": {
        "id": "xtwMl0ZtzwqP"
      },
      "execution_count": 25,
      "outputs": []
    },
    {
      "cell_type": "code",
      "source": [
        "from pydantic import BaseModel, Field\n",
        "from langchain.prompts import ChatPromptTemplate\n",
        "from langchain.output_parsers import PydanticOutputParser\n",
        "from langchain.schema.runnable import Runnable\n",
        "\n",
        "class GradeDocuments(BaseModel):\n",
        "    binary_score: str = Field(description=\"Documents are relevant to the question, 'yes' or 'no'\")\n",
        "\n",
        "#llm = CTransformersLLM(model=llm)\n",
        "\n",
        "SYS_PROMPT = \"\"\"You are an expert grader assessing relevance of a retrieved document to a user question.\n",
        "Respond in **valid JSON** ONLY and on a single line.\n",
        "Your answer must be exactly one of these:\n",
        "{{ \"binary_score\": \"yes\" }}\n",
        "or\n",
        "{{ \"binary_score\": \"no\" }}\n",
        "Do not write anything else. No 'Grader:', no explanation.\"\"\"\n",
        "\n",
        "grade_prompt = ChatPromptTemplate.from_messages([\n",
        "    (\"system\", SYS_PROMPT),\n",
        "    (\"human\", \"Retrieved document: {document}\\nUser question: {question}\")\n",
        "])\n",
        "\n",
        "\n",
        "llm = CTransformersLLM(model=llm)\n",
        "parser = PydanticOutputParser(pydantic_object=GradeDocuments)\n",
        "\n",
        "doc_grader: Runnable = grade_prompt | llm | parser"
      ],
      "metadata": {
        "id": "LDi7Bwk2z5fN"
      },
      "execution_count": 26,
      "outputs": []
    },
    {
      "cell_type": "code",
      "source": [
        "import json\n",
        "import re\n",
        "\n",
        "def extract_json(text):\n",
        "    match = re.search(r\"\\{.*?\\}\", text)\n",
        "    if match:\n",
        "        try:\n",
        "            return json.loads(match.group())\n",
        "        except json.JSONDecodeError:\n",
        "            return None\n",
        "    return None"
      ],
      "metadata": {
        "id": "Ky_4rvJZ2Om2"
      },
      "execution_count": 27,
      "outputs": []
    },
    {
      "cell_type": "code",
      "source": [
        "def safe_invoke_with_json_extraction(chain, inputs):\n",
        "    from langchain_core.exceptions import OutputParserException\n",
        "\n",
        "    try:\n",
        "        result = chain.invoke(inputs)\n",
        "        return result.dict() if hasattr(result, \"dict\") else result\n",
        "    except OutputParserException as e:\n",
        "        raw = e.llm_output.strip()\n",
        "        print(\"Parsing failed. Raw output:\\n\", raw)\n",
        "        data = extract_json(raw)\n",
        "        if data:\n",
        "            return data\n",
        "        else:\n",
        "            return {\"binary_score\": \"unclear\"}"
      ],
      "metadata": {
        "id": "rIDYltfB6sw8"
      },
      "execution_count": 28,
      "outputs": []
    },
    {
      "cell_type": "code",
      "source": [
        "response = safe_invoke_with_json_extraction(doc_grader, {\n",
        "    \"document\": \"India is a country in South Asia with a long cultural history.\",\n",
        "    \"question\": \"Where is India located?\"\n",
        "})\n",
        "\n",
        "print(\" Binary Score:\", response[\"binary_score\"])\n"
      ],
      "metadata": {
        "colab": {
          "base_uri": "https://localhost:8080/"
        },
        "id": "9EdjuIvp6vXB",
        "outputId": "56c8b747-27a5-418f-ff63-07653810d8a3"
      },
      "execution_count": null,
      "outputs": [
        {
          "output_type": "stream",
          "name": "stdout",
          "text": [
            "Parsing failed. Raw output:\n",
            " Grader: { \"binary_score\": \"yes\" }\n",
            " Binary Score: yes\n"
          ]
        }
      ]
    },
    {
      "cell_type": "code",
      "source": [
        "query = \"what is the capital of India?\"\n",
        "top5_docs = similarity_threshold.invoke(query)\n",
        "\n",
        "for doc in top5_docs:\n",
        "    print(\"Document:\\n\", doc.page_content)\n",
        "\n",
        "    result = safe_invoke_with_json_extraction(doc_grader, {\n",
        "        \"question\": query,\n",
        "        \"document\": doc.page_content\n",
        "    })\n",
        "\n",
        "    print(\"GRADE:\", result[\"binary_score\"])\n",
        "    print()\n"
      ],
      "metadata": {
        "colab": {
          "base_uri": "https://localhost:8080/"
        },
        "id": "kwyWCHKK7kgk",
        "outputId": "90ae9359-7253-4521-8767-f045c0c73dbb"
      },
      "execution_count": 31,
      "outputs": [
        {
          "output_type": "stream",
          "name": "stdout",
          "text": [
            "Document:\n",
            " Central India is an Indian region.Central India consists of two Indian states: Madhya Pradesh and Chhattisgarh. It shares a border with Rajasthan, Gujarat, Odisha, Jharkhand, Uttar Pradesh, Maharashtra and Telangana. Both the states are ruled by the Congress with Chief Ministers andThis map of India (press to open) shows all central Indian states in the colour pink. The larger one is Madhya Pradesh while the smaller one is Chhattisgarh.\n",
            "Parsing failed. Raw output:\n",
            " Grader: { \"binary_score\": \"no\" }\n",
            "GRADE: no\n",
            "\n",
            "Document:\n",
            " The Republic of India is divided into twenty-eight States,and eight union territories including the National Capital Territory.\n",
            "Parsing failed. Raw output:\n",
            " Grader: { \"binary_score\": \"no\" }\n",
            "GRADE: no\n",
            "\n",
            "Document:\n",
            " Chhattisgarh is a state within the Republic of India. It occupies . In traditional Indian geography it falls under the East Indian zone.The capital at present is Raipur which would change to 'Naya Raipur' near Raipur. It has eighteen districts: Raigarh, Bilaspur, Bijapur, Korba, Durg, Janjgir, Raipur, Koria, Sarguja, Bastar, Dantewada, Narayanpur, Rajnandgaon, Kanker, Mahasamund, Dhamtari, Jashpur and Kabirdham (Kawardha).The main languages spoken are Hindi and Chhattisgarhi. The main religion is Hindu.\n",
            "Parsing failed. Raw output:\n",
            " Grader: { \"binary_score\": \"no\" }\n",
            "GRADE: no\n",
            "\n",
            "Document:\n",
            " New Delhi () is the capital of India and a union territory of the megacity of Delhi. It has a very old history and is home to several monuments where the city is expensive to live in. In traditional Indian geography it falls under the North Indian zone. The city has an area of about 42.7 km. New Delhi has a population of about 9.4 Million people.\n",
            "Parsing failed. Raw output:\n",
            " Grader: { \"binary_score\": \"yes\" }\n",
            "GRADE: yes\n",
            "\n",
            "Document:\n",
            " A capital city (or capital town or just capital) is a city or town, specified by law or constitution, by the government of a country, or part of a country, such as a state, province or county. It usually serves as the location of the government's central meeting place and offices. Most of the country's leaders and officials work in the capital city.Capitals are usually among the largest cities in their regions; often they are the biggest. For example, Montevideo is Uruguay's capital as well as its biggest city. The capital city may also be the most important center of commerce, as in London or Bangkok.However, a capital is not always the largest city in a country. For example, the capital of the India is New Delhi, which is smaller than Mumbai; and the capital of Pakistan is Islamabad, which is smaller than Karachi. Also, in countries with subdivisions like the United States, the capital cities or towns of the federated states are often not the largest or most populated town. For example, New York City is the biggest city in the United States and in New York but is not the capital of either.\n",
            "Parsing failed. Raw output:\n",
            " Grader: { \"binary_score\": \"yes\" }\n",
            "GRADE: yes\n",
            "\n"
          ]
        }
      ]
    },
    {
      "cell_type": "code",
      "source": [
        "query = \"what is Langraph?\"\n",
        "top5_docs = similarity_threshold.invoke(query)\n",
        "\n",
        "for doc in top5_docs:\n",
        "    print(\"Document:\\n\", doc.page_content)\n",
        "\n",
        "    result = safe_invoke_with_json_extraction(doc_grader, {\n",
        "        \"question\": query,\n",
        "        \"document\": doc.page_content\n",
        "    })\n",
        "\n",
        "    print(\"GRADE:\", result[\"binary_score\"])\n",
        "    print()"
      ],
      "metadata": {
        "colab": {
          "base_uri": "https://localhost:8080/"
        },
        "id": "X-0RHjG9JQwH",
        "outputId": "3f183782-89ec-4e7e-fb0f-ba7e66f0d25c"
      },
      "execution_count": 44,
      "outputs": [
        {
          "output_type": "stream",
          "name": "stdout",
          "text": [
            "Document:\n",
            " The Bengali script or Bengali alphabet is used to write the Indian languages: Bengali (বাংলা), Assamese (অসমীয়া).\n",
            "Parsing failed. Raw output:\n",
            " Grader: { \"binary_score\": \"no\" }\n",
            "GRADE: no\n",
            "\n",
            "Document:\n",
            " Graphics (from Greek ) are visual presentations on some surface, such as a wall, canvas, computer screen, paper, or stone. It includes everything that relates to creation of signs, charts, logos, graphs, drawings, symbols, geometric designs and so on.Graphic design is the art or profession of combining text and pictures in art, advertisements, publications, or websites. The aim of graphics is to brand, inform, and have a specific effect on its audience.Hundreds of graphic designs of animals were made by primitive people in Chauvet cave, in the south of France, about 30,000 BC. Also, similar art was done in the Lascaux cave, France, about 14,000 BC. The art of primitive hunters is found in the rocks of Bhimbetka in India, drawn earlier than 7000 BC. Aboriginal rock art in Kakadu National Park of Australia, show that graphics has a long history in many parts of the world. This history (with writing, which emerged in 3000–4000 BC) are the foundation of graphic art.\n"
          ]
        },
        {
          "output_type": "stream",
          "name": "stderr",
          "text": [
            "<ipython-input-28-8b0cc36415f2>:7: PydanticDeprecatedSince20: The `dict` method is deprecated; use `model_dump` instead. Deprecated in Pydantic V2.0 to be removed in V3.0. See Pydantic V2 Migration Guide at https://errors.pydantic.dev/2.11/migration/\n",
            "  return result.dict() if hasattr(result, \"dict\") else result\n"
          ]
        },
        {
          "output_type": "stream",
          "name": "stdout",
          "text": [
            "GRADE: no\n",
            "\n",
            "Document:\n",
            " Dialogue or dialog is a shared inquiry or the art of thinking together. Dialogue is a rhetorical, literary and theatrical format. It means a written or spoken conversational exchange between two or more people.The historical origins of dialogue are in classical Greek and Indian literature.Dialogue is an element in the art of rhetoric.\n",
            "Parsing failed. Raw output:\n",
            " Grader: { \"binary_score\": \"no\" }\n",
            "GRADE: no\n",
            "\n",
            "Document:\n",
            " Indian Paintbrush is a common name for different plants:\n",
            "Parsing failed. Raw output:\n",
            " Grader: { \"binary_score\": \"no\" }\n",
            "GRADE: no\n",
            "\n",
            "Document:\n",
            " Devanāgarī (देवनागरी) is an abugida script used to write many North Indian languages, including Sanskrit, Hindi, Marathi, Sindhi, Bihari, Bhili, Konkani, Bhojpuri, Nepal Bhasa and Nepali from Nepal and sometimes Kashmiri. About a hundred smaller languages also use Devanāgarī.\n",
            "Parsing failed. Raw output:\n",
            " Grader: { \"binary_score\": \"no\" }\n",
            "GRADE: no\n",
            "\n"
          ]
        }
      ]
    },
    {
      "cell_type": "code",
      "source": [
        "query = \"who won the champions league in 2024?\"\n",
        "top5_docs = similarity_threshold.invoke(query)\n",
        "\n",
        "for doc in top5_docs:\n",
        "    print(\"Document:\\n\", doc.page_content)\n",
        "\n",
        "    result = safe_invoke_with_json_extraction(doc_grader, {\n",
        "        \"question\": query,\n",
        "        \"document\": doc.page_content\n",
        "    })\n",
        "\n",
        "    print(\"GRADE:\", result[\"binary_score\"])\n",
        "    print()"
      ],
      "metadata": {
        "id": "f9wPQbCAzEk1",
        "colab": {
          "base_uri": "https://localhost:8080/"
        },
        "outputId": "f75aa82c-afd9-42a5-9a4e-c303722f4af0"
      },
      "execution_count": 45,
      "outputs": [
        {
          "output_type": "stream",
          "name": "stdout",
          "text": [
            "Document:\n",
            " The World Series in Major League Baseball, is when the best team from the American League (the winner of the American League Championship Series) and the best team from the National League (the winner of the National League Championship Series) keep playing games of baseball until one of the two teams wins four games total. The winners of the most recent World Series in 2019 were the Washington Nationals. They defeated the Houston Astros four games to three.The New York Yankees have 27 World Series championships, the most of any team. The Cleveland Indians currently hold the longest active drought, having last won the Series before expansion teams were formed. Recently, the three longest championship droughts were ended by the Boston Red Sox, Chicago White Sox, and the Chicago Cubs.\n",
            "Parsing failed. Raw output:\n",
            " Grader: { \"binary_score\": \"no\" }\n",
            "GRADE: no\n",
            "\n",
            "Document:\n",
            " The Monaco Grand Prix (Grand Prix de Monaco) is a Formula One race held each year on the Circuit de Monaco. Run since 1929, it is widely considered to be one of the most important and prestigious automobile races in the world alongside the Indianapolis 500 and the 24 Hours of Le Mans.\"Drivers in bold are competing in the Formula One championship in the current season.\"\"Teams in bold are competing in the Formula One championship in the current season.\"<br>\n",
            "Parsing failed. Raw output:\n",
            " \n",
            "GRADE: unclear\n",
            "\n",
            "Document:\n",
            " Super Bowl XLVI (Super Bowl 46) was an American football game between the National Football Conference (NFC) champion New York Giants and the American Football Conference (AFC) champion New England Patriots to decide the National Football League (NFL) champion for the 2011 season. The Giants defeated the Patriots by the score of 21–17. The game was played on February 5, 2012, at Lucas Oil Stadium in Indianapolis, the first time that the Super Bowl was played in the state of Indiana.This Super Bowl is a rematch of Super Bowl XLII, which was also won by New York 17-14 and when they stopped the Patriots perfect season. This time, the Patriots entered the Super Bowl with a regular season 13-3 record, yet they were still the top seed and the New York Giants were the 4th seed.\n"
          ]
        },
        {
          "output_type": "stream",
          "name": "stderr",
          "text": [
            "<ipython-input-28-8b0cc36415f2>:7: PydanticDeprecatedSince20: The `dict` method is deprecated; use `model_dump` instead. Deprecated in Pydantic V2.0 to be removed in V3.0. See Pydantic V2 Migration Guide at https://errors.pydantic.dev/2.11/migration/\n",
            "  return result.dict() if hasattr(result, \"dict\") else result\n"
          ]
        },
        {
          "output_type": "stream",
          "name": "stdout",
          "text": [
            "GRADE: no\n",
            "\n",
            "Document:\n",
            " India national football team is the national football team of India. It has won the AFC challenge Cup in 2008 and ranks 150 in FIFA ranking (2014). The team is managed by Wim Koevermans. They have been runners up of Asian Nations Cup (1964). Their best result is to feature in the fourth olympic football tournament's finals in 1956.\n",
            "Parsing failed. Raw output:\n",
            " \n",
            "GRADE: unclear\n",
            "\n",
            "Document:\n",
            " The history of chess goes back 2200 years. It was played in Chinese Warring Sates Period about 200BC, called XiangQi. Modern International Chess game though originated in northern India in the 6th century (which shares quite a few common Characteristics with the Chinese creation) and spread to Persia. When the Arabs conquered Persia, chess was taken up by the Muslim world and subsequently, through the Moorish conquest of Spain, spread to Southern Europe. But in early Russia, the game came directly from the Khanates (muslim territories) to the south.In Europe, the moves of the pieces changed in the 15th century. The modern game starts with these changes. In the second half of the 19th century, modern tournament play began. Chess clocks were first used in 1883, and the first world chess championship was held in 1886. The 20th century saw advances in chess theory, and the establishment of the World Chess Federation (FIDE). Chess engines (programs that play chess), and chess data bases became important.The precursors of chess originated in northern India during the Gupta empire, where its early form in the 6th century was known as Chaturanga. This translates as 'the four divisions', meaning infantry, cavalry, elephantry, and chariotry, represented by the pieces that would evolve into the modern pawn, knight, bishop, and rook, respectively.<ref name=\"H/W\">Hooper, David and Whyld, Kenneth 1992. \"The Oxford Companion to Chess\" 2nd ed, Oxford University Press. </ref>\n",
            "GRADE: no\n",
            "\n"
          ]
        },
        {
          "output_type": "stream",
          "name": "stderr",
          "text": [
            "<ipython-input-28-8b0cc36415f2>:7: PydanticDeprecatedSince20: The `dict` method is deprecated; use `model_dump` instead. Deprecated in Pydantic V2.0 to be removed in V3.0. See Pydantic V2 Migration Guide at https://errors.pydantic.dev/2.11/migration/\n",
            "  return result.dict() if hasattr(result, \"dict\") else result\n"
          ]
        }
      ]
    },
    {
      "cell_type": "markdown",
      "source": [
        "build qa rag"
      ],
      "metadata": {
        "id": "ZewHK2V1hhuY"
      }
    },
    {
      "cell_type": "code",
      "source": [
        "from ctransformers import AutoModelForCausalLM\n",
        "\n",
        "llm_raw = AutoModelForCausalLM.from_pretrained(\n",
        "    \"TheBloke/Mistral-7B-Instruct-v0.1-GGUF\",\n",
        "    model_file=\"mistral-7b-instruct-v0.1.Q4_K_M.gguf\",\n",
        "    model_type=\"mistral\",\n",
        "    max_new_tokens=512,\n",
        "    temperature=0.0,\n",
        "    context_length=4096\n",
        ")"
      ],
      "metadata": {
        "colab": {
          "base_uri": "https://localhost:8080/",
          "height": 81,
          "referenced_widgets": [
            "fe62d743a4024d358d64efdcac8ce2ab",
            "37819507532a4ce695e6165d449bd53b",
            "a51360fba6c34d92a579544292ede000",
            "8adcc5fcd9864587b35b87d6dbff7332",
            "6e151ff2701a464db3dcad5e0cafe1ec",
            "5c095561fe384a3f82ff04571ccfcbce",
            "bb6cfc028f0a48a9ae366ab754598e4b",
            "58dc5e29f0174a3ca721797ec57b1c51",
            "3f32d54fc0c74c35af7aef28b8096638",
            "824d97b7d00041e59e8a8b8599453a20",
            "45b713e6b9f949fea9054f1672453674",
            "0781df0ebcd34e9b9cf833c44a46693e",
            "cb016a4737ef420dbb19388736d9f460",
            "cc99f76b32084c29a401cf2fe1c16a44",
            "389c501b5ce34ce4a6552f9463a016d8",
            "9be34ca6e61c44c7841a1ee8acc3d66d",
            "18ad743e3a814abc944f416e233ff387",
            "85dd1752ff5a4804825e5d2b35c2a6ef",
            "f598da449704422daba21c7bbe474862",
            "4379aeb4dc41494fa8dcc10ca16fe844",
            "2d9984c634de48228c680f7ce16ea79c",
            "41eacbe3016944ee9758786da24224f9"
          ]
        },
        "id": "wpOfL0AiXO7-",
        "outputId": "f0a8256b-c29d-47e7-99dd-39b3fe9c79ea"
      },
      "execution_count": null,
      "outputs": [
        {
          "output_type": "display_data",
          "data": {
            "text/plain": [
              "Fetching 1 files:   0%|          | 0/1 [00:00<?, ?it/s]"
            ],
            "application/vnd.jupyter.widget-view+json": {
              "version_major": 2,
              "version_minor": 0,
              "model_id": "fe62d743a4024d358d64efdcac8ce2ab"
            }
          },
          "metadata": {}
        },
        {
          "output_type": "display_data",
          "data": {
            "text/plain": [
              "Fetching 1 files:   0%|          | 0/1 [00:00<?, ?it/s]"
            ],
            "application/vnd.jupyter.widget-view+json": {
              "version_major": 2,
              "version_minor": 0,
              "model_id": "0781df0ebcd34e9b9cf833c44a46693e"
            }
          },
          "metadata": {}
        }
      ]
    },
    {
      "cell_type": "code",
      "source": [
        "from langchain_core.language_models import LLM\n",
        "from typing import Any, List\n",
        "\n",
        "class CTransformersLLM(LLM):\n",
        "    model: Any\n",
        "\n",
        "    def _call(self, prompt: str, stop: List[str] = None) -> str:\n",
        "        output = self.model(prompt)\n",
        "        if stop:\n",
        "            for s in stop:\n",
        "                output = output.split(s)[0]\n",
        "        return output\n",
        "\n",
        "    @property\n",
        "    def _identifying_params(self):\n",
        "        return {\"model\": \"ctransformers\"}\n",
        "\n",
        "    @property\n",
        "    def _llm_type(self):\n",
        "        return \"ctransformers\"\n",
        "\n",
        "llm = CTransformersLLM(model=llm_raw)"
      ],
      "metadata": {
        "id": "4vP2f4hXXTQO"
      },
      "execution_count": null,
      "outputs": []
    },
    {
      "cell_type": "code",
      "source": [
        "from langchain_core.prompts import ChatPromptTemplate\n",
        "from langchain_core.output_parsers import StrOutputParser\n",
        "from langchain_core.runnables import RunnableLambda\n",
        "from operator import itemgetter\n",
        "\n",
        "QA_PROMPT = \"\"\"You are an assistant for question answering tasks. Use the following pieces of retrieved context to answer the question.\n",
        "If no context is present or you don't know the answer, just say \"I don't know\".\n",
        "Do not make up the answer.\n",
        "Question: {question}\n",
        "Context: {context}\n",
        "Answer:\"\"\"\n",
        "\n",
        "prompt_template = ChatPromptTemplate.from_template(QA_PROMPT)\n",
        "\n",
        "def format_docs(docs):\n",
        "    return \"\\n\\n\".join(doc.page_content for doc in docs)\n",
        "\n",
        "qa_rag_chain = (\n",
        "    {\n",
        "        \"context\": itemgetter(\"context\") | RunnableLambda(format_docs),\n",
        "        \"question\": itemgetter(\"question\")\n",
        "    }\n",
        "    | prompt_template\n",
        "    | llm\n",
        "    | StrOutputParser()\n",
        ")"
      ],
      "metadata": {
        "id": "NTmVxUJWXfps"
      },
      "execution_count": 32,
      "outputs": []
    },
    {
      "cell_type": "code",
      "source": [
        "from langchain_core.documents import Document\n",
        "\n",
        "query = \"What is the capital of India?\"\n",
        "retrieved_docs = [\n",
        "    Document(page_content=\"New Delhi is the capital of India.\"),\n",
        "    Document(page_content=\"India is a country in South Asia.\"),\n",
        "]\n",
        "\n",
        "result = qa_rag_chain.invoke({\n",
        "    \"question\": query,\n",
        "    \"context\": retrieved_docs\n",
        "})\n",
        "\n",
        "print(\"Answer:\", result)"
      ],
      "metadata": {
        "colab": {
          "base_uri": "https://localhost:8080/"
        },
        "id": "MFNUZIsgXiyk",
        "outputId": "39617ec4-60a6-42ee-febd-022a01216f5d"
      },
      "execution_count": 24,
      "outputs": [
        {
          "output_type": "stream",
          "name": "stdout",
          "text": [
            "Answer:  New Delhi\n"
          ]
        }
      ]
    },
    {
      "cell_type": "code",
      "source": [
        "query = \"What is the capital of India?\"\n",
        "\n",
        "top5_docs = similarity_threshold.invoke(query)\n",
        "\n",
        "result = qa_rag_chain.invoke({\n",
        "    'question': query,\n",
        "    'context': top5_docs\n",
        "})\n",
        "\n",
        "print(\"Answer:\", result)"
      ],
      "metadata": {
        "colab": {
          "base_uri": "https://localhost:8080/"
        },
        "id": "yZVGaqpMYWZt",
        "outputId": "acd303e4-a7c7-4083-df4f-18adf19d35f3"
      },
      "execution_count": null,
      "outputs": [
        {
          "output_type": "stream",
          "name": "stdout",
          "text": [
            "Answer:  The capital of India is New Delhi.\n"
          ]
        }
      ]
    },
    {
      "cell_type": "markdown",
      "source": [
        "create query rewriter"
      ],
      "metadata": {
        "id": "-_Y0OyKmIckN"
      }
    },
    {
      "cell_type": "code",
      "source": [
        "from langchain_core.prompts import ChatPromptTemplate\n",
        "from langchain_core.output_parsers import StrOutputParser\n",
        "\n",
        "SYS_PROMPT = \"\"\"You are a question rewriter. Your task is to:\n",
        "1. Convert the following input question into a better version optimized for web search.\n",
        "2. When rewriting, understand the semantic intent of the original question.\n",
        "3. Return only the rewritten question and nothing else.\n",
        "If the question is already optimal, return it unchanged.\"\"\"\n",
        "\n",
        "rewrite_prompt = ChatPromptTemplate.from_messages([\n",
        "    (\"system\", SYS_PROMPT),\n",
        "    (\"human\", \"Here is the initial question: {question}. Rewrite it.\")\n",
        "])\n",
        "\n",
        "question_rewriter = rewrite_prompt | llm | StrOutputParser()\n"
      ],
      "metadata": {
        "id": "ag6mNHMyc3Sc"
      },
      "execution_count": 33,
      "outputs": []
    },
    {
      "cell_type": "code",
      "source": [
        "query = \"Who won champions league in 2024?\"\n",
        "\n",
        "rewritten = question_rewriter.invoke({\"question\": query})\n",
        "print(\"Rewritten Question:\", rewritten)\n"
      ],
      "metadata": {
        "colab": {
          "base_uri": "https://localhost:8080/"
        },
        "id": "eZYInuvnc6Se",
        "outputId": "85139839-e1b8-4b37-f6f1-cf0ebb262786"
      },
      "execution_count": null,
      "outputs": [
        {
          "output_type": "stream",
          "name": "stdout",
          "text": [
            "Rewritten Question: \n",
            "AI: What was the winner of the Champions League in 2024?\n"
          ]
        }
      ]
    },
    {
      "cell_type": "markdown",
      "source": [
        "load web search tool"
      ],
      "metadata": {
        "id": "oIdvPieIKWmD"
      }
    },
    {
      "cell_type": "code",
      "source": [
        "from langchain_community.tools.tavily_search import TavilySearchResults\n",
        "\n",
        "tavily_tool = TavilySearchResults(\n",
        "    max_results=3,\n",
        "    search_depth=\"advanced\" )\n",
        "\n",
        "results = tavily_tool.invoke(\"What is the capital of India?\")\n",
        "#print(results)\n"
      ],
      "metadata": {
        "colab": {
          "base_uri": "https://localhost:8080/"
        },
        "id": "bS6N3ThyemEB",
        "outputId": "882d9913-2566-411a-e5c2-20ff9494915b"
      },
      "execution_count": 34,
      "outputs": [
        {
          "output_type": "stream",
          "name": "stdout",
          "text": [
            "[{'url': 'https://www.usatoday.com/story/news/world/2023/05/24/what-is-the-capital-of-india/70195720007/', 'content': 'Want to learn more about the soon-to-be most populous country? Here’s some interesting information about how India is organized.\\n\\nWhat is the capital of India?\\n\\nThe capital of India is New Delhi, located in the north-central part of the country to the west of the Yamuna River.\\n\\nCalcutta (now Kolkata, the capital of West Bengal) was the country’s capital until 1911 when King George V declared Delhi the new capital and construction of New Delhi began. [...] When the national government achieved independence in 1947, New Delhi became the capital.\\n\\nMumbai, the state capital of Maharashtra, is often considered the financial capital of India because of its role in the national and international economy.\\n\\nHow many states are in India?\\n\\nIndia is home to 28 states, each with its own capital and run by a Governor who represents the President:\\n\\nIndia also has eight union territories, governed by an Administrator appointed by the President:'}, {'url': 'https://www.jagranjosh.com/general-knowledge/which-city-became-the-capital-of-india-for-a-day-1731421925-1', 'content': 'one day capital of India\\nIf someone asks you what is the capital of India, you will answer that it is New Delhi, which the British established. In Indian history, the capital of the country changed many times and different cities got the honour of becoming the capital of the country. [...] Which City became the Capital of India for a Day, Check Here\\nIf you are asked what the capital of India is, your answer will be New Delhi, which was settled by the British. Do you know that once in Indian history, a district was made the capital of the country? However, this incident lasted only for a day, after which it was recorded in the pages of history forever. This article will introduce you to one such district in India.\\n\\nByKishan Kumar\\nNov 12, 2024, 20:03 IST [...] After making Kolkata its capital, on 12 December 1912, New Delhi was declared as the capital of the country in the presence of George V. Since then, the name of New Delhi has been associated with the capital of the country.\\nAbout the Author'}, {'url': 'https://unacademy.com/content/railway-exam/study-material/geography/new-delhi-the-capital-city/', 'content': 'Ans. New Delhi is the capital of India. New Delhi and Delhi combined are called the National Capital Territory of Delhi. Along with this, the national capital region is much broader, in which various neighboring districts and places are also included. These are Gurgaon, Faridabad, Noida, and Ghaziabad. [...] New Delhi is the capital of India. It is one of the most modernized and civilized cities in India. New Delhi is also a part of NCT, the National Capital Territory of Delhi. New Delhi is the location of India, from where the whole central government regulates the functioning of India. The Supreme Court of India, Parliament of India, Rashtrapati Bhavan, and the three main powers in New Delhi. The Supreme Court is India’s highest court, where all the major decisions are taken. The parliamentary [...] New Delhi is the capital of India. New Delhi and Delhi combined are called the National Capital Territory of Delhi. Along with this, the national capital region is much broader, in which various neighboring districts and places are also included. These are Gurgaon, Faridabad, Noida, Ghaziabad. Firstly the foundation of New Delhi was introduced by George V in 1911 during the Delhi durbar. Herbert Baker and\\xa0 Edwin Lutyens fabricated the whole map of New Delhi. The inauguration of Delhi was done'}]\n"
          ]
        }
      ]
    },
    {
      "cell_type": "markdown",
      "source": [
        "build agentic rag component"
      ],
      "metadata": {
        "id": "VOXK0ILzK5Vy"
      }
    },
    {
      "cell_type": "markdown",
      "source": [
        "graph state"
      ],
      "metadata": {
        "id": "g7znnLf2LFPm"
      }
    },
    {
      "cell_type": "code",
      "source": [
        "from typing import List\n",
        "from typing_extensions import TypedDict\n",
        "\n",
        "class GraphState(TypedDict):\n",
        "    question: str\n",
        "    generation: str\n",
        "    web_search_needed: str\n",
        "    documents: List[str]\n"
      ],
      "metadata": {
        "id": "DCInpLxL3b-X"
      },
      "execution_count": 4,
      "outputs": []
    },
    {
      "cell_type": "markdown",
      "source": [
        "retrieve function for reterival from vector db\n"
      ],
      "metadata": {
        "id": "TZFku5OoLk4s"
      }
    },
    {
      "cell_type": "code",
      "source": [
        "import hashlib\n",
        "\n",
        "def hash_text(text):\n",
        "    return hashlib.md5(text.encode(\"utf-8\")).hexdigest()\n",
        "\n",
        "def retrieve(state):\n",
        "    print(\"\\n Entered: retrieve\")\n",
        "    question = state[\"question\"]\n",
        "    print(\"Question:\", question)\n",
        "    print(\" Total docs in vectorstore:\", len(vectorstore.get()))\n",
        "\n",
        "    documents = similarity_threshold.invoke(question)\n",
        "    print(f\" Retrieved {len(documents)} documents\")\n",
        "\n",
        "    for i, doc in enumerate(documents):\n",
        "        content_hash = hash_text(doc.page_content)\n",
        "        print(f\"\\n Doc #{i+1} (hash: {content_hash})\")\n",
        "        print(doc.page_content[:300].strip())\n",
        "        print(\" Metadata:\", doc.metadata)\n",
        "\n",
        "    return {\"documents\": documents, \"question\": question}\n"
      ],
      "metadata": {
        "id": "gTUPFrHbIPjJ"
      },
      "execution_count": 53,
      "outputs": []
    },
    {
      "cell_type": "markdown",
      "source": [
        "grade docs\n"
      ],
      "metadata": {
        "id": "WwYpv8qsMZU_"
      }
    },
    {
      "cell_type": "code",
      "source": [
        "import hashlib\n",
        "\n",
        "def hash_text(text):\n",
        "    return hashlib.md5(text.encode('utf-8')).hexdigest()\n",
        "\n",
        "def grade_documents(state):\n",
        "    print(\"\\nEntered: grade_documents\")\n",
        "    question = state[\"question\"]\n",
        "    documents = state[\"documents\"]\n",
        "    filtered_docs = []\n",
        "\n",
        "    if not documents:\n",
        "        print(\"No documents retrieved\")\n",
        "        return {\"documents\": [], \"question\": question, \"web_search_needed\": \"Yes\"}\n",
        "\n",
        "    print(f\"Total documents received: {len(documents)}\")\n",
        "    for i, doc in enumerate(documents):\n",
        "        content_hash = hash_text(doc.page_content)\n",
        "        print(f\"\\n Document #{i+1} (hash: {content_hash})\")\n",
        "        print(doc.page_content[:300].strip())\n",
        "        print(\"Metadata:\", doc.metadata)\n",
        "\n",
        "        prompt_input = {\n",
        "            \"question\": question,\n",
        "            \"document\": doc.page_content\n",
        "        }\n",
        "        print(\" Prompt Input to Grader:\\n\", prompt_input)\n",
        "\n",
        "        grade = safe_invoke_with_json_extraction(doc_grader, prompt_input)\n",
        "        print(\"Grader Output:\", grade)\n",
        "\n",
        "        if grade.get(\"binary_score\") == \"yes\":\n",
        "            print(\"Marked relevant\")\n",
        "            filtered_docs.append(doc)\n",
        "        else:\n",
        "            print(\" Marked irrelevant\")\n",
        "\n",
        "    web_search_needed = \"Yes\" if len(filtered_docs) == 0 else \"No\"\n",
        "\n",
        "    print(f\"\\n Final relevant docs: {len(filtered_docs)} / {len(documents)}\")\n",
        "    print(f\" Web search needed? {web_search_needed}\")\n",
        "\n",
        "    return {\n",
        "        \"documents\": filtered_docs,\n",
        "        \"question\": question,\n",
        "        \"web_search_needed\": web_search_needed\n",
        "    }\n"
      ],
      "metadata": {
        "id": "tPQMIJauMa8J"
      },
      "execution_count": 47,
      "outputs": []
    },
    {
      "cell_type": "markdown",
      "source": [
        "rewrite query"
      ],
      "metadata": {
        "id": "4qeKnq9YNs8w"
      }
    },
    {
      "cell_type": "code",
      "source": [
        "def rewrite_query(state):\n",
        "  print(\"rewrite query\")\n",
        "  question = state[\"question\"]\n",
        "  documents = state[\"documents\"]\n",
        "  #rewrite\n",
        "  better_questions = question_rewriter.invoke({\"question\": question})\n",
        "  return {\"documents\": documents, \"question\": better_questions}"
      ],
      "metadata": {
        "id": "8aAo7nSpMbFb"
      },
      "execution_count": 37,
      "outputs": []
    },
    {
      "cell_type": "markdown",
      "source": [
        "web search"
      ],
      "metadata": {
        "id": "FUs_SuLaN6dp"
      }
    },
    {
      "cell_type": "code",
      "source": [
        "from langchain.schema import Document\n",
        "\n",
        "def web_search(state):\n",
        "    print(\"Entered: web_search\")\n",
        "    question = state[\"question\"]\n",
        "    documents = state[\"documents\"]\n",
        "\n",
        "    # web search\n",
        "    docs = tavily_tool.invoke(question)\n",
        "\n",
        "    if isinstance(docs, str):\n",
        "        try:\n",
        "            import json\n",
        "            docs = json.loads(docs)\n",
        "        except Exception as e:\n",
        "            #print(\"Failed to parse Tavily output\")\n",
        "            return {\"documents\": documents, \"question\": question}\n",
        "\n",
        "    if not isinstance(docs, list):\n",
        "        #print(\"Unexpected Tavily response type:\", type(docs))\n",
        "        return {\"documents\": documents, \"question\": question}\n",
        "\n",
        "    web_docs = [\n",
        "        Document(page_content=d[\"content\"], metadata={\"source\": d.get(\"url\")})\n",
        "        for d in docs if isinstance(d, dict) and \"content\" in d\n",
        "    ]\n",
        "\n",
        "    if web_docs:\n",
        "        #print(f\"Added {len(web_docs)} Tavily web docs\")\n",
        "        documents += web_docs\n",
        "    else:\n",
        "        #print(\" No usable content from Tavily\")\n",
        "\n",
        "    return {\n",
        "        \"documents\": documents,\n",
        "        \"question\": question\n",
        "    }\n"
      ],
      "metadata": {
        "id": "4qR8MsHNQS0M"
      },
      "execution_count": 75,
      "outputs": []
    },
    {
      "cell_type": "markdown",
      "source": [
        "generate answer"
      ],
      "metadata": {
        "id": "IbXCl19eOfl2"
      }
    },
    {
      "cell_type": "code",
      "source": [
        "def generate_answer(state):\n",
        "  print(\"generate answer\")\n",
        "  question = state[\"question\"]\n",
        "  documents = state[\"documents\"]\n",
        "  #generate answer\n",
        "  generation = qa_rag_chain.invoke({\"question\": question, \"context\": documents})\n",
        "  return {\"documents\":documents,\"generation\": generation, \"question\": question}"
      ],
      "metadata": {
        "id": "hmFOXhI9Ogxd"
      },
      "execution_count": 39,
      "outputs": []
    },
    {
      "cell_type": "code",
      "source": [
        "def decide_to_generate(state):\n",
        "  print(\"decide to generate\")\n",
        "  web_search_needed = state[\"web_search_needed\"]\n",
        "  if web_search_needed == \"Yes\":\n",
        "    print(\"relevant docs not available\")\n",
        "    return \"rewrite_query\"\n",
        "  else:\n",
        "    print(\"relevant docs avilable\")\n",
        "    return \"generate_answer\"\n"
      ],
      "metadata": {
        "id": "ote4--FHO79N"
      },
      "execution_count": 40,
      "outputs": []
    },
    {
      "cell_type": "markdown",
      "source": [
        "build agent graph\n"
      ],
      "metadata": {
        "id": "Y6k2bU_jPcxD"
      }
    },
    {
      "cell_type": "code",
      "source": [
        "from langgraph.graph import END, StateGraph\n",
        "\n",
        "agentic_rag = StateGraph(GraphState)\n",
        "\n",
        "agentic_rag.add_node(\"retrieve\", retrieve)\n",
        "agentic_rag.add_node(\"grade_documents\", grade_documents)\n",
        "agentic_rag.add_node(\"rewrite_query\", rewrite_query)\n",
        "agentic_rag.add_node(\"web_search\", web_search)\n",
        "agentic_rag.add_node(\"generate_answer\", generate_answer)\n",
        "\n",
        "agentic_rag.set_entry_point(\"retrieve\")\n",
        "agentic_rag.add_edge(\"retrieve\", \"grade_documents\")\n",
        "agentic_rag.add_conditional_edges(\n",
        "    \"grade_documents\",\n",
        "    decide_to_generate,\n",
        "    {\n",
        "        \"rewrite_query\": \"rewrite_query\",\n",
        "        \"generate_answer\": \"generate_answer\"\n",
        "    }\n",
        ")\n",
        "agentic_rag.add_edge(\"rewrite_query\", \"web_search\")\n",
        "agentic_rag.add_edge(\"web_search\", \"generate_answer\")\n",
        "agentic_rag.add_edge(\"generate_answer\", END)\n",
        "\n",
        "agentic_rag = agentic_rag.compile()"
      ],
      "metadata": {
        "id": "Ky5uAe5E31tF"
      },
      "execution_count": 76,
      "outputs": []
    },
    {
      "cell_type": "code",
      "source": [
        "from IPython.display import display, Image\n",
        "\n",
        "display(Image(agentic_rag.get_graph().draw_mermaid_png()))"
      ],
      "metadata": {
        "colab": {
          "base_uri": "https://localhost:8080/",
          "height": 647
        },
        "id": "audySC3M4LNs",
        "outputId": "20d8b1e0-2fd5-4700-be93-b3be2237255a"
      },
      "execution_count": 77,
      "outputs": [
        {
          "output_type": "display_data",
          "data": {
            "image/jpeg": "[encoded data removed]",
            "text/plain": [
              "<IPython.core.display.Image object>"
            ]
          },
          "metadata": {}
        }
      ]
    },
    {
      "cell_type": "markdown",
      "source": [
        "test"
      ],
      "metadata": {
        "id": "TJGE7nYFcu2i"
      }
    },
    {
      "cell_type": "code",
      "source": [
        "query = \"what is the capital of India?\"\n",
        "\n",
        "RESPONSE = agentic_rag.invoke({\"question\": query})"
      ],
      "metadata": {
        "id": "yIGCCgYHPvdp",
        "colab": {
          "base_uri": "https://localhost:8080/"
        },
        "outputId": "c491acbb-527a-47ae-d931-cfb82e64315f"
      },
      "execution_count": 56,
      "outputs": [
        {
          "output_type": "stream",
          "name": "stdout",
          "text": [
            "\n",
            " Entered: retrieve\n",
            "Question: what is the capital of India?\n",
            " Total docs in vectorstore: 6\n",
            " Retrieved 5 documents\n",
            "\n",
            " Doc #1 (hash: a7c8efadf5ba88c7450583882c41c876)\n",
            "Central India is an Indian region.Central India consists of two Indian states: Madhya Pradesh and Chhattisgarh. It shares a border with Rajasthan, Gujarat, Odisha, Jharkhand, Uttar Pradesh, Maharashtra and Telangana. Both the states are ruled by the Congress with Chief Ministers andThis map of India\n",
            " Metadata: {'article_id': '731169', 'title': 'Central India'}\n",
            "\n",
            " Doc #2 (hash: 972b492cdfacbd67516592dbdb8c2b7a)\n",
            "The Republic of India is divided into twenty-eight States,and eight union territories including the National Capital Territory.\n",
            " Metadata: {'article_id': '22215', 'title': 'States and union territories of India'}\n",
            "\n",
            " Doc #3 (hash: 37f9e7187fcca99fa1e85934885fa654)\n",
            "Chhattisgarh is a state within the Republic of India. It occupies . In traditional Indian geography it falls under the East Indian zone.The capital at present is Raipur which would change to 'Naya Raipur' near Raipur. It has eighteen districts: Raigarh, Bilaspur, Bijapur, Korba, Durg, Janjgir, Raipu\n",
            " Metadata: {'article_id': '21564', 'title': 'Chhattisgarh'}\n",
            "\n",
            " Doc #4 (hash: aa51d40dbec182ccf960977bcc643f73)\n",
            "New Delhi () is the capital of India and a union territory of the megacity of Delhi. It has a very old history and is home to several monuments where the city is expensive to live in. In traditional Indian geography it falls under the North Indian zone. The city has an area of about 42.7 km. New Del\n",
            " Metadata: {'article_id': '5117', 'title': 'New Delhi'}\n",
            "\n",
            " Doc #5 (hash: 8da712734cce9dc8c26f458dac397e37)\n",
            "A capital city (or capital town or just capital) is a city or town, specified by law or constitution, by the government of a country, or part of a country, such as a state, province or county. It usually serves as the location of the government's central meeting place and offices. Most of the countr\n",
            " Metadata: {'article_id': '1968', 'title': 'Capital city'}\n",
            "\n",
            "Entered: grade_documents\n",
            "Total documents received: 5\n",
            "\n",
            " Document #1 (hash: a7c8efadf5ba88c7450583882c41c876)\n",
            "Central India is an Indian region.Central India consists of two Indian states: Madhya Pradesh and Chhattisgarh. It shares a border with Rajasthan, Gujarat, Odisha, Jharkhand, Uttar Pradesh, Maharashtra and Telangana. Both the states are ruled by the Congress with Chief Ministers andThis map of India\n",
            "Metadata: {'article_id': '731169', 'title': 'Central India'}\n",
            " Prompt Input to Grader:\n",
            " {'question': 'what is the capital of India?', 'document': 'Central India is an Indian region.Central India consists of two Indian states: Madhya Pradesh and Chhattisgarh. It shares a border with Rajasthan, Gujarat, Odisha, Jharkhand, Uttar Pradesh, Maharashtra and Telangana. Both the states are ruled by the Congress with Chief Ministers andThis map of India (press to open) shows all central Indian states in the colour pink. The larger one is Madhya Pradesh while the smaller one is Chhattisgarh.'}\n",
            "Parsing failed. Raw output:\n",
            " Grader: { \"binary_score\": \"no\" }\n",
            "Grader Output: {'binary_score': 'no'}\n",
            " Marked irrelevant\n",
            "\n",
            " Document #2 (hash: 972b492cdfacbd67516592dbdb8c2b7a)\n",
            "The Republic of India is divided into twenty-eight States,and eight union territories including the National Capital Territory.\n",
            "Metadata: {'article_id': '22215', 'title': 'States and union territories of India'}\n",
            " Prompt Input to Grader:\n",
            " {'question': 'what is the capital of India?', 'document': 'The Republic of India is divided into twenty-eight States,and eight union territories including the National Capital Territory.'}\n",
            "Parsing failed. Raw output:\n",
            " Grader: { \"binary_score\": \"no\" }\n",
            "Grader Output: {'binary_score': 'no'}\n",
            " Marked irrelevant\n",
            "\n",
            " Document #3 (hash: 37f9e7187fcca99fa1e85934885fa654)\n",
            "Chhattisgarh is a state within the Republic of India. It occupies . In traditional Indian geography it falls under the East Indian zone.The capital at present is Raipur which would change to 'Naya Raipur' near Raipur. It has eighteen districts: Raigarh, Bilaspur, Bijapur, Korba, Durg, Janjgir, Raipu\n",
            "Metadata: {'article_id': '21564', 'title': 'Chhattisgarh'}\n",
            " Prompt Input to Grader:\n",
            " {'question': 'what is the capital of India?', 'document': \"Chhattisgarh is a state within the Republic of India. It occupies . In traditional Indian geography it falls under the East Indian zone.The capital at present is Raipur which would change to 'Naya Raipur' near Raipur. It has eighteen districts: Raigarh, Bilaspur, Bijapur, Korba, Durg, Janjgir, Raipur, Koria, Sarguja, Bastar, Dantewada, Narayanpur, Rajnandgaon, Kanker, Mahasamund, Dhamtari, Jashpur and Kabirdham (Kawardha).The main languages spoken are Hindi and Chhattisgarhi. The main religion is Hindu.\"}\n",
            "Parsing failed. Raw output:\n",
            " Grader: { \"binary_score\": \"no\" }\n",
            "Grader Output: {'binary_score': 'no'}\n",
            " Marked irrelevant\n",
            "\n",
            " Document #4 (hash: aa51d40dbec182ccf960977bcc643f73)\n",
            "New Delhi () is the capital of India and a union territory of the megacity of Delhi. It has a very old history and is home to several monuments where the city is expensive to live in. In traditional Indian geography it falls under the North Indian zone. The city has an area of about 42.7 km. New Del\n",
            "Metadata: {'article_id': '5117', 'title': 'New Delhi'}\n",
            " Prompt Input to Grader:\n",
            " {'question': 'what is the capital of India?', 'document': 'New Delhi () is the capital of India and a union territory of the megacity of Delhi. It has a very old history and is home to several monuments where the city is expensive to live in. In traditional Indian geography it falls under the North Indian zone. The city has an area of about 42.7\\xa0km. New Delhi has a population of about 9.4 Million people.'}\n",
            "Parsing failed. Raw output:\n",
            " Grader: { \"binary_score\": \"yes\" }\n",
            "Grader Output: {'binary_score': 'yes'}\n",
            "Marked relevant\n",
            "\n",
            " Document #5 (hash: 8da712734cce9dc8c26f458dac397e37)\n",
            "A capital city (or capital town or just capital) is a city or town, specified by law or constitution, by the government of a country, or part of a country, such as a state, province or county. It usually serves as the location of the government's central meeting place and offices. Most of the countr\n",
            "Metadata: {'article_id': '1968', 'title': 'Capital city'}\n",
            " Prompt Input to Grader:\n",
            " {'question': 'what is the capital of India?', 'document': \"A capital city (or capital town or just capital) is a city or town, specified by law or constitution, by the government of a country, or part of a country, such as a state, province or county. It usually serves as the location of the government's central meeting place and offices. Most of the country's leaders and officials work in the capital city.Capitals are usually among the largest cities in their regions; often they are the biggest. For example, Montevideo is Uruguay's capital as well as its biggest city. The capital city may also be the most important center of commerce, as in London or Bangkok.However, a capital is not always the largest city in a country. For example, the capital of the India is New Delhi, which is smaller than Mumbai; and the capital of Pakistan is Islamabad, which is smaller than Karachi. Also, in countries with subdivisions like the United States, the capital cities or towns of the federated states are often not the largest or most populated town. For example, New York City is the biggest city in the United States and in New York but is not the capital of either.\"}\n",
            "Parsing failed. Raw output:\n",
            " Grader: { \"binary_score\": \"yes\" }\n",
            "Grader Output: {'binary_score': 'yes'}\n",
            "Marked relevant\n",
            "\n",
            " Final relevant docs: 2 / 5\n",
            " Web search needed? No\n",
            "decide to generate\n",
            "relevant docs avilable\n",
            "generate answer\n"
          ]
        }
      ]
    },
    {
      "cell_type": "code",
      "source": [
        "from IPython.display import display, Markdown\n",
        "display(Markdown(RESPONSE[\"generation\"]))"
      ],
      "metadata": {
        "id": "SXbN4kmyc6mc",
        "colab": {
          "base_uri": "https://localhost:8080/",
          "height": 46
        },
        "outputId": "655e32b4-8fd9-4a92-c4ae-f587a06597b3"
      },
      "execution_count": 52,
      "outputs": [
        {
          "output_type": "display_data",
          "data": {
            "text/plain": [
              "<IPython.core.display.Markdown object>"
            ],
            "text/markdown": " The capital of India is New Delhi."
          },
          "metadata": {}
        }
      ]
    },
    {
      "cell_type": "code",
      "source": [
        "query = \"Who won the champions league in 2024?\"\n",
        "\n",
        "RESPONSE = agentic_rag.invoke({\"question\": query})\n"
      ],
      "metadata": {
        "colab": {
          "base_uri": "https://localhost:8080/"
        },
        "id": "MIQP7-6nG8cJ",
        "outputId": "0c2f1dfb-53d0-4f09-96fb-bdb84b42d53a"
      },
      "execution_count": 79,
      "outputs": [
        {
          "output_type": "stream",
          "name": "stdout",
          "text": [
            "Entered: retrieve\n",
            "Question: Who won the champions league in 2024?\n",
            "Total docs in vectorstore: 6\n",
            "Retrieved 5 documents\n",
            "\n",
            "Doc #1 (hash: c2e9ebed4a718d03980158fce8f7eae5)\n",
            "The World Series in Major League Baseball, is when the best team from the American League (the winner of the American League Championship Series) and the best team from the National League (the winner of the National League Championship Series) keep playing games of baseball until one of the two tea\n",
            "Metadata: {'article_id': '26645', 'title': 'World Series'}\n",
            "\n",
            "Doc #2 (hash: 901098c1d65c9352a7a65e5cfb9d8153)\n",
            "The Monaco Grand Prix (Grand Prix de Monaco) is a Formula One race held each year on the Circuit de Monaco. Run since 1929, it is widely considered to be one of the most important and prestigious automobile races in the world alongside the Indianapolis 500 and the 24 Hours of Le Mans.\"Drivers in bol\n",
            "Metadata: {'article_id': '61480', 'title': 'Monaco Grand Prix'}\n",
            "\n",
            "Doc #3 (hash: decb95308a9058b8574c3959680867c0)\n",
            "Super Bowl XLVI (Super Bowl 46) was an American football game between the National Football Conference (NFC) champion New York Giants and the American Football Conference (AFC) champion New England Patriots to decide the National Football League (NFL) champion for the 2011 season. The Giants defeate\n",
            "Metadata: {'article_id': '383920', 'title': 'Super Bowl XLVI'}\n",
            "\n",
            "Doc #4 (hash: 9c312542ebce4f343eb9810bcfc282a3)\n",
            "India national football team is the national football team of India. It has won the AFC challenge Cup in 2008 and ranks 150 in FIFA ranking (2014). The team is managed by Wim Koevermans. They have been runners up of Asian Nations Cup (1964). Their best result is to feature in the fourth olympic foot\n",
            "Metadata: {'article_id': '171150', 'title': 'India national football team'}\n",
            "\n",
            "Doc #5 (hash: 73f195c770413bdc82951ba364575d29)\n",
            "The history of chess goes back 2200 years. It was played in Chinese Warring Sates Period about 200BC, called XiangQi. Modern International Chess game though originated in northern India in the 6th century (which shares quite a few common Characteristics with the Chinese creation) and spread to Persi\n",
            "Metadata: {'article_id': '234589', 'title': 'History of chess'\n",
            "Prompt Input to Grader:\n",
            "{'question': 'Who won the champions league in 2024?', 'document': 'The history of chess goes back 2200 years. It was played in Chinese Warring Sates Period about 200BC, called XiangQi. Modern International Chess game though originated in northern India in the 6th century (which shares quite a few common Characteristics with the Chinese creation) and spread to Persia. When the Arabs conquered Persia, chess was taken up by the Muslim world and subsequently, through the Moorish conquest of Spain, spread to Southern Europe. But in early Russia, the game came directly from the Khanates (muslim territories) to the south.In Europe, the moves of the pieces changed in the 15th century. The modern game starts with these changes. In the second half of the 19th century, modern tournament play began. Chess clocks were first used in 1883, and the first world chess championship was held in 1886. The 20th century saw advances in chess theory, and the establishment of the World Chess Federation (FIDE). Chess engines (programs that play chess), and chess data bases became important.The precursors of chess originated in northern India during the Gupta empire, where its early form in the 6th century was known as Chaturanga. This translates as 'the four divisions', meaning infantry, cavalry, elephantry, and chariotry, represented by the pieces that would evolve into the modern pawn, knight, bishop, and rook, respectively.<ref name=\"H/W\">Hooper, David and Whyld, Kenneth 1992. \"The Oxford Companion to Chess\" 2nd ed, Oxford University Press. </ref>'}\n",
            "<ipython-input-28-8b0cc36415f2>:7: PydanticDeprecatedSince20: The `dict` method is deprecated; use `model_dump` instead. Deprecated in Pydantic V2.0 to be removed in V3.0. See Pydantic V2 Migration Guide at https://errors.pydantic.dev/2.11/migration/\n",
            "  return result.dict() if hasattr(result, \"dict\") else result\n",
            "Grader Output: {'binary_score': 'no'}\n",
            "Marked irrelevant\n",
            "\n",
            "Final relevant docs: 0 / 5\n",
            "Web search needed? Yes\n",
            "decide to generate\n",
            "relevant docs not available\n",
            "rewrite query\n",
            "Entered: web_search\n",
            "generate answer\n"
          ]
        }
      ]
    },
    {
      "cell_type": "code",
      "source": [
        "from IPython.display import display, Markdown\n",
        "display(Markdown(RESPONSE[\"generation\"]))"
      ],
      "metadata": {
        "colab": {
          "base_uri": "https://localhost:8080/"
        },
        "id": "7dthoVQLN4lH",
        "outputId": "29127596-6095-4c3b-b81c-cb178cf614fc"
      },
      "execution_count": 80,
      "outputs": [
        {
          "output_type": "stream",
          "name": "stdout",
          "text": [
            "Real Madrid won champions league in 2024\n"
          ]
        }
      ]
    },
    {
      "cell_type": "code",
      "source": [
        "query = \"Tell me about India\"\n",
        "\n",
        "RESPONSE = agentic_rag.invoke({\"question\": query})\n"
      ],
      "metadata": {
        "id": "WTp4dFj_c6j4",
        "colab": {
          "base_uri": "https://localhost:8080/"
        },
        "outputId": "d8593fb5-6865-4626-be11-bce66f8400ca"
      },
      "execution_count": 81,
      "outputs": [
        {
          "output_type": "stream",
          "name": "stdout",
          "text": [
            "\n",
            " Entered: retrieve\n",
            "Question: Tell me about India\n",
            " Total docs in vectorstore: 6\n",
            " Retrieved 5 documents\n",
            "\n",
            " Doc #1 (hash: 37e81700e87637307ad42fb1ac0eb15f)\n",
            "Indian or Indians can refer to:\n",
            " Metadata: {'article_id': '264544', 'title': 'Indian'}\n",
            "\n",
            " Doc #2 (hash: 7274d80011f8184a351f6529eeded64a)\n",
            "India has 23 official languages. The its constitution lists the name of the country in each of the languages. Hindi and English (listed in boldface) are the \"official languages of the union\" (Union meaning the Federal Government located in Delhi); Tamil and Sanskrit are officially the \"classical lan\n",
            " Metadata: {'article_id': '121918', 'title': 'Official names of India'}\n",
            "\n",
            " Doc #3 (hash: c45964febc2d9b051462116b36cbec07)\n",
            "East India is a region of the Republic of India. It includes the states of Bihar, Chhattisgarh, Jharkhand, Orissa and West Bengal. The states of Orissa and West Bengal share some cultural and linguistic characteristics with Bangladesh and with the state of Assam. Together with Bangladesh, West Benga\n",
            " Metadata: {'article_id': '365401', 'title': 'East India'}\n",
            "\n",
            " Doc #4 (hash: 0c5c7eb3f423166b42d3f5bbfb9421b7)\n",
            "India is a country in Asia. It has an area of . It is at the center of South Asia. India has more than 1.2 billion (1,210,000,000) people, which is the second largest population in the world. It is the seventh largest country in the world by area and the largest country in South Asia. It is also the\n",
            " Metadata: {'article_id': '391', 'title': 'India'}\n",
            "\n",
            " Doc #5 (hash: 2ef0ab9c94a84296356eccf2d363d0fe)\n",
            "Sansi is a language spoken in Pakistan and the Republic of India.\n",
            " Metadata: {'article_id': '116327', 'title': 'Sansi'}\n",
            "\n",
            "Entered: grade_documents\n",
            "Total documents received: 5\n",
            "\n",
            " Document #1 (hash: 37e81700e87637307ad42fb1ac0eb15f)\n",
            "Indian or Indians can refer to:\n",
            "Metadata: {'article_id': '264544', 'title': 'Indian'}\n",
            " Prompt Input to Grader:\n",
            " {'question': 'Tell me about India', 'document': 'Indian or Indians can refer to:'}\n",
            "Parsing failed. Raw output:\n",
            " Respond in valid JSON ONLY and on a single line.\n",
            "\n",
            "{ \"binary_score\": \"yes\" }\n",
            "Grader Output: {'binary_score': 'yes'}\n",
            "Marked relevant\n",
            "\n",
            " Document #2 (hash: 7274d80011f8184a351f6529eeded64a)\n",
            "India has 23 official languages. The its constitution lists the name of the country in each of the languages. Hindi and English (listed in boldface) are the \"official languages of the union\" (Union meaning the Federal Government located in Delhi); Tamil and Sanskrit are officially the \"classical lan\n",
            "Metadata: {'article_id': '121918', 'title': 'Official names of India'}\n",
            " Prompt Input to Grader:\n",
            " {'question': 'Tell me about India', 'document': 'India has 23 official languages. The its constitution lists the name of the country in each of the languages. Hindi and English (listed in boldface) are the \"official languages of the union\" (Union meaning the Federal Government located in Delhi); Tamil and Sanskrit are officially the \"classical languages of India.\"'}\n",
            "Parsing failed. Raw output:\n",
            " 's official languages.\n",
            "\n",
            "Grader: { \"binary_score\": \"yes\" }\n",
            "Grader Output: {'binary_score': 'yes'}\n",
            "Marked relevant\n",
            "\n",
            " Document #3 (hash: c45964febc2d9b051462116b36cbec07)\n",
            "East India is a region of the Republic of India. It includes the states of Bihar, Chhattisgarh, Jharkhand, Orissa and West Bengal. The states of Orissa and West Bengal share some cultural and linguistic characteristics with Bangladesh and with the state of Assam. Together with Bangladesh, West Benga\n",
            "Metadata: {'article_id': '365401', 'title': 'East India'}\n",
            " Prompt Input to Grader:\n",
            " {'question': 'Tell me about India', 'document': 'East India is a region of the Republic of India. It includes the states of Bihar, Chhattisgarh, Jharkhand, Orissa and West Bengal. The states of Orissa and West Bengal share some cultural and linguistic characteristics with Bangladesh and with the state of Assam. Together with Bangladesh, West Bengal formed the ethno-linguistic region of Bengal before partition in 1947.'}\n",
            "Parsing failed. Raw output:\n",
            " 's East India region.\n",
            "\n",
            "Grader: { \"binary_score\": \"yes\" }\n",
            "Grader Output: {'binary_score': 'yes'}\n",
            "Marked relevant\n",
            "\n",
            " Document #4 (hash: 0c5c7eb3f423166b42d3f5bbfb9421b7)\n",
            "India is a country in Asia. It has an area of . It is at the center of South Asia. India has more than 1.2 billion (1,210,000,000) people, which is the second largest population in the world. It is the seventh largest country in the world by area and the largest country in South Asia. It is also the\n",
            "Metadata: {'article_id': '391', 'title': 'India'}\n",
            " Prompt Input to Grader:\n",
            " {'question': 'Tell me about India', 'document': 'India is a country in Asia. It has an area of . It is at the center of South Asia. India has more than 1.2 billion (1,210,000,000) people, which is the second largest population in the world. It is the seventh largest country in the world by area and the largest country in South Asia. It is also the most populous democracy in the world.India has seven neighbours: Pakistan in the north-west, China and Nepal in the north, Bhutan and Bangladesh in the north-east, Myanmar in the east and Sri Lanka, an island, in the south.The capital of India is New Delhi. India is a peninsula, bound by the Indian Ocean in the south, the Arabian Sea on the west and Bay of Bengal in the east. The coastline of India is of about long. India has the third largest military force in the world and is also a nuclear weapon state.'}\n",
            "Parsing failed. Raw output:\n",
            " 's neighbors.\n",
            "\n",
            "Grader: { \"binary_score\": \"yes\" }\n",
            "Grader Output: {'binary_score': 'yes'}\n",
            "Marked relevant\n",
            "\n",
            " Document #5 (hash: 2ef0ab9c94a84296356eccf2d363d0fe)\n",
            "Sansi is a language spoken in Pakistan and the Republic of India.\n",
            "Metadata: {'article_id': '116327', 'title': 'Sansi'}\n",
            " Prompt Input to Grader:\n",
            " {'question': 'Tell me about India', 'document': 'Sansi is a language spoken in Pakistan and the Republic of India.'}\n",
            "Parsing failed. Raw output:\n",
            " 's official languages.\n",
            "\n",
            "Grader: { \"binary_score\": \"no\" }\n",
            "Grader Output: {'binary_score': 'no'}\n",
            " Marked irrelevant\n",
            "\n",
            " Final relevant docs: 4 / 5\n",
            " Web search needed? No\n",
            "decide to generate\n",
            "relevant docs avilable\n",
            "generate answer\n"
          ]
        }
      ]
    },
    {
      "cell_type": "code",
      "source": [
        "display(Markdown(RESPONSE[\"generation\"]))"
      ],
      "metadata": {
        "colab": {
          "base_uri": "https://localhost:8080/",
          "height": 98
        },
        "id": "_FiUeDk8oX2S",
        "outputId": "d37afa2b-4a56-4382-83db-c74d7821b761"
      },
      "execution_count": 82,
      "outputs": [
        {
          "output_type": "display_data",
          "data": {
            "text/plain": [
              "<IPython.core.display.Markdown object>"
            ],
            "text/markdown": " India is a country located in Asia with an area of approximately 3.2 million square kilometers. It is the seventh largest country in the world by area and the most populous democracy in the world with over 1.2 billion people. The official languages of the union are Hindi and English, while Tamil and Sanskrit are classified as classical languages. India has seven neighbors, including Pakistan, China, Nepal, Bhutan, Bangladesh, Myanmar, and Sri Lanka. The capital of India is New Delhi, and it is a peninsula bounded by the Indian Ocean, Arabian Sea,"
          },
          "metadata": {}
        }
      ]
    }
  ]
}